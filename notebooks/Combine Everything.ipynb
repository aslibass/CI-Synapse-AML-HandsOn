{
  "cells": [
    {
      "cell_type": "code",
      "source": [
        "%%pyspark\r\n",
        "#load CIExport Customer Profiles\r\n",
        "\r\n",
        "customers = spark.read.load('abfss://filesystestmtcvj@datalaketestmtcvj.dfs.core.windows.net/sourcedata/CustomerProfileExport/Customer/2022/08/03/1346/*.csv', format='csv'\r\n",
        "## If header exists uncomment line below\r\n",
        ", header=True,\r\n",
        "inferSchema = True\r\n",
        ")\r\n",
        "display(customers.limit(10))"
      ],
      "outputs": [
        {
          "output_type": "display_data",
          "data": {
            "application/vnd.livy.statement-meta+json": {
              "spark_pool": null,
              "session_id": null,
              "statement_id": null,
              "state": "session_starting",
              "livy_statement_state": null,
              "queued_time": "2022-08-12T04:02:41.2401867Z",
              "session_start_time": "2022-08-12T04:02:41.2975418Z",
              "execution_start_time": null,
              "execution_finish_time": null,
              "spark_jobs": null
            },
            "text/plain": "StatementMeta(, , , SessionStarting, )"
          },
          "metadata": {}
        },
        {
          "output_type": "display_data",
          "data": {
            "application/vnd.synapse.widget-view+json": {
              "widget_id": "6485c72a-9613-4599-9d4d-08e678e4aa33",
              "widget_type": "Synapse.DataFrame"
            },
            "text/plain": "SynapseWidget(Synapse.DataFrame, 6485c72a-9613-4599-9d4d-08e678e4aa33)"
          },
          "metadata": {}
        }
      ],
      "execution_count": 1,
      "metadata": {
        "microsoft": {
          "language": "python"
        },
        "collapsed": false
      }
    },
    {
      "cell_type": "code",
      "source": [
        "customers.printSchema()"
      ],
      "outputs": [
        {
          "output_type": "display_data",
          "data": {
            "application/vnd.livy.statement-meta+json": {
              "spark_pool": null,
              "session_id": null,
              "statement_id": null,
              "state": "waiting",
              "livy_statement_state": null,
              "queued_time": "2022-08-12T04:02:41.2418055Z",
              "session_start_time": null,
              "execution_start_time": null,
              "execution_finish_time": null,
              "spark_jobs": null
            },
            "text/plain": "StatementMeta(, , , Waiting, )"
          },
          "metadata": {}
        },
        {
          "output_type": "stream",
          "name": "stdout",
          "text": [
            "root\n |-- CustomerId: string (nullable = true)\n |-- FirstName: string (nullable = true)\n |-- LastName: string (nullable = true)\n |-- Gender: string (nullable = true)\n |-- Email: string (nullable = true)\n |-- Telephone: string (nullable = true)\n |-- Country: string (nullable = true)\n |-- City: string (nullable = true)\n |-- State: string (nullable = true)\n |-- PostCode: integer (nullable = true)\n |-- StreetAddress: string (nullable = true)\n |-- DateOfBirth: timestamp (nullable = true)\n |-- Created_date: timestamp (nullable = true)\n |-- Source: string (nullable = true)\n |-- pid: integer (nullable = true)\n |-- surveytype: string (nullable = true)\n |-- surverydate: timestamp (nullable = true)\n |-- question: string (nullable = true)\n |-- answer: double (nullable = true)\n |-- SurveyEmail: string (nullable = true)\n |-- Name: string (nullable = true)\n |-- AzureDataLake_residents_source1_cid: integer (nullable = true)\n |-- AzureDataLake_residents_source1_cid_Alternate: integer (nullable = true)\n |-- AzureDataLake_residents_source2_cid: integer (nullable = true)\n |-- AzureDataLake_residents_source2_cid_Alternate: integer (nullable = true)\n |-- AzureDataLake_surveys_sid: integer (nullable = true)\n |-- AzureDataLake_surveys_sid_Alternate: string (nullable = true)\n\n"
          ]
        }
      ],
      "execution_count": 2,
      "metadata": {
        "jupyter": {
          "source_hidden": false,
          "outputs_hidden": false
        },
        "nteract": {
          "transient": {
            "deleting": false
          }
        }
      }
    },
    {
      "cell_type": "markdown",
      "source": [
        "need CID to identify the customer in the other files. So lets merge the two ID columns."
      ],
      "metadata": {
        "nteract": {
          "transient": {
            "deleting": false
          }
        }
      }
    },
    {
      "cell_type": "code",
      "source": [
        "#we're working with dates and it's easier using sql function libraries in spark\r\n",
        "\r\n",
        "from pyspark.sql.functions import to_date,col,when, datediff"
      ],
      "outputs": [
        {
          "output_type": "display_data",
          "data": {
            "application/vnd.livy.statement-meta+json": {
              "spark_pool": null,
              "session_id": null,
              "statement_id": null,
              "state": "waiting",
              "livy_statement_state": null,
              "queued_time": "2022-08-12T04:02:41.2439361Z",
              "session_start_time": null,
              "execution_start_time": null,
              "execution_finish_time": null,
              "spark_jobs": null
            },
            "text/plain": "StatementMeta(, , , Waiting, )"
          },
          "metadata": {}
        }
      ],
      "execution_count": 3,
      "metadata": {
        "jupyter": {
          "source_hidden": false,
          "outputs_hidden": false
        },
        "nteract": {
          "transient": {
            "deleting": false
          }
        }
      }
    },
    {
      "cell_type": "code",
      "source": [
        "customerCIDs = customers.withColumn(\"CID\",when(customers.AzureDataLake_residents_source1_cid.isNull(),customers.AzureDataLake_residents_source2_cid).otherwise(customers.AzureDataLake_residents_source1_cid))\r\n",
        "display(customerCIDs.limit(10)) "
      ],
      "outputs": [
        {
          "output_type": "display_data",
          "data": {
            "application/vnd.livy.statement-meta+json": {
              "spark_pool": null,
              "session_id": null,
              "statement_id": null,
              "state": "waiting",
              "livy_statement_state": null,
              "queued_time": "2022-08-12T04:02:41.2459253Z",
              "session_start_time": null,
              "execution_start_time": null,
              "execution_finish_time": null,
              "spark_jobs": null
            },
            "text/plain": "StatementMeta(, , , Waiting, )"
          },
          "metadata": {}
        },
        {
          "output_type": "display_data",
          "data": {
            "application/vnd.synapse.widget-view+json": {
              "widget_id": "62ccad10-f5fc-4d3b-ac78-b7833db70be9",
              "widget_type": "Synapse.DataFrame"
            },
            "text/plain": "SynapseWidget(Synapse.DataFrame, 62ccad10-f5fc-4d3b-ac78-b7833db70be9)"
          },
          "metadata": {}
        }
      ],
      "execution_count": 4,
      "metadata": {
        "jupyter": {
          "source_hidden": false,
          "outputs_hidden": false
        },
        "nteract": {
          "transient": {
            "deleting": false
          }
        },
        "collapsed": false
      }
    },
    {
      "cell_type": "code",
      "source": [
        "#selecting a few columns\r\n",
        "mycustomers = customerCIDs.select(\"CustomerId\",\"cid\",\"Name\",\"Gender\",\"Email\",\"City\",\"State\",\"DateOfBirth\")\r\n",
        "display(mycustomers.limit(10))"
      ],
      "outputs": [
        {
          "output_type": "display_data",
          "data": {
            "application/vnd.livy.statement-meta+json": {
              "spark_pool": null,
              "session_id": null,
              "statement_id": null,
              "state": "waiting",
              "livy_statement_state": null,
              "queued_time": "2022-08-12T04:02:41.247533Z",
              "session_start_time": null,
              "execution_start_time": null,
              "execution_finish_time": null,
              "spark_jobs": null
            },
            "text/plain": "StatementMeta(, , , Waiting, )"
          },
          "metadata": {}
        },
        {
          "output_type": "display_data",
          "data": {
            "application/vnd.synapse.widget-view+json": {
              "widget_id": "3e611858-6d26-4e17-b539-4f0c449f5e0f",
              "widget_type": "Synapse.DataFrame"
            },
            "text/plain": "SynapseWidget(Synapse.DataFrame, 3e611858-6d26-4e17-b539-4f0c449f5e0f)"
          },
          "metadata": {}
        }
      ],
      "execution_count": 5,
      "metadata": {
        "jupyter": {
          "source_hidden": false,
          "outputs_hidden": false
        },
        "nteract": {
          "transient": {
            "deleting": false
          }
        },
        "collapsed": false
      }
    },
    {
      "cell_type": "markdown",
      "source": [
        "Let's combine the survey data into this"
      ],
      "metadata": {
        "nteract": {
          "transient": {
            "deleting": false
          }
        }
      }
    },
    {
      "cell_type": "code",
      "source": [
        "#load survey data\r\n",
        "surveys = spark.read.load('abfss://filesystestmtcvj@datalaketestmtcvj.dfs.core.windows.net/sourcedata/surveys.csv', format='csv'\r\n",
        ", header=True\r\n",
        ", inferSchema=True\r\n",
        ")\r\n",
        "display(surveys.limit(10))"
      ],
      "outputs": [
        {
          "output_type": "display_data",
          "data": {
            "application/vnd.livy.statement-meta+json": {
              "spark_pool": null,
              "session_id": null,
              "statement_id": null,
              "state": "waiting",
              "livy_statement_state": null,
              "queued_time": "2022-08-12T04:02:41.2497659Z",
              "session_start_time": null,
              "execution_start_time": null,
              "execution_finish_time": null,
              "spark_jobs": null
            },
            "text/plain": "StatementMeta(, , , Waiting, )"
          },
          "metadata": {}
        },
        {
          "output_type": "display_data",
          "data": {
            "application/vnd.synapse.widget-view+json": {
              "widget_id": "323030c0-76a3-4e6c-9fe4-ca384560109e",
              "widget_type": "Synapse.DataFrame"
            },
            "text/plain": "SynapseWidget(Synapse.DataFrame, 323030c0-76a3-4e6c-9fe4-ca384560109e)"
          },
          "metadata": {}
        }
      ],
      "execution_count": 6,
      "metadata": {
        "jupyter": {
          "source_hidden": false,
          "outputs_hidden": false
        },
        "nteract": {
          "transient": {
            "deleting": false
          }
        },
        "collapsed": false
      }
    },
    {
      "cell_type": "markdown",
      "source": [
        "lets use the email field to combine the two datasets"
      ],
      "metadata": {
        "nteract": {
          "transient": {
            "deleting": false
          }
        }
      }
    },
    {
      "cell_type": "code",
      "source": [
        "surveys.printSchema()"
      ],
      "outputs": [
        {
          "output_type": "display_data",
          "data": {
            "application/vnd.livy.statement-meta+json": {
              "spark_pool": null,
              "session_id": null,
              "statement_id": null,
              "state": "waiting",
              "livy_statement_state": null,
              "queued_time": "2022-08-12T04:02:41.2574435Z",
              "session_start_time": null,
              "execution_start_time": null,
              "execution_finish_time": null,
              "spark_jobs": null
            },
            "text/plain": "StatementMeta(, , , Waiting, )"
          },
          "metadata": {}
        },
        {
          "output_type": "stream",
          "name": "stdout",
          "text": [
            "root\n |-- Email: string (nullable = true)\n |-- FirstName: string (nullable = true)\n |-- LastName: string (nullable = true)\n |-- pid: integer (nullable = true)\n |-- surveytype: string (nullable = true)\n |-- surverydate: timestamp (nullable = true)\n |-- question: string (nullable = true)\n |-- answer: integer (nullable = true)\n |-- sid: integer (nullable = true)\n\n"
          ]
        }
      ],
      "execution_count": 7,
      "metadata": {
        "jupyter": {
          "source_hidden": false,
          "outputs_hidden": false
        },
        "nteract": {
          "transient": {
            "deleting": false
          }
        }
      }
    },
    {
      "cell_type": "code",
      "source": [
        "#renaming one of the EMail columns to prevent confusion later\r\n",
        "surveys = surveys.withColumnRenamed(\"Email\",\"SurveyEmail\")"
      ],
      "outputs": [
        {
          "output_type": "display_data",
          "data": {
            "application/vnd.livy.statement-meta+json": {
              "spark_pool": null,
              "session_id": null,
              "statement_id": null,
              "state": "waiting",
              "livy_statement_state": null,
              "queued_time": "2022-08-12T04:02:41.2597966Z",
              "session_start_time": null,
              "execution_start_time": null,
              "execution_finish_time": null,
              "spark_jobs": null
            },
            "text/plain": "StatementMeta(, , , Waiting, )"
          },
          "metadata": {}
        }
      ],
      "execution_count": 8,
      "metadata": {
        "jupyter": {
          "source_hidden": false,
          "outputs_hidden": false
        },
        "nteract": {
          "transient": {
            "deleting": false
          }
        }
      }
    },
    {
      "cell_type": "code",
      "source": [
        "surveys.printSchema()"
      ],
      "outputs": [
        {
          "output_type": "display_data",
          "data": {
            "application/vnd.livy.statement-meta+json": {
              "spark_pool": null,
              "session_id": null,
              "statement_id": null,
              "state": "waiting",
              "livy_statement_state": null,
              "queued_time": "2022-08-12T04:02:41.2619208Z",
              "session_start_time": null,
              "execution_start_time": null,
              "execution_finish_time": null,
              "spark_jobs": null
            },
            "text/plain": "StatementMeta(, , , Waiting, )"
          },
          "metadata": {}
        },
        {
          "output_type": "stream",
          "name": "stdout",
          "text": [
            "root\n |-- SurveyEmail: string (nullable = true)\n |-- FirstName: string (nullable = true)\n |-- LastName: string (nullable = true)\n |-- pid: integer (nullable = true)\n |-- surveytype: string (nullable = true)\n |-- surverydate: timestamp (nullable = true)\n |-- question: string (nullable = true)\n |-- answer: integer (nullable = true)\n |-- sid: integer (nullable = true)\n\n"
          ]
        }
      ],
      "execution_count": 9,
      "metadata": {
        "jupyter": {
          "source_hidden": false,
          "outputs_hidden": false
        },
        "nteract": {
          "transient": {
            "deleting": false
          }
        }
      }
    },
    {
      "cell_type": "code",
      "source": [
        "customerAndSurvey = mycustomers.join(surveys,mycustomers.Email == surveys.SurveyEmail,\"inner\")\r\n",
        "display(customerAndSurvey.limit(10))"
      ],
      "outputs": [
        {
          "output_type": "display_data",
          "data": {
            "application/vnd.livy.statement-meta+json": {
              "spark_pool": null,
              "session_id": null,
              "statement_id": null,
              "state": "waiting",
              "livy_statement_state": null,
              "queued_time": "2022-08-12T04:02:41.2644283Z",
              "session_start_time": null,
              "execution_start_time": null,
              "execution_finish_time": null,
              "spark_jobs": null
            },
            "text/plain": "StatementMeta(, , , Waiting, )"
          },
          "metadata": {}
        },
        {
          "output_type": "display_data",
          "data": {
            "application/vnd.synapse.widget-view+json": {
              "widget_id": "4c5c2559-4fdd-44ec-af44-10f0f588d8ff",
              "widget_type": "Synapse.DataFrame"
            },
            "text/plain": "SynapseWidget(Synapse.DataFrame, 4c5c2559-4fdd-44ec-af44-10f0f588d8ff)"
          },
          "metadata": {}
        }
      ],
      "execution_count": 10,
      "metadata": {
        "jupyter": {
          "source_hidden": false,
          "outputs_hidden": false
        },
        "nteract": {
          "transient": {
            "deleting": false
          }
        },
        "collapsed": false
      }
    },
    {
      "cell_type": "markdown",
      "source": [
        "Now that we have the Customer IDs and surveys for each property, lets see what the average satisfaction results were from the survey. "
      ],
      "metadata": {
        "nteract": {
          "transient": {
            "deleting": false
          }
        }
      }
    },
    {
      "cell_type": "code",
      "source": [
        "#group by propery and customer id and whether the survey was for moving in or for renewing a lease.\r\n",
        "surveyavg = customerAndSurvey.groupBy(\"cid\",\"pid\",\"surveytype\").agg({'answer':'avg'}).fillna(0)\r\n",
        "display(surveyavg.limit(10))"
      ],
      "outputs": [
        {
          "output_type": "display_data",
          "data": {
            "application/vnd.livy.statement-meta+json": {
              "spark_pool": null,
              "session_id": null,
              "statement_id": null,
              "state": "waiting",
              "livy_statement_state": null,
              "queued_time": "2022-08-12T04:02:42.4104001Z",
              "session_start_time": null,
              "execution_start_time": null,
              "execution_finish_time": null,
              "spark_jobs": null
            },
            "text/plain": "StatementMeta(, , , Waiting, )"
          },
          "metadata": {}
        },
        {
          "output_type": "display_data",
          "data": {
            "application/vnd.synapse.widget-view+json": {
              "widget_id": "21584d63-bff6-4d65-9c86-5ea461f0ef23",
              "widget_type": "Synapse.DataFrame"
            },
            "text/plain": "SynapseWidget(Synapse.DataFrame, 21584d63-bff6-4d65-9c86-5ea461f0ef23)"
          },
          "metadata": {}
        }
      ],
      "execution_count": 11,
      "metadata": {
        "jupyter": {
          "source_hidden": false,
          "outputs_hidden": false
        },
        "nteract": {
          "transient": {
            "deleting": false
          }
        },
        "collapsed": false
      }
    },
    {
      "cell_type": "code",
      "source": [
        "#lets pivot this to get more columns to understand underlying drivers\r\n",
        "surveyAvgPivot = customerAndSurvey.groupBy(\"cid\",\"pid\",\"surveytype\").pivot(\"question\").agg({'answer':'avg'})"
      ],
      "outputs": [
        {
          "output_type": "display_data",
          "data": {
            "application/vnd.livy.statement-meta+json": {
              "spark_pool": null,
              "session_id": null,
              "statement_id": null,
              "state": "waiting",
              "livy_statement_state": null,
              "queued_time": "2022-08-12T04:02:43.5757121Z",
              "session_start_time": null,
              "execution_start_time": null,
              "execution_finish_time": null,
              "spark_jobs": null
            },
            "text/plain": "StatementMeta(, , , Waiting, )"
          },
          "metadata": {}
        }
      ],
      "execution_count": 12,
      "metadata": {
        "jupyter": {
          "source_hidden": false,
          "outputs_hidden": false
        },
        "nteract": {
          "transient": {
            "deleting": false
          }
        }
      }
    },
    {
      "cell_type": "markdown",
      "source": [
        "Select the chart view and setup the chart so that\r\n",
        "***Key***: pid, cid\r\n",
        "***Values***: (Select all the Columns, except surveytype)\r\n",
        "***Series Group***: surveytype\r\n",
        "***Aggregation***: avg\r\n",
        "***Stacked***: (checked)\r\n"
      ],
      "metadata": {
        "nteract": {
          "transient": {
            "deleting": false
          }
        }
      }
    },
    {
      "cell_type": "code",
      "source": [
        "display(surveyAvgPivot.limit(10))"
      ],
      "outputs": [
        {
          "output_type": "display_data",
          "data": {
            "application/vnd.livy.statement-meta+json": {
              "spark_pool": null,
              "session_id": null,
              "statement_id": null,
              "state": "waiting",
              "livy_statement_state": null,
              "queued_time": "2022-08-12T04:02:43.9029937Z",
              "session_start_time": null,
              "execution_start_time": null,
              "execution_finish_time": null,
              "spark_jobs": null
            },
            "text/plain": "StatementMeta(, , , Waiting, )"
          },
          "metadata": {}
        },
        {
          "output_type": "display_data",
          "data": {
            "application/vnd.synapse.widget-view+json": {
              "widget_id": "51ed11b3-f4c4-47f4-acdd-3b32edaf6c05",
              "widget_type": "Synapse.DataFrame"
            },
            "text/plain": "SynapseWidget(Synapse.DataFrame, 51ed11b3-f4c4-47f4-acdd-3b32edaf6c05)"
          },
          "metadata": {}
        }
      ],
      "execution_count": 13,
      "metadata": {
        "jupyter": {
          "source_hidden": false,
          "outputs_hidden": false
        },
        "nteract": {
          "transient": {
            "deleting": false
          }
        },
        "collapsed": false
      }
    },
    {
      "cell_type": "markdown",
      "source": [
        "lets get it in a format that we can join later to other data frames\r\n"
      ],
      "metadata": {
        "nteract": {
          "transient": {
            "deleting": false
          }
        }
      }
    },
    {
      "cell_type": "code",
      "source": [
        "customerAndSurvey.printSchema()"
      ],
      "outputs": [
        {
          "output_type": "display_data",
          "data": {
            "application/vnd.livy.statement-meta+json": {
              "spark_pool": null,
              "session_id": null,
              "statement_id": null,
              "state": "waiting",
              "livy_statement_state": null,
              "queued_time": "2022-08-12T04:02:44.3231625Z",
              "session_start_time": null,
              "execution_start_time": null,
              "execution_finish_time": null,
              "spark_jobs": null
            },
            "text/plain": "StatementMeta(, , , Waiting, )"
          },
          "metadata": {}
        },
        {
          "output_type": "stream",
          "name": "stdout",
          "text": [
            "root\n |-- CustomerId: string (nullable = true)\n |-- cid: integer (nullable = true)\n |-- Name: string (nullable = true)\n |-- Gender: string (nullable = true)\n |-- Email: string (nullable = true)\n |-- City: string (nullable = true)\n |-- State: string (nullable = true)\n |-- DateOfBirth: timestamp (nullable = true)\n |-- SurveyEmail: string (nullable = true)\n |-- FirstName: string (nullable = true)\n |-- LastName: string (nullable = true)\n |-- pid: integer (nullable = true)\n |-- surveytype: string (nullable = true)\n |-- surverydate: timestamp (nullable = true)\n |-- question: string (nullable = true)\n |-- answer: integer (nullable = true)\n |-- sid: integer (nullable = true)\n\n"
          ]
        }
      ],
      "execution_count": 14,
      "metadata": {
        "jupyter": {
          "source_hidden": false,
          "outputs_hidden": false
        },
        "nteract": {
          "transient": {
            "deleting": false
          }
        }
      }
    },
    {
      "cell_type": "code",
      "source": [
        "#selecting the columns we want and pivoting it\r\n",
        "customerAndSurveyAvgPivot = customerAndSurvey.groupBy( \"CustomerId\",\"Name\", \"Gender\",\"Email\",\"City\",\"State\",\"DateOfBirth\",\"cid\",\"pid\",\"surveytype\").pivot(\"question\").agg({'answer':'avg'})\r\n",
        "display(customerAndSurveyAvgPivot.limit(10))"
      ],
      "outputs": [
        {
          "output_type": "display_data",
          "data": {
            "application/vnd.livy.statement-meta+json": {
              "spark_pool": null,
              "session_id": null,
              "statement_id": null,
              "state": "waiting",
              "livy_statement_state": null,
              "queued_time": "2022-08-12T04:02:44.8483058Z",
              "session_start_time": null,
              "execution_start_time": null,
              "execution_finish_time": null,
              "spark_jobs": null
            },
            "text/plain": "StatementMeta(, , , Waiting, )"
          },
          "metadata": {}
        },
        {
          "output_type": "display_data",
          "data": {
            "application/vnd.synapse.widget-view+json": {
              "widget_id": "cb4ec0eb-7d9b-46f5-a954-dea743c0e1b9",
              "widget_type": "Synapse.DataFrame"
            },
            "text/plain": "SynapseWidget(Synapse.DataFrame, cb4ec0eb-7d9b-46f5-a954-dea743c0e1b9)"
          },
          "metadata": {}
        }
      ],
      "execution_count": 15,
      "metadata": {
        "jupyter": {
          "source_hidden": false,
          "outputs_hidden": false
        },
        "nteract": {
          "transient": {
            "deleting": false
          }
        },
        "collapsed": false
      }
    },
    {
      "cell_type": "markdown",
      "source": [
        "Lets tackle the Workorders file in a similar way. "
      ],
      "metadata": {
        "nteract": {
          "transient": {
            "deleting": false
          }
        }
      }
    },
    {
      "cell_type": "code",
      "source": [
        "#load the work orders data\r\n",
        "workorders = spark.read.load('abfss://filesystestmtcvj@datalaketestmtcvj.dfs.core.windows.net/sourcedata/workorders.csv', format='csv'\r\n",
        ", header=True\r\n",
        ", inferSchema=True\r\n",
        ")\r\n",
        "display(workorders.limit(10))"
      ],
      "outputs": [
        {
          "output_type": "display_data",
          "data": {
            "application/vnd.livy.statement-meta+json": {
              "spark_pool": null,
              "session_id": null,
              "statement_id": null,
              "state": "waiting",
              "livy_statement_state": null,
              "queued_time": "2022-08-12T04:02:45.464574Z",
              "session_start_time": null,
              "execution_start_time": null,
              "execution_finish_time": null,
              "spark_jobs": null
            },
            "text/plain": "StatementMeta(, , , Waiting, )"
          },
          "metadata": {}
        },
        {
          "output_type": "display_data",
          "data": {
            "application/vnd.synapse.widget-view+json": {
              "widget_id": "4b668d26-f30d-4b88-b320-d34ccbab3100",
              "widget_type": "Synapse.DataFrame"
            },
            "text/plain": "SynapseWidget(Synapse.DataFrame, 4b668d26-f30d-4b88-b320-d34ccbab3100)"
          },
          "metadata": {}
        }
      ],
      "execution_count": 16,
      "metadata": {
        "jupyter": {
          "source_hidden": false,
          "outputs_hidden": false
        },
        "nteract": {
          "transient": {
            "deleting": false
          }
        },
        "collapsed": false
      }
    },
    {
      "cell_type": "code",
      "source": [
        "workorders.printSchema()"
      ],
      "outputs": [
        {
          "output_type": "display_data",
          "data": {
            "application/vnd.livy.statement-meta+json": {
              "spark_pool": null,
              "session_id": null,
              "statement_id": null,
              "state": "waiting",
              "livy_statement_state": null,
              "queued_time": "2022-08-12T04:02:45.8521667Z",
              "session_start_time": null,
              "execution_start_time": null,
              "execution_finish_time": null,
              "spark_jobs": null
            },
            "text/plain": "StatementMeta(, , , Waiting, )"
          },
          "metadata": {}
        },
        {
          "output_type": "stream",
          "name": "stdout",
          "text": [
            "root\n |-- cid: integer (nullable = true)\n |-- Source: string (nullable = true)\n |-- pid: integer (nullable = true)\n |-- uid: integer (nullable = true)\n |-- workorder_type: string (nullable = true)\n |-- ServiceRequestDate: timestamp (nullable = true)\n |-- ServiceCompleteDate: timestamp (nullable = true)\n |-- wid: integer (nullable = true)\n\n"
          ]
        }
      ],
      "execution_count": 17,
      "metadata": {
        "jupyter": {
          "source_hidden": false,
          "outputs_hidden": false
        },
        "nteract": {
          "transient": {
            "deleting": false
          }
        }
      }
    },
    {
      "cell_type": "code",
      "source": [
        "#lets add a column that also takes into consideration effort.\r\n",
        "workorders = workorders.withColumn(\"Effort\",datediff(workorders.ServiceCompleteDate,workorders.ServiceRequestDate))\r\n",
        "display(workorders.limit(10))"
      ],
      "outputs": [
        {
          "output_type": "display_data",
          "data": {
            "application/vnd.livy.statement-meta+json": {
              "spark_pool": null,
              "session_id": null,
              "statement_id": null,
              "state": "waiting",
              "livy_statement_state": null,
              "queued_time": "2022-08-12T04:02:46.6659006Z",
              "session_start_time": null,
              "execution_start_time": null,
              "execution_finish_time": null,
              "spark_jobs": null
            },
            "text/plain": "StatementMeta(, , , Waiting, )"
          },
          "metadata": {}
        },
        {
          "output_type": "display_data",
          "data": {
            "application/vnd.synapse.widget-view+json": {
              "widget_id": "d9bb1a5c-54ed-4913-a25d-de347ae7498f",
              "widget_type": "Synapse.DataFrame"
            },
            "text/plain": "SynapseWidget(Synapse.DataFrame, d9bb1a5c-54ed-4913-a25d-de347ae7498f)"
          },
          "metadata": {}
        }
      ],
      "execution_count": 18,
      "metadata": {
        "jupyter": {
          "source_hidden": false,
          "outputs_hidden": false
        },
        "nteract": {
          "transient": {
            "deleting": false
          }
        },
        "collapsed": false
      }
    },
    {
      "cell_type": "code",
      "source": [
        "#aggregate the number of work orders\r\n",
        "workOrdersTotal = workorders.groupBy(\"cid\",\"pid\",\"uid\").agg({'workorder_type':'count','Effort':'sum'})\r\n",
        "display(workOrdersTotal.limit(10))"
      ],
      "outputs": [
        {
          "output_type": "display_data",
          "data": {
            "application/vnd.livy.statement-meta+json": {
              "spark_pool": null,
              "session_id": null,
              "statement_id": null,
              "state": "waiting",
              "livy_statement_state": null,
              "queued_time": "2022-08-12T04:02:47.3904082Z",
              "session_start_time": null,
              "execution_start_time": null,
              "execution_finish_time": null,
              "spark_jobs": null
            },
            "text/plain": "StatementMeta(, , , Waiting, )"
          },
          "metadata": {}
        },
        {
          "output_type": "display_data",
          "data": {
            "application/vnd.synapse.widget-view+json": {
              "widget_id": "d221a248-ab7c-4c16-9f8a-c2399f13fb60",
              "widget_type": "Synapse.DataFrame"
            },
            "text/plain": "SynapseWidget(Synapse.DataFrame, d221a248-ab7c-4c16-9f8a-c2399f13fb60)"
          },
          "metadata": {}
        }
      ],
      "execution_count": 19,
      "metadata": {
        "jupyter": {
          "source_hidden": false,
          "outputs_hidden": false
        },
        "nteract": {
          "transient": {
            "deleting": false
          }
        },
        "collapsed": false
      }
    },
    {
      "cell_type": "code",
      "source": [
        "#pivot the workorders by type and aggregate the effort for each property and unit\r\n",
        "workOrdersPivot = workorders.groupBy(\"cid\",\"pid\",\"uid\").pivot(\"workorder_type\").agg({'Effort':'sum'})\r\n",
        "display(workOrdersPivot.limit(10))"
      ],
      "outputs": [
        {
          "output_type": "display_data",
          "data": {
            "application/vnd.livy.statement-meta+json": {
              "spark_pool": null,
              "session_id": null,
              "statement_id": null,
              "state": "waiting",
              "livy_statement_state": null,
              "queued_time": "2022-08-12T04:02:47.9222074Z",
              "session_start_time": null,
              "execution_start_time": null,
              "execution_finish_time": null,
              "spark_jobs": null
            },
            "text/plain": "StatementMeta(, , , Waiting, )"
          },
          "metadata": {}
        },
        {
          "output_type": "display_data",
          "data": {
            "application/vnd.synapse.widget-view+json": {
              "widget_id": "4795a7a1-2a87-442b-887f-c331df15c11c",
              "widget_type": "Synapse.DataFrame"
            },
            "text/plain": "SynapseWidget(Synapse.DataFrame, 4795a7a1-2a87-442b-887f-c331df15c11c)"
          },
          "metadata": {}
        }
      ],
      "execution_count": 20,
      "metadata": {
        "jupyter": {
          "source_hidden": false,
          "outputs_hidden": false
        },
        "nteract": {
          "transient": {
            "deleting": false
          }
        },
        "collapsed": false
      }
    },
    {
      "cell_type": "code",
      "source": [
        "#rename to avoid join confusions\r\n",
        "workOrdersPivot = workOrdersPivot.withColumnRenamed(\"cid\",\"woCid\") \\\r\n",
        ".withColumnRenamed(\"pid\",\"woPid\") \\\r\n",
        ".withColumnRenamed(\"uid\",\"woUid\")"
      ],
      "outputs": [
        {
          "output_type": "display_data",
          "data": {
            "application/vnd.livy.statement-meta+json": {
              "spark_pool": null,
              "session_id": null,
              "statement_id": null,
              "state": "waiting",
              "livy_statement_state": null,
              "queued_time": "2022-08-12T04:02:48.2915677Z",
              "session_start_time": null,
              "execution_start_time": null,
              "execution_finish_time": null,
              "spark_jobs": null
            },
            "text/plain": "StatementMeta(, , , Waiting, )"
          },
          "metadata": {}
        }
      ],
      "execution_count": 21,
      "metadata": {
        "jupyter": {
          "source_hidden": false,
          "outputs_hidden": false
        },
        "nteract": {
          "transient": {
            "deleting": false
          }
        }
      }
    },
    {
      "cell_type": "code",
      "source": [
        "#print the schemas for both dataframes\r\n",
        "workOrdersPivot.printSchema()"
      ],
      "outputs": [
        {
          "output_type": "display_data",
          "data": {
            "application/vnd.livy.statement-meta+json": {
              "spark_pool": null,
              "session_id": null,
              "statement_id": null,
              "state": "waiting",
              "livy_statement_state": null,
              "queued_time": "2022-08-12T04:02:48.6894351Z",
              "session_start_time": null,
              "execution_start_time": null,
              "execution_finish_time": null,
              "spark_jobs": null
            },
            "text/plain": "StatementMeta(, , , Waiting, )"
          },
          "metadata": {}
        },
        {
          "output_type": "stream",
          "name": "stdout",
          "text": [
            "root\n |-- woCid: integer (nullable = true)\n |-- woPid: integer (nullable = true)\n |-- woUid: integer (nullable = true)\n |-- Air Conditioning: long (nullable = true)\n |-- Air Ducts or Vents: long (nullable = true)\n |-- Cabinet Doors: long (nullable = true)\n |-- Cabinets: long (nullable = true)\n |-- Carpet: long (nullable = true)\n |-- Ceiling: long (nullable = true)\n |-- Ceiling Fan: long (nullable = true)\n |-- Clean Unit: long (nullable = true)\n |-- Cleaning: long (nullable = true)\n |-- Dishwasher: long (nullable = true)\n |-- Door Repair or Replace: long (nullable = true)\n |-- Doorbell: long (nullable = true)\n |-- Drain: long (nullable = true)\n |-- Dryer: long (nullable = true)\n |-- Faucet: long (nullable = true)\n |-- Filter Replacement: long (nullable = true)\n |-- Garage Remote: long (nullable = true)\n |-- Garbage Disposal: long (nullable = true)\n |-- Heating: long (nullable = true)\n |-- Light Bulbs: long (nullable = true)\n |-- Light Fixture: long (nullable = true)\n |-- Lock or Exterior Door: long (nullable = true)\n |-- Lock or Interior Door: long (nullable = true)\n |-- Microwave: long (nullable = true)\n |-- Other: long (nullable = true)\n |-- Outlets: long (nullable = true)\n |-- Paint: long (nullable = true)\n |-- Pest Control: long (nullable = true)\n |-- Refrigerator: long (nullable = true)\n |-- Shelves or Drawers: long (nullable = true)\n |-- Shower Head: long (nullable = true)\n |-- Sink: long (nullable = true)\n |-- Sink Stopper: long (nullable = true)\n |-- Smoke Detector: long (nullable = true)\n |-- Stove or Oven: long (nullable = true)\n |-- Switches: long (nullable = true)\n |-- Thermostat: long (nullable = true)\n |-- Toilet: long (nullable = true)\n |-- Towel Bar: long (nullable = true)\n |-- Trash Removal: long (nullable = true)\n |-- Tub or Shower: long (nullable = true)\n |-- Under Sink: long (nullable = true)\n |-- Walls: long (nullable = true)\n |-- Washer: long (nullable = true)\n |-- Windows: long (nullable = true)\n\n"
          ]
        }
      ],
      "execution_count": 22,
      "metadata": {
        "jupyter": {
          "source_hidden": false,
          "outputs_hidden": false
        },
        "nteract": {
          "transient": {
            "deleting": false
          }
        }
      }
    },
    {
      "cell_type": "code",
      "source": [
        "customerAndSurveyAvgPivot.printSchema()"
      ],
      "outputs": [
        {
          "output_type": "display_data",
          "data": {
            "application/vnd.livy.statement-meta+json": {
              "spark_pool": null,
              "session_id": null,
              "statement_id": null,
              "state": "waiting",
              "livy_statement_state": null,
              "queued_time": "2022-08-12T04:02:49.0304619Z",
              "session_start_time": null,
              "execution_start_time": null,
              "execution_finish_time": null,
              "spark_jobs": null
            },
            "text/plain": "StatementMeta(, , , Waiting, )"
          },
          "metadata": {}
        },
        {
          "output_type": "stream",
          "name": "stdout",
          "text": [
            "root\n |-- CustomerId: string (nullable = true)\n |-- Name: string (nullable = true)\n |-- Gender: string (nullable = true)\n |-- Email: string (nullable = true)\n |-- City: string (nullable = true)\n |-- State: string (nullable = true)\n |-- DateOfBirth: timestamp (nullable = true)\n |-- cid: integer (nullable = true)\n |-- pid: integer (nullable = true)\n |-- surveytype: string (nullable = true)\n |-- Condition of Property: double (nullable = true)\n |-- Ease of process: double (nullable = true)\n |-- Maintenance Overall Satisfaction: double (nullable = true)\n |-- Management Communication: double (nullable = true)\n |-- Management Courtesy: double (nullable = true)\n |-- Management Problem Resolution: double (nullable = true)\n |-- Management Professionalism: double (nullable = true)\n |-- Overall Satisfaction: double (nullable = true)\n |-- Staff Communication: double (nullable = true)\n |-- Staff Courtesy: double (nullable = true)\n |-- Staff Professionalism: double (nullable = true)\n\n"
          ]
        }
      ],
      "execution_count": 23,
      "metadata": {
        "jupyter": {
          "source_hidden": false,
          "outputs_hidden": false
        },
        "nteract": {
          "transient": {
            "deleting": false
          }
        }
      }
    },
    {
      "cell_type": "code",
      "source": [
        "#combine this workorder info to the customer plus survey table. We'll use both cid and pid together for this\r\n",
        "customerAndSurveyAndWOs = customerAndSurveyAvgPivot.join(workOrdersPivot,( \\\r\n",
        "(customerAndSurveyAvgPivot.cid == workOrdersPivot.woCid) & \\\r\n",
        " (customerAndSurveyAvgPivot.pid == workOrdersPivot.woPid)\r\n",
        " )\r\n",
        " )\r\n",
        "display(customerAndSurveyAndWOs.limit(10))"
      ],
      "outputs": [
        {
          "output_type": "display_data",
          "data": {
            "application/vnd.livy.statement-meta+json": {
              "spark_pool": null,
              "session_id": null,
              "statement_id": null,
              "state": "waiting",
              "livy_statement_state": null,
              "queued_time": "2022-08-12T04:02:49.5012201Z",
              "session_start_time": null,
              "execution_start_time": null,
              "execution_finish_time": null,
              "spark_jobs": null
            },
            "text/plain": "StatementMeta(, , , Waiting, )"
          },
          "metadata": {}
        },
        {
          "output_type": "display_data",
          "data": {
            "application/vnd.synapse.widget-view+json": {
              "widget_id": "43588d6a-ae38-4b76-87a0-b6ede1ffd587",
              "widget_type": "Synapse.DataFrame"
            },
            "text/plain": "SynapseWidget(Synapse.DataFrame, 43588d6a-ae38-4b76-87a0-b6ede1ffd587)"
          },
          "metadata": {}
        }
      ],
      "execution_count": 24,
      "metadata": {
        "jupyter": {
          "source_hidden": false,
          "outputs_hidden": false
        },
        "nteract": {
          "transient": {
            "deleting": false
          }
        },
        "collapsed": false
      }
    },
    {
      "cell_type": "code",
      "source": [
        "customerAndSurveyAndWOs.printSchema()"
      ],
      "outputs": [
        {
          "output_type": "display_data",
          "data": {
            "application/vnd.livy.statement-meta+json": {
              "spark_pool": null,
              "session_id": null,
              "statement_id": null,
              "state": "waiting",
              "livy_statement_state": null,
              "queued_time": "2022-08-12T04:02:49.8808174Z",
              "session_start_time": null,
              "execution_start_time": null,
              "execution_finish_time": null,
              "spark_jobs": null
            },
            "text/plain": "StatementMeta(, , , Waiting, )"
          },
          "metadata": {}
        },
        {
          "output_type": "stream",
          "name": "stdout",
          "text": [
            "root\n |-- CustomerId: string (nullable = true)\n |-- Name: string (nullable = true)\n |-- Gender: string (nullable = true)\n |-- Email: string (nullable = true)\n |-- City: string (nullable = true)\n |-- State: string (nullable = true)\n |-- DateOfBirth: timestamp (nullable = true)\n |-- cid: integer (nullable = true)\n |-- pid: integer (nullable = true)\n |-- surveytype: string (nullable = true)\n |-- Condition of Property: double (nullable = true)\n |-- Ease of process: double (nullable = true)\n |-- Maintenance Overall Satisfaction: double (nullable = true)\n |-- Management Communication: double (nullable = true)\n |-- Management Courtesy: double (nullable = true)\n |-- Management Problem Resolution: double (nullable = true)\n |-- Management Professionalism: double (nullable = true)\n |-- Overall Satisfaction: double (nullable = true)\n |-- Staff Communication: double (nullable = true)\n |-- Staff Courtesy: double (nullable = true)\n |-- Staff Professionalism: double (nullable = true)\n |-- woCid: integer (nullable = true)\n |-- woPid: integer (nullable = true)\n |-- woUid: integer (nullable = true)\n |-- Air Conditioning: long (nullable = true)\n |-- Air Ducts or Vents: long (nullable = true)\n |-- Cabinet Doors: long (nullable = true)\n |-- Cabinets: long (nullable = true)\n |-- Carpet: long (nullable = true)\n |-- Ceiling: long (nullable = true)\n |-- Ceiling Fan: long (nullable = true)\n |-- Clean Unit: long (nullable = true)\n |-- Cleaning: long (nullable = true)\n |-- Dishwasher: long (nullable = true)\n |-- Door Repair or Replace: long (nullable = true)\n |-- Doorbell: long (nullable = true)\n |-- Drain: long (nullable = true)\n |-- Dryer: long (nullable = true)\n |-- Faucet: long (nullable = true)\n |-- Filter Replacement: long (nullable = true)\n |-- Garage Remote: long (nullable = true)\n |-- Garbage Disposal: long (nullable = true)\n |-- Heating: long (nullable = true)\n |-- Light Bulbs: long (nullable = true)\n |-- Light Fixture: long (nullable = true)\n |-- Lock or Exterior Door: long (nullable = true)\n |-- Lock or Interior Door: long (nullable = true)\n |-- Microwave: long (nullable = true)\n |-- Other: long (nullable = true)\n |-- Outlets: long (nullable = true)\n |-- Paint: long (nullable = true)\n |-- Pest Control: long (nullable = true)\n |-- Refrigerator: long (nullable = true)\n |-- Shelves or Drawers: long (nullable = true)\n |-- Shower Head: long (nullable = true)\n |-- Sink: long (nullable = true)\n |-- Sink Stopper: long (nullable = true)\n |-- Smoke Detector: long (nullable = true)\n |-- Stove or Oven: long (nullable = true)\n |-- Switches: long (nullable = true)\n |-- Thermostat: long (nullable = true)\n |-- Toilet: long (nullable = true)\n |-- Towel Bar: long (nullable = true)\n |-- Trash Removal: long (nullable = true)\n |-- Tub or Shower: long (nullable = true)\n |-- Under Sink: long (nullable = true)\n |-- Walls: long (nullable = true)\n |-- Washer: long (nullable = true)\n |-- Windows: long (nullable = true)\n\n"
          ]
        }
      ],
      "execution_count": 25,
      "metadata": {
        "jupyter": {
          "source_hidden": false,
          "outputs_hidden": false
        },
        "nteract": {
          "transient": {
            "deleting": false
          }
        }
      }
    },
    {
      "cell_type": "markdown",
      "source": [
        "Let's now tackle the last dataset, the Lease information. Lets use the available dates to create some additional features:\r\n",
        "- People who moved out\r\n",
        "- People who are still living there. these have a null moveout date\r\n",
        "- People who renewed the Lease\r\n",
        "- Intial Lease Term\r\n",
        "- Average Length of Renewals,"
      ],
      "metadata": {
        "nteract": {
          "transient": {
            "deleting": false
          }
        }
      }
    },
    {
      "cell_type": "code",
      "source": [
        "#load lease data\r\n",
        "leases = spark.read.load('abfss://filesystestmtcvj@datalaketestmtcvj.dfs.core.windows.net/sourcedata/leases.csv', format='csv'\r\n",
        ", header=True\r\n",
        ", inferSchema=True\r\n",
        ")\r\n",
        "display(surveys.limit(10))"
      ],
      "outputs": [
        {
          "output_type": "display_data",
          "data": {
            "application/vnd.livy.statement-meta+json": {
              "spark_pool": null,
              "session_id": null,
              "statement_id": null,
              "state": "waiting",
              "livy_statement_state": null,
              "queued_time": "2022-08-12T04:02:50.3936684Z",
              "session_start_time": null,
              "execution_start_time": null,
              "execution_finish_time": null,
              "spark_jobs": null
            },
            "text/plain": "StatementMeta(, , , Waiting, )"
          },
          "metadata": {}
        },
        {
          "output_type": "display_data",
          "data": {
            "application/vnd.synapse.widget-view+json": {
              "widget_id": "6e7a8733-f26f-4858-8b05-8bbee6c34841",
              "widget_type": "Synapse.DataFrame"
            },
            "text/plain": "SynapseWidget(Synapse.DataFrame, 6e7a8733-f26f-4858-8b05-8bbee6c34841)"
          },
          "metadata": {}
        }
      ],
      "execution_count": 26,
      "metadata": {
        "jupyter": {
          "source_hidden": false,
          "outputs_hidden": false
        },
        "nteract": {
          "transient": {
            "deleting": false
          }
        },
        "collapsed": false
      }
    },
    {
      "cell_type": "code",
      "source": [
        "leases.printSchema()"
      ],
      "outputs": [
        {
          "output_type": "display_data",
          "data": {
            "application/vnd.livy.statement-meta+json": {
              "spark_pool": null,
              "session_id": null,
              "statement_id": null,
              "state": "waiting",
              "livy_statement_state": null,
              "queued_time": "2022-08-12T04:02:50.7363266Z",
              "session_start_time": null,
              "execution_start_time": null,
              "execution_finish_time": null,
              "spark_jobs": null
            },
            "text/plain": "StatementMeta(, , , Waiting, )"
          },
          "metadata": {}
        },
        {
          "output_type": "stream",
          "name": "stdout",
          "text": [
            "root\n |-- cid: integer (nullable = true)\n |-- Source: string (nullable = true)\n |-- pid: integer (nullable = true)\n |-- utid: integer (nullable = true)\n |-- uid: integer (nullable = true)\n |-- Type: string (nullable = true)\n |-- ApplicationDate: timestamp (nullable = true)\n |-- StartDate: timestamp (nullable = true)\n |-- EndDate: timestamp (nullable = true)\n |-- LeaseTerm: integer (nullable = true)\n |-- SignedDate: timestamp (nullable = true)\n |-- MoveInDate: timestamp (nullable = true)\n |-- MoveOutDate: timestamp (nullable = true)\n |-- lid: integer (nullable = true)\n\n"
          ]
        }
      ],
      "execution_count": 27,
      "metadata": {
        "jupyter": {
          "source_hidden": false,
          "outputs_hidden": false
        },
        "nteract": {
          "transient": {
            "deleting": false
          }
        }
      }
    },
    {
      "cell_type": "code",
      "source": [
        "#renaming cid,pid,utid,uid columns to prevent confusion later\r\n",
        "leases = leases.withColumnRenamed(\"cid\",\"leaseCid\")\r\n",
        "leases = leases.withColumnRenamed(\"pid\",\"leasePid\")\r\n",
        "leases = leases.withColumnRenamed(\"utid\",\"leaseUtid\")\r\n",
        "leases = leases.withColumnRenamed(\"uid\",\"leaseUid\")\r\n",
        "leases.printSchema()"
      ],
      "outputs": [
        {
          "output_type": "display_data",
          "data": {
            "application/vnd.livy.statement-meta+json": {
              "spark_pool": null,
              "session_id": null,
              "statement_id": null,
              "state": "waiting",
              "livy_statement_state": null,
              "queued_time": "2022-08-12T04:02:51.0815751Z",
              "session_start_time": null,
              "execution_start_time": null,
              "execution_finish_time": null,
              "spark_jobs": null
            },
            "text/plain": "StatementMeta(, , , Waiting, )"
          },
          "metadata": {}
        },
        {
          "output_type": "stream",
          "name": "stdout",
          "text": [
            "root\n |-- leaseCid: integer (nullable = true)\n |-- Source: string (nullable = true)\n |-- leasePid: integer (nullable = true)\n |-- leaseUtid: integer (nullable = true)\n |-- leaseUid: integer (nullable = true)\n |-- Type: string (nullable = true)\n |-- ApplicationDate: timestamp (nullable = true)\n |-- StartDate: timestamp (nullable = true)\n |-- EndDate: timestamp (nullable = true)\n |-- LeaseTerm: integer (nullable = true)\n |-- SignedDate: timestamp (nullable = true)\n |-- MoveInDate: timestamp (nullable = true)\n |-- MoveOutDate: timestamp (nullable = true)\n |-- lid: integer (nullable = true)\n\n"
          ]
        }
      ],
      "execution_count": 28,
      "metadata": {
        "jupyter": {
          "source_hidden": false,
          "outputs_hidden": false
        },
        "nteract": {
          "transient": {
            "deleting": false
          }
        }
      }
    },
    {
      "cell_type": "markdown",
      "source": [
        "Since the dates have been infered as strings, lets correctly cast these to date types, which will allow us to use date based operations\r\n"
      ],
      "metadata": {
        "nteract": {
          "transient": {
            "deleting": false
          }
        }
      }
    },
    {
      "cell_type": "code",
      "source": [
        "leases=leases.withColumn(\"ApplicationDate\",to_date(col(\"ApplicationDate\"),\"yyyy-MM-dd\")) \\\r\n",
        ".withColumn(\"StartDate\", to_date(col(\"StartDate\"),\"yyyy-MM-dd\")) \\\r\n",
        ".withColumn(\"EndDate\",to_date(col(\"EndDate\"),\"yyyy-MM-dd\")) \\\r\n",
        ".withColumn(\"SignedDate\",to_date(col(\"SignedDate\"),\"yyyy-MM-dd\")) \\\r\n",
        ".withColumn(\"MoveInDate\",to_date(col(\"MoveInDate\"),\"yyyy-MM-dd\")) \\\r\n",
        ".withColumn(\"MoveOutDate\",to_date(col(\"MoveOutDate\"),\"yyyy-MM-dd\"))\r\n"
      ],
      "outputs": [
        {
          "output_type": "display_data",
          "data": {
            "application/vnd.livy.statement-meta+json": {
              "spark_pool": null,
              "session_id": null,
              "statement_id": null,
              "state": "waiting",
              "livy_statement_state": null,
              "queued_time": "2022-08-12T04:02:51.4363949Z",
              "session_start_time": null,
              "execution_start_time": null,
              "execution_finish_time": null,
              "spark_jobs": null
            },
            "text/plain": "StatementMeta(, , , Waiting, )"
          },
          "metadata": {}
        }
      ],
      "execution_count": 29,
      "metadata": {
        "jupyter": {
          "source_hidden": false,
          "outputs_hidden": false
        },
        "nteract": {
          "transient": {
            "deleting": false
          }
        }
      }
    },
    {
      "cell_type": "code",
      "source": [
        "#check the schema\r\n",
        "leases.printSchema()"
      ],
      "outputs": [
        {
          "output_type": "display_data",
          "data": {
            "application/vnd.livy.statement-meta+json": {
              "spark_pool": null,
              "session_id": null,
              "statement_id": null,
              "state": "waiting",
              "livy_statement_state": null,
              "queued_time": "2022-08-12T04:02:51.762643Z",
              "session_start_time": null,
              "execution_start_time": null,
              "execution_finish_time": null,
              "spark_jobs": null
            },
            "text/plain": "StatementMeta(, , , Waiting, )"
          },
          "metadata": {}
        },
        {
          "output_type": "stream",
          "name": "stdout",
          "text": [
            "root\n |-- leaseCid: integer (nullable = true)\n |-- Source: string (nullable = true)\n |-- leasePid: integer (nullable = true)\n |-- leaseUtid: integer (nullable = true)\n |-- leaseUid: integer (nullable = true)\n |-- Type: string (nullable = true)\n |-- ApplicationDate: date (nullable = true)\n |-- StartDate: date (nullable = true)\n |-- EndDate: date (nullable = true)\n |-- LeaseTerm: integer (nullable = true)\n |-- SignedDate: date (nullable = true)\n |-- MoveInDate: date (nullable = true)\n |-- MoveOutDate: date (nullable = true)\n |-- lid: integer (nullable = true)\n\n"
          ]
        }
      ],
      "execution_count": 30,
      "metadata": {
        "jupyter": {
          "source_hidden": false,
          "outputs_hidden": false
        },
        "nteract": {
          "transient": {
            "deleting": false
          }
        }
      }
    },
    {
      "cell_type": "code",
      "source": [
        "#add a column to indicate movedout or not\r\n",
        "leases=leases.withColumn(\"IsMovedOut\",when(leases.MoveOutDate.isNull(),\"N\").otherwise(\"Y\"))\r\n",
        "display(leases.limit(10))"
      ],
      "outputs": [
        {
          "output_type": "display_data",
          "data": {
            "application/vnd.livy.statement-meta+json": {
              "spark_pool": null,
              "session_id": null,
              "statement_id": null,
              "state": "waiting",
              "livy_statement_state": null,
              "queued_time": "2022-08-12T04:02:52.0607407Z",
              "session_start_time": null,
              "execution_start_time": null,
              "execution_finish_time": null,
              "spark_jobs": null
            },
            "text/plain": "StatementMeta(, , , Waiting, )"
          },
          "metadata": {}
        },
        {
          "output_type": "display_data",
          "data": {
            "application/vnd.synapse.widget-view+json": {
              "widget_id": "8aa873e2-e98c-442c-bd4a-caa81a78061c",
              "widget_type": "Synapse.DataFrame"
            },
            "text/plain": "SynapseWidget(Synapse.DataFrame, 8aa873e2-e98c-442c-bd4a-caa81a78061c)"
          },
          "metadata": {}
        }
      ],
      "execution_count": 31,
      "metadata": {
        "jupyter": {
          "source_hidden": false,
          "outputs_hidden": false
        },
        "nteract": {
          "transient": {
            "deleting": false
          }
        },
        "collapsed": false
      }
    },
    {
      "cell_type": "markdown",
      "source": [
        "We'll pivot this so that we can work with both renewal and initial lease agreements"
      ],
      "metadata": {
        "nteract": {
          "transient": {
            "deleting": false
          }
        }
      }
    },
    {
      "cell_type": "code",
      "source": [
        "allleases = leases.groupby(\"leaseCid\",\"leasePid\",\"leaseUid\").pivot(\"Type\").agg({'LeaseTerm':'sum','ApplicationDate':'count'})\r\n",
        "display(allleases.limit(10))"
      ],
      "outputs": [
        {
          "output_type": "display_data",
          "data": {
            "application/vnd.livy.statement-meta+json": {
              "spark_pool": null,
              "session_id": null,
              "statement_id": null,
              "state": "waiting",
              "livy_statement_state": null,
              "queued_time": "2022-08-12T04:02:52.4369343Z",
              "session_start_time": null,
              "execution_start_time": null,
              "execution_finish_time": null,
              "spark_jobs": null
            },
            "text/plain": "StatementMeta(, , , Waiting, )"
          },
          "metadata": {}
        },
        {
          "output_type": "display_data",
          "data": {
            "application/vnd.synapse.widget-view+json": {
              "widget_id": "9e19b95a-abd5-4681-8822-ef7f90280bc1",
              "widget_type": "Synapse.DataFrame"
            },
            "text/plain": "SynapseWidget(Synapse.DataFrame, 9e19b95a-abd5-4681-8822-ef7f90280bc1)"
          },
          "metadata": {}
        }
      ],
      "execution_count": 32,
      "metadata": {
        "jupyter": {
          "source_hidden": false,
          "outputs_hidden": false
        },
        "nteract": {
          "transient": {
            "deleting": false
          }
        },
        "collapsed": false
      }
    },
    {
      "cell_type": "code",
      "source": [
        "allleases.printSchema()"
      ],
      "outputs": [
        {
          "output_type": "display_data",
          "data": {
            "application/vnd.livy.statement-meta+json": {
              "spark_pool": null,
              "session_id": null,
              "statement_id": null,
              "state": "waiting",
              "livy_statement_state": null,
              "queued_time": "2022-08-12T04:02:52.7926798Z",
              "session_start_time": null,
              "execution_start_time": null,
              "execution_finish_time": null,
              "spark_jobs": null
            },
            "text/plain": "StatementMeta(, , , Waiting, )"
          },
          "metadata": {}
        },
        {
          "output_type": "stream",
          "name": "stdout",
          "text": [
            "root\n |-- leaseCid: integer (nullable = true)\n |-- leasePid: integer (nullable = true)\n |-- leaseUid: integer (nullable = true)\n |-- Application_count(ApplicationDate): long (nullable = true)\n |-- Application_sum(CAST(LeaseTerm AS BIGINT)): long (nullable = true)\n |-- Renewal_count(ApplicationDate): long (nullable = true)\n |-- Renewal_sum(CAST(LeaseTerm AS BIGINT)): long (nullable = true)\n\n"
          ]
        }
      ],
      "execution_count": 33,
      "metadata": {
        "jupyter": {
          "source_hidden": false,
          "outputs_hidden": false
        },
        "nteract": {
          "transient": {
            "deleting": false
          }
        }
      }
    },
    {
      "cell_type": "code",
      "source": [
        "#rename annoying columns\r\n",
        "allleases = allleases.withColumnRenamed(\"Application_count(ApplicationDate)\",\"InitialApplicationCount\") \\\r\n",
        ".withColumnRenamed(\"Application_sum(CAST(LeaseTerm AS BIGINT))\",\"InitialLeaseTerm\") \\\r\n",
        ".withColumnRenamed(\"Renewal_count(ApplicationDate)\",\"RenewalApplicationCount\") \\\r\n",
        ".withColumnRenamed(\"Renewal_sum(CAST(LeaseTerm AS BIGINT))\",\"TotalRenewalTerm\")\r\n",
        "\r\n",
        "allleases.printSchema()"
      ],
      "outputs": [
        {
          "output_type": "display_data",
          "data": {
            "application/vnd.livy.statement-meta+json": {
              "spark_pool": null,
              "session_id": null,
              "statement_id": null,
              "state": "waiting",
              "livy_statement_state": null,
              "queued_time": "2022-08-12T04:02:53.2506312Z",
              "session_start_time": null,
              "execution_start_time": null,
              "execution_finish_time": null,
              "spark_jobs": null
            },
            "text/plain": "StatementMeta(, , , Waiting, )"
          },
          "metadata": {}
        },
        {
          "output_type": "stream",
          "name": "stdout",
          "text": [
            "root\n |-- leaseCid: integer (nullable = true)\n |-- leasePid: integer (nullable = true)\n |-- leaseUid: integer (nullable = true)\n |-- InitialApplicationCount: long (nullable = true)\n |-- InitialLeaseTerm: long (nullable = true)\n |-- RenewalApplicationCount: long (nullable = true)\n |-- TotalRenewalTerm: long (nullable = true)\n\n"
          ]
        }
      ],
      "execution_count": 34,
      "metadata": {
        "jupyter": {
          "source_hidden": false,
          "outputs_hidden": false
        },
        "nteract": {
          "transient": {
            "deleting": false
          }
        }
      }
    },
    {
      "cell_type": "markdown",
      "source": [
        "Calculate the average length of renewals\r\n",
        "\r\n"
      ],
      "metadata": {
        "nteract": {
          "transient": {
            "deleting": false
          }
        }
      }
    },
    {
      "cell_type": "code",
      "source": [
        "allleases = allleases.withColumn(\"averageRenewalLength\",(allleases.TotalRenewalTerm/allleases.RenewalApplicationCount))\r\n",
        "allleases.printSchema()\r\n",
        "display(allleases.limit(2))"
      ],
      "outputs": [
        {
          "output_type": "display_data",
          "data": {
            "application/vnd.livy.statement-meta+json": {
              "spark_pool": null,
              "session_id": null,
              "statement_id": null,
              "state": "waiting",
              "livy_statement_state": null,
              "queued_time": "2022-08-12T04:02:53.6915301Z",
              "session_start_time": null,
              "execution_start_time": null,
              "execution_finish_time": null,
              "spark_jobs": null
            },
            "text/plain": "StatementMeta(, , , Waiting, )"
          },
          "metadata": {}
        },
        {
          "output_type": "stream",
          "name": "stdout",
          "text": [
            "root\n |-- leaseCid: integer (nullable = true)\n |-- leasePid: integer (nullable = true)\n |-- leaseUid: integer (nullable = true)\n |-- InitialApplicationCount: long (nullable = true)\n |-- InitialLeaseTerm: long (nullable = true)\n |-- RenewalApplicationCount: long (nullable = true)\n |-- TotalRenewalTerm: long (nullable = true)\n |-- averageRenewalLength: double (nullable = true)\n\n"
          ]
        },
        {
          "output_type": "display_data",
          "data": {
            "application/vnd.synapse.widget-view+json": {
              "widget_id": "49500725-c223-49a5-8754-418cab934895",
              "widget_type": "Synapse.DataFrame"
            },
            "text/plain": "SynapseWidget(Synapse.DataFrame, 49500725-c223-49a5-8754-418cab934895)"
          },
          "metadata": {}
        }
      ],
      "execution_count": 35,
      "metadata": {
        "jupyter": {
          "source_hidden": false,
          "outputs_hidden": false
        },
        "nteract": {
          "transient": {
            "deleting": false
          }
        },
        "collapsed": false
      }
    },
    {
      "cell_type": "markdown",
      "source": [
        "add a column to say if a renewal occured"
      ],
      "metadata": {
        "nteract": {
          "transient": {
            "deleting": false
          }
        }
      }
    },
    {
      "cell_type": "code",
      "source": [
        "allleases = allleases.withColumn(\"Renewed\", when(allleases.RenewalApplicationCount > 1,\"Y\").otherwise(\"N\"))\r\n",
        "display(allleases.limit(2))"
      ],
      "outputs": [
        {
          "output_type": "display_data",
          "data": {
            "application/vnd.livy.statement-meta+json": {
              "spark_pool": null,
              "session_id": null,
              "statement_id": null,
              "state": "waiting",
              "livy_statement_state": null,
              "queued_time": "2022-08-12T04:02:54.0332517Z",
              "session_start_time": null,
              "execution_start_time": null,
              "execution_finish_time": null,
              "spark_jobs": null
            },
            "text/plain": "StatementMeta(, , , Waiting, )"
          },
          "metadata": {}
        },
        {
          "output_type": "display_data",
          "data": {
            "application/vnd.synapse.widget-view+json": {
              "widget_id": "a381d2bf-3ad2-4c8b-b30c-6d32c100736e",
              "widget_type": "Synapse.DataFrame"
            },
            "text/plain": "SynapseWidget(Synapse.DataFrame, a381d2bf-3ad2-4c8b-b30c-6d32c100736e)"
          },
          "metadata": {}
        }
      ],
      "execution_count": 36,
      "metadata": {
        "jupyter": {
          "source_hidden": false,
          "outputs_hidden": false
        },
        "nteract": {
          "transient": {
            "deleting": false
          }
        },
        "collapsed": false
      }
    },
    {
      "cell_type": "markdown",
      "source": [
        "Lets combine this into the main table we want to use"
      ],
      "metadata": {
        "nteract": {
          "transient": {
            "deleting": false
          }
        }
      }
    },
    {
      "cell_type": "code",
      "source": [
        "customerAndSurveyAndWOs.printSchema()"
      ],
      "outputs": [
        {
          "output_type": "display_data",
          "data": {
            "application/vnd.livy.statement-meta+json": {
              "spark_pool": null,
              "session_id": null,
              "statement_id": null,
              "state": "waiting",
              "livy_statement_state": null,
              "queued_time": "2022-08-12T04:02:54.3631103Z",
              "session_start_time": null,
              "execution_start_time": null,
              "execution_finish_time": null,
              "spark_jobs": null
            },
            "text/plain": "StatementMeta(, , , Waiting, )"
          },
          "metadata": {}
        },
        {
          "output_type": "stream",
          "name": "stdout",
          "text": [
            "root\n |-- CustomerId: string (nullable = true)\n |-- Name: string (nullable = true)\n |-- Gender: string (nullable = true)\n |-- Email: string (nullable = true)\n |-- City: string (nullable = true)\n |-- State: string (nullable = true)\n |-- DateOfBirth: timestamp (nullable = true)\n |-- cid: integer (nullable = true)\n |-- pid: integer (nullable = true)\n |-- surveytype: string (nullable = true)\n |-- Condition of Property: double (nullable = true)\n |-- Ease of process: double (nullable = true)\n |-- Maintenance Overall Satisfaction: double (nullable = true)\n |-- Management Communication: double (nullable = true)\n |-- Management Courtesy: double (nullable = true)\n |-- Management Problem Resolution: double (nullable = true)\n |-- Management Professionalism: double (nullable = true)\n |-- Overall Satisfaction: double (nullable = true)\n |-- Staff Communication: double (nullable = true)\n |-- Staff Courtesy: double (nullable = true)\n |-- Staff Professionalism: double (nullable = true)\n |-- woCid: integer (nullable = true)\n |-- woPid: integer (nullable = true)\n |-- woUid: integer (nullable = true)\n |-- Air Conditioning: long (nullable = true)\n |-- Air Ducts or Vents: long (nullable = true)\n |-- Cabinet Doors: long (nullable = true)\n |-- Cabinets: long (nullable = true)\n |-- Carpet: long (nullable = true)\n |-- Ceiling: long (nullable = true)\n |-- Ceiling Fan: long (nullable = true)\n |-- Clean Unit: long (nullable = true)\n |-- Cleaning: long (nullable = true)\n |-- Dishwasher: long (nullable = true)\n |-- Door Repair or Replace: long (nullable = true)\n |-- Doorbell: long (nullable = true)\n |-- Drain: long (nullable = true)\n |-- Dryer: long (nullable = true)\n |-- Faucet: long (nullable = true)\n |-- Filter Replacement: long (nullable = true)\n |-- Garage Remote: long (nullable = true)\n |-- Garbage Disposal: long (nullable = true)\n |-- Heating: long (nullable = true)\n |-- Light Bulbs: long (nullable = true)\n |-- Light Fixture: long (nullable = true)\n |-- Lock or Exterior Door: long (nullable = true)\n |-- Lock or Interior Door: long (nullable = true)\n |-- Microwave: long (nullable = true)\n |-- Other: long (nullable = true)\n |-- Outlets: long (nullable = true)\n |-- Paint: long (nullable = true)\n |-- Pest Control: long (nullable = true)\n |-- Refrigerator: long (nullable = true)\n |-- Shelves or Drawers: long (nullable = true)\n |-- Shower Head: long (nullable = true)\n |-- Sink: long (nullable = true)\n |-- Sink Stopper: long (nullable = true)\n |-- Smoke Detector: long (nullable = true)\n |-- Stove or Oven: long (nullable = true)\n |-- Switches: long (nullable = true)\n |-- Thermostat: long (nullable = true)\n |-- Toilet: long (nullable = true)\n |-- Towel Bar: long (nullable = true)\n |-- Trash Removal: long (nullable = true)\n |-- Tub or Shower: long (nullable = true)\n |-- Under Sink: long (nullable = true)\n |-- Walls: long (nullable = true)\n |-- Washer: long (nullable = true)\n |-- Windows: long (nullable = true)\n\n"
          ]
        }
      ],
      "execution_count": 37,
      "metadata": {
        "jupyter": {
          "source_hidden": false,
          "outputs_hidden": false
        },
        "nteract": {
          "transient": {
            "deleting": false
          }
        }
      }
    },
    {
      "cell_type": "code",
      "source": [
        "customerAndSurveyAndWOsAndLeases = customerAndSurveyAndWOs.join(allleases, ( \\\r\n",
        "(customerAndSurveyAndWOs.cid == allleases.leaseCid) & \\\r\n",
        "(customerAndSurveyAndWOs.pid == allleases.leasePid) & \\\r\n",
        "(customerAndSurveyAndWOs.woUid == allleases.leaseUid) \r\n",
        "))\r\n",
        "display(customerAndSurveyAndWOsAndLeases.limit(10))\r\n",
        "customerAndSurveyAndWOsAndLeases.printSchema()"
      ],
      "outputs": [
        {
          "output_type": "display_data",
          "data": {
            "application/vnd.livy.statement-meta+json": {
              "spark_pool": null,
              "session_id": null,
              "statement_id": null,
              "state": "waiting",
              "livy_statement_state": null,
              "queued_time": "2022-08-12T04:02:54.7165826Z",
              "session_start_time": null,
              "execution_start_time": null,
              "execution_finish_time": null,
              "spark_jobs": null
            },
            "text/plain": "StatementMeta(, , , Waiting, )"
          },
          "metadata": {}
        },
        {
          "output_type": "display_data",
          "data": {
            "application/vnd.synapse.widget-view+json": {
              "widget_id": "0a4ae07e-aed1-488f-905d-31d39e55d616",
              "widget_type": "Synapse.DataFrame"
            },
            "text/plain": "SynapseWidget(Synapse.DataFrame, 0a4ae07e-aed1-488f-905d-31d39e55d616)"
          },
          "metadata": {}
        },
        {
          "output_type": "stream",
          "name": "stdout",
          "text": [
            "root\n |-- CustomerId: string (nullable = true)\n |-- Name: string (nullable = true)\n |-- Gender: string (nullable = true)\n |-- Email: string (nullable = true)\n |-- City: string (nullable = true)\n |-- State: string (nullable = true)\n |-- DateOfBirth: timestamp (nullable = true)\n |-- cid: integer (nullable = true)\n |-- pid: integer (nullable = true)\n |-- surveytype: string (nullable = true)\n |-- Condition of Property: double (nullable = true)\n |-- Ease of process: double (nullable = true)\n |-- Maintenance Overall Satisfaction: double (nullable = true)\n |-- Management Communication: double (nullable = true)\n |-- Management Courtesy: double (nullable = true)\n |-- Management Problem Resolution: double (nullable = true)\n |-- Management Professionalism: double (nullable = true)\n |-- Overall Satisfaction: double (nullable = true)\n |-- Staff Communication: double (nullable = true)\n |-- Staff Courtesy: double (nullable = true)\n |-- Staff Professionalism: double (nullable = true)\n |-- woCid: integer (nullable = true)\n |-- woPid: integer (nullable = true)\n |-- woUid: integer (nullable = true)\n |-- Air Conditioning: long (nullable = true)\n |-- Air Ducts or Vents: long (nullable = true)\n |-- Cabinet Doors: long (nullable = true)\n |-- Cabinets: long (nullable = true)\n |-- Carpet: long (nullable = true)\n |-- Ceiling: long (nullable = true)\n |-- Ceiling Fan: long (nullable = true)\n |-- Clean Unit: long (nullable = true)\n |-- Cleaning: long (nullable = true)\n |-- Dishwasher: long (nullable = true)\n |-- Door Repair or Replace: long (nullable = true)\n |-- Doorbell: long (nullable = true)\n |-- Drain: long (nullable = true)\n |-- Dryer: long (nullable = true)\n |-- Faucet: long (nullable = true)\n |-- Filter Replacement: long (nullable = true)\n |-- Garage Remote: long (nullable = true)\n |-- Garbage Disposal: long (nullable = true)\n |-- Heating: long (nullable = true)\n |-- Light Bulbs: long (nullable = true)\n |-- Light Fixture: long (nullable = true)\n |-- Lock or Exterior Door: long (nullable = true)\n |-- Lock or Interior Door: long (nullable = true)\n |-- Microwave: long (nullable = true)\n |-- Other: long (nullable = true)\n |-- Outlets: long (nullable = true)\n |-- Paint: long (nullable = true)\n |-- Pest Control: long (nullable = true)\n |-- Refrigerator: long (nullable = true)\n |-- Shelves or Drawers: long (nullable = true)\n |-- Shower Head: long (nullable = true)\n |-- Sink: long (nullable = true)\n |-- Sink Stopper: long (nullable = true)\n |-- Smoke Detector: long (nullable = true)\n |-- Stove or Oven: long (nullable = true)\n |-- Switches: long (nullable = true)\n |-- Thermostat: long (nullable = true)\n |-- Toilet: long (nullable = true)\n |-- Towel Bar: long (nullable = true)\n |-- Trash Removal: long (nullable = true)\n |-- Tub or Shower: long (nullable = true)\n |-- Under Sink: long (nullable = true)\n |-- Walls: long (nullable = true)\n |-- Washer: long (nullable = true)\n |-- Windows: long (nullable = true)\n |-- leaseCid: integer (nullable = true)\n |-- leasePid: integer (nullable = true)\n |-- leaseUid: integer (nullable = true)\n |-- InitialApplicationCount: long (nullable = true)\n |-- InitialLeaseTerm: long (nullable = true)\n |-- RenewalApplicationCount: long (nullable = true)\n |-- TotalRenewalTerm: long (nullable = true)\n |-- averageRenewalLength: double (nullable = true)\n |-- Renewed: string (nullable = false)\n\n"
          ]
        }
      ],
      "execution_count": 38,
      "metadata": {
        "jupyter": {
          "source_hidden": false,
          "outputs_hidden": false
        },
        "nteract": {
          "transient": {
            "deleting": false
          }
        },
        "collapsed": false
      }
    },
    {
      "cell_type": "markdown",
      "source": [
        "We need to remove spaces in the column names, otherwise we wont be able to save it as a table. to do this we use a regular expression to look for spaces and remove them"
      ],
      "metadata": {
        "nteract": {
          "transient": {
            "deleting": false
          }
        }
      }
    },
    {
      "cell_type": "code",
      "source": [
        "#import the Regular Expressions library\r\n",
        "import re"
      ],
      "outputs": [
        {
          "output_type": "display_data",
          "data": {
            "application/vnd.livy.statement-meta+json": {
              "spark_pool": null,
              "session_id": null,
              "statement_id": null,
              "state": "waiting",
              "livy_statement_state": null,
              "queued_time": "2022-08-12T04:02:55.176627Z",
              "session_start_time": null,
              "execution_start_time": null,
              "execution_finish_time": null,
              "spark_jobs": null
            },
            "text/plain": "StatementMeta(, , , Waiting, )"
          },
          "metadata": {}
        }
      ],
      "execution_count": 39,
      "metadata": {
        "jupyter": {
          "source_hidden": false,
          "outputs_hidden": false
        },
        "nteract": {
          "transient": {
            "deleting": false
          }
        }
      }
    },
    {
      "cell_type": "code",
      "source": [
        "for each in customerAndSurveyAndWOsAndLeases.schema.names:\r\n",
        "    customerAndSurveyAndWOsAndLeases = customerAndSurveyAndWOsAndLeases.withColumnRenamed(each,  re.sub(r'\\s+([a-zA-Z_][a-zA-Z_0-9]*)\\s*','',each.replace(' ', '')))"
      ],
      "outputs": [
        {
          "output_type": "display_data",
          "data": {
            "application/vnd.livy.statement-meta+json": {
              "spark_pool": null,
              "session_id": null,
              "statement_id": null,
              "state": "waiting",
              "livy_statement_state": null,
              "queued_time": "2022-08-12T04:02:55.5185724Z",
              "session_start_time": null,
              "execution_start_time": null,
              "execution_finish_time": null,
              "spark_jobs": null
            },
            "text/plain": "StatementMeta(, , , Waiting, )"
          },
          "metadata": {}
        }
      ],
      "execution_count": 40,
      "metadata": {
        "jupyter": {
          "source_hidden": false,
          "outputs_hidden": false
        },
        "nteract": {
          "transient": {
            "deleting": false
          }
        }
      }
    },
    {
      "cell_type": "code",
      "source": [
        "customerAndSurveyAndWOsAndLeases.printSchema()"
      ],
      "outputs": [
        {
          "output_type": "display_data",
          "data": {
            "application/vnd.livy.statement-meta+json": {
              "spark_pool": null,
              "session_id": null,
              "statement_id": null,
              "state": "waiting",
              "livy_statement_state": null,
              "queued_time": "2022-08-12T04:02:55.8429932Z",
              "session_start_time": null,
              "execution_start_time": null,
              "execution_finish_time": null,
              "spark_jobs": null
            },
            "text/plain": "StatementMeta(, , , Waiting, )"
          },
          "metadata": {}
        },
        {
          "output_type": "stream",
          "name": "stdout",
          "text": [
            "root\n |-- CustomerId: string (nullable = true)\n |-- Name: string (nullable = true)\n |-- Gender: string (nullable = true)\n |-- Email: string (nullable = true)\n |-- City: string (nullable = true)\n |-- State: string (nullable = true)\n |-- DateOfBirth: timestamp (nullable = true)\n |-- cid: integer (nullable = true)\n |-- pid: integer (nullable = true)\n |-- surveytype: string (nullable = true)\n |-- ConditionofProperty: double (nullable = true)\n |-- Easeofprocess: double (nullable = true)\n |-- MaintenanceOverallSatisfaction: double (nullable = true)\n |-- ManagementCommunication: double (nullable = true)\n |-- ManagementCourtesy: double (nullable = true)\n |-- ManagementProblemResolution: double (nullable = true)\n |-- ManagementProfessionalism: double (nullable = true)\n |-- OverallSatisfaction: double (nullable = true)\n |-- StaffCommunication: double (nullable = true)\n |-- StaffCourtesy: double (nullable = true)\n |-- StaffProfessionalism: double (nullable = true)\n |-- woCid: integer (nullable = true)\n |-- woPid: integer (nullable = true)\n |-- woUid: integer (nullable = true)\n |-- AirConditioning: long (nullable = true)\n |-- AirDuctsorVents: long (nullable = true)\n |-- CabinetDoors: long (nullable = true)\n |-- Cabinets: long (nullable = true)\n |-- Carpet: long (nullable = true)\n |-- Ceiling: long (nullable = true)\n |-- CeilingFan: long (nullable = true)\n |-- CleanUnit: long (nullable = true)\n |-- Cleaning: long (nullable = true)\n |-- Dishwasher: long (nullable = true)\n |-- DoorRepairorReplace: long (nullable = true)\n |-- Doorbell: long (nullable = true)\n |-- Drain: long (nullable = true)\n |-- Dryer: long (nullable = true)\n |-- Faucet: long (nullable = true)\n |-- FilterReplacement: long (nullable = true)\n |-- GarageRemote: long (nullable = true)\n |-- GarbageDisposal: long (nullable = true)\n |-- Heating: long (nullable = true)\n |-- LightBulbs: long (nullable = true)\n |-- LightFixture: long (nullable = true)\n |-- LockorExteriorDoor: long (nullable = true)\n |-- LockorInteriorDoor: long (nullable = true)\n |-- Microwave: long (nullable = true)\n |-- Other: long (nullable = true)\n |-- Outlets: long (nullable = true)\n |-- Paint: long (nullable = true)\n |-- PestControl: long (nullable = true)\n |-- Refrigerator: long (nullable = true)\n |-- ShelvesorDrawers: long (nullable = true)\n |-- ShowerHead: long (nullable = true)\n |-- Sink: long (nullable = true)\n |-- SinkStopper: long (nullable = true)\n |-- SmokeDetector: long (nullable = true)\n |-- StoveorOven: long (nullable = true)\n |-- Switches: long (nullable = true)\n |-- Thermostat: long (nullable = true)\n |-- Toilet: long (nullable = true)\n |-- TowelBar: long (nullable = true)\n |-- TrashRemoval: long (nullable = true)\n |-- TuborShower: long (nullable = true)\n |-- UnderSink: long (nullable = true)\n |-- Walls: long (nullable = true)\n |-- Washer: long (nullable = true)\n |-- Windows: long (nullable = true)\n |-- leaseCid: integer (nullable = true)\n |-- leasePid: integer (nullable = true)\n |-- leaseUid: integer (nullable = true)\n |-- InitialApplicationCount: long (nullable = true)\n |-- InitialLeaseTerm: long (nullable = true)\n |-- RenewalApplicationCount: long (nullable = true)\n |-- TotalRenewalTerm: long (nullable = true)\n |-- averageRenewalLength: double (nullable = true)\n |-- Renewed: string (nullable = false)\n\n"
          ]
        }
      ],
      "execution_count": 41,
      "metadata": {
        "jupyter": {
          "source_hidden": false,
          "outputs_hidden": false
        },
        "nteract": {
          "transient": {
            "deleting": false
          }
        }
      }
    },
    {
      "cell_type": "markdown",
      "source": [
        "Now save this as a table for reference"
      ],
      "metadata": {
        "nteract": {
          "transient": {
            "deleting": false
          }
        }
      }
    },
    {
      "cell_type": "code",
      "source": [
        "customerAndSurveyAndWOsAndLeases.write.mode(\"overwrite\").saveAsTable(\"default.combinedcustomerdata\")"
      ],
      "outputs": [
        {
          "output_type": "display_data",
          "data": {
            "application/vnd.livy.statement-meta+json": {
              "spark_pool": null,
              "session_id": null,
              "statement_id": null,
              "state": "waiting",
              "livy_statement_state": null,
              "queued_time": "2022-08-12T04:02:56.1811542Z",
              "session_start_time": null,
              "execution_start_time": null,
              "execution_finish_time": null,
              "spark_jobs": null
            },
            "text/plain": "StatementMeta(, , , Waiting, )"
          },
          "metadata": {}
        }
      ],
      "execution_count": 42,
      "metadata": {
        "jupyter": {
          "source_hidden": false,
          "outputs_hidden": false
        },
        "nteract": {
          "transient": {
            "deleting": false
          }
        }
      }
    },
    {
      "cell_type": "markdown",
      "source": [
        "lets now create tables to use with Automated Machine Learning. We want to split this data into two sets. One for training, one for testing."
      ],
      "metadata": {
        "nteract": {
          "transient": {
            "deleting": false
          }
        }
      }
    },
    {
      "cell_type": "code",
      "source": [
        "combinedCustomerTraining, combinedCustomerTest = customerAndSurveyAndWOsAndLeases.randomSplit([0.8,0.2], 223)\r\n"
      ],
      "outputs": [
        {
          "output_type": "display_data",
          "data": {
            "application/vnd.livy.statement-meta+json": {
              "spark_pool": null,
              "session_id": null,
              "statement_id": null,
              "state": "waiting",
              "livy_statement_state": null,
              "queued_time": "2022-08-12T04:02:56.5177849Z",
              "session_start_time": null,
              "execution_start_time": null,
              "execution_finish_time": null,
              "spark_jobs": null
            },
            "text/plain": "StatementMeta(, , , Waiting, )"
          },
          "metadata": {}
        }
      ],
      "execution_count": 43,
      "metadata": {
        "jupyter": {
          "source_hidden": false,
          "outputs_hidden": false
        },
        "nteract": {
          "transient": {
            "deleting": false
          }
        }
      }
    },
    {
      "cell_type": "code",
      "source": [
        "#save these as tables\r\n",
        "combinedCustomerTraining.write.mode(\"overwrite\").saveAsTable(\"default.CombinedCustomerTrainingData\")"
      ],
      "outputs": [
        {
          "output_type": "display_data",
          "data": {
            "application/vnd.livy.statement-meta+json": {
              "spark_pool": null,
              "session_id": null,
              "statement_id": null,
              "state": "waiting",
              "livy_statement_state": null,
              "queued_time": "2022-08-12T04:02:56.8057179Z",
              "session_start_time": null,
              "execution_start_time": null,
              "execution_finish_time": null,
              "spark_jobs": null
            },
            "text/plain": "StatementMeta(, , , Waiting, )"
          },
          "metadata": {}
        }
      ],
      "execution_count": 44,
      "metadata": {
        "jupyter": {
          "source_hidden": false,
          "outputs_hidden": false
        },
        "nteract": {
          "transient": {
            "deleting": false
          }
        }
      }
    },
    {
      "cell_type": "code",
      "source": [
        "#also create a temporary table to work with scala\r\n",
        "#combinedCustomerTest_df = combinedCustomerTest.to_spark_dataframe()\r\n",
        "\r\n",
        "print('Register the DataFrame as a SQL temporary view: source')\r\n",
        "combinedCustomerTest.createOrReplaceTempView('testingdata')\r\n"
      ],
      "outputs": [
        {
          "output_type": "display_data",
          "data": {
            "application/vnd.livy.statement-meta+json": {
              "spark_pool": "sparktestmtcvj2",
              "session_id": "11",
              "statement_id": 48,
              "state": "finished",
              "livy_statement_state": "available",
              "queued_time": "2022-08-12T04:13:53.9899728Z",
              "session_start_time": null,
              "execution_start_time": "2022-08-12T04:14:28.8013626Z",
              "execution_finish_time": "2022-08-12T04:14:30.6274326Z",
              "spark_jobs": null
            },
            "text/plain": "StatementMeta(sparktestmtcvj2, 11, 48, Finished, Available)"
          },
          "metadata": {}
        },
        {
          "output_type": "stream",
          "name": "stdout",
          "text": [
            "Register the DataFrame as a SQL temporary view: source\n"
          ]
        }
      ],
      "execution_count": 46,
      "metadata": {
        "jupyter": {
          "source_hidden": false,
          "outputs_hidden": false
        },
        "nteract": {
          "transient": {
            "deleting": false
          }
        }
      }
    },
    {
      "cell_type": "code",
      "source": [
        "combinedCustomerTest.write.mode(\"overwrite\").saveAsTable(\"default.CombinedCustomerTestingData\")"
      ],
      "outputs": [
        {
          "output_type": "display_data",
          "data": {
            "application/vnd.livy.statement-meta+json": {
              "spark_pool": null,
              "session_id": null,
              "statement_id": null,
              "state": "waiting",
              "livy_statement_state": null,
              "queued_time": "2022-08-12T04:02:57.3876285Z",
              "session_start_time": null,
              "execution_start_time": null,
              "execution_finish_time": null,
              "spark_jobs": null
            },
            "text/plain": "StatementMeta(, , , Waiting, )"
          },
          "metadata": {}
        }
      ],
      "execution_count": null,
      "metadata": {
        "jupyter": {
          "source_hidden": false,
          "outputs_hidden": false
        },
        "nteract": {
          "transient": {
            "deleting": false
          }
        }
      }
    },
    {
      "cell_type": "code",
      "source": [],
      "outputs": [],
      "execution_count": null,
      "metadata": {
        "jupyter": {
          "source_hidden": false,
          "outputs_hidden": false
        },
        "nteract": {
          "transient": {
            "deleting": false
          }
        }
      }
    },
    {
      "cell_type": "markdown",
      "source": [
        "Lets write this to a SQL Dedicated Pool table so that we can score against it later\r\n"
      ],
      "metadata": {
        "nteract": {
          "transient": {
            "deleting": false
          }
        }
      }
    },
    {
      "cell_type": "code",
      "source": [
        "#read the data from the tables we just created in spark into scala variables. \r\n",
        "mytable = spark.sql(\"SELECT * FROM testingdata\")\r\n",
        "display(mytable.limit(10))"
      ],
      "outputs": [
        {
          "output_type": "display_data",
          "data": {
            "application/vnd.livy.statement-meta+json": {
              "spark_pool": "sparktestmtcvj2",
              "session_id": "11",
              "statement_id": 52,
              "state": "finished",
              "livy_statement_state": "available",
              "queued_time": "2022-08-12T04:38:44.5167118Z",
              "session_start_time": null,
              "execution_start_time": "2022-08-12T04:38:44.6751607Z",
              "execution_finish_time": "2022-08-12T04:39:03.6800313Z",
              "spark_jobs": null
            },
            "text/plain": "StatementMeta(sparktestmtcvj2, 11, 52, Finished, Available)"
          },
          "metadata": {}
        },
        {
          "output_type": "display_data",
          "data": {
            "application/vnd.synapse.widget-view+json": {
              "widget_id": "31ce7cbb-d346-4563-87d9-ab19a02b5652",
              "widget_type": "Synapse.DataFrame"
            },
            "text/plain": "SynapseWidget(Synapse.DataFrame, 31ce7cbb-d346-4563-87d9-ab19a02b5652)"
          },
          "metadata": {}
        }
      ],
      "execution_count": 50,
      "metadata": {
        "jupyter": {
          "source_hidden": false,
          "outputs_hidden": false
        },
        "nteract": {
          "transient": {
            "deleting": false
          }
        },
        "collapsed": false
      }
    },
    {
      "cell_type": "code",
      "source": [
        "mytable.write.saveAsTable(\"mytable\")"
      ],
      "outputs": [
        {
          "output_type": "display_data",
          "data": {
            "application/vnd.livy.statement-meta+json": {
              "spark_pool": "sparktestmtcvj2",
              "session_id": "11",
              "statement_id": 56,
              "state": "finished",
              "livy_statement_state": "available",
              "queued_time": "2022-08-12T04:43:13.4917897Z",
              "session_start_time": null,
              "execution_start_time": "2022-08-12T04:43:13.6169539Z",
              "execution_finish_time": "2022-08-12T04:44:09.4203955Z",
              "spark_jobs": null
            },
            "text/plain": "StatementMeta(sparktestmtcvj2, 11, 56, Finished, Available)"
          },
          "metadata": {}
        }
      ],
      "execution_count": 54,
      "metadata": {
        "jupyter": {
          "source_hidden": false,
          "outputs_hidden": false
        },
        "nteract": {
          "transient": {
            "deleting": false
          }
        }
      }
    },
    {
      "cell_type": "code",
      "source": [
        "combinedCustomerTest.write.mode(\"overwrite\").option(\"header\", \"true\").csv(\"abfss://filesystestmtcvj@datalaketestmtcvj.dfs.core.windows.net/sourcedata/mytestdata.csv\")"
      ],
      "outputs": [
        {
          "output_type": "display_data",
          "data": {
            "application/vnd.livy.statement-meta+json": {
              "spark_pool": "sparktestmtcvj2",
              "session_id": "11",
              "statement_id": 59,
              "state": "finished",
              "livy_statement_state": "available",
              "queued_time": "2022-08-12T05:12:06.3714777Z",
              "session_start_time": null,
              "execution_start_time": "2022-08-12T05:12:06.497737Z",
              "execution_finish_time": "2022-08-12T05:12:19.0595247Z",
              "spark_jobs": null
            },
            "text/plain": "StatementMeta(sparktestmtcvj2, 11, 59, Finished, Available)"
          },
          "metadata": {}
        }
      ],
      "execution_count": 57,
      "metadata": {
        "jupyter": {
          "source_hidden": false,
          "outputs_hidden": false
        },
        "nteract": {
          "transient": {
            "deleting": false
          }
        }
      }
    },
    {
      "cell_type": "code",
      "source": [],
      "outputs": [],
      "execution_count": null,
      "metadata": {
        "jupyter": {
          "source_hidden": false,
          "outputs_hidden": false
        },
        "nteract": {
          "transient": {
            "deleting": false
          }
        }
      }
    },
    {
      "cell_type": "code",
      "source": [
        "%%scala\r\n",
        "// Write the dataframe into your sql pool\r\n",
        "import org.apache.spark.sql.SqlAnalyticsConnector._\r\n",
        "import com.microsoft.spark.sqlanalytics.utils.Constants\r\n",
        "\r\n",
        "val sql_pool_name = \"Your sql pool name\" //fill in your sql pool name\r\n",
        "\r\n",
        "holiday_nodate.write\r\n",
        "    .sqlanalytics(\"synapsetest\".dbo.PublicHoliday\", Constants.INTERNAL)"
      ],
      "outputs": [
        {
          "output_type": "display_data",
          "data": {
            "application/vnd.livy.statement-meta+json": {
              "spark_pool": null,
              "session_id": null,
              "statement_id": null,
              "state": "waiting",
              "livy_statement_state": null,
              "queued_time": "2022-08-12T04:02:57.9737774Z",
              "session_start_time": null,
              "execution_start_time": null,
              "execution_finish_time": null,
              "spark_jobs": null
            },
            "text/plain": "StatementMeta(, , , Waiting, )"
          },
          "metadata": {}
        }
      ],
      "execution_count": null,
      "metadata": {
        "jupyter": {
          "source_hidden": false,
          "outputs_hidden": false
        },
        "nteract": {
          "transient": {
            "deleting": false
          }
        }
      }
    }
  ],
  "metadata": {
    "kernelspec": {
      "name": "synapse_pyspark",
      "language": "Python",
      "display_name": "Synapse PySpark"
    },
    "language_info": {
      "name": "python"
    },
    "kernel_info": {
      "name": "synapse_pyspark"
    },
    "description": "Combine the CIExport Customers data with lease, surveys and work orders",
    "save_output": true,
    "synapse_widget": {
      "version": "0.1",
      "state": {
        "6485c72a-9613-4599-9d4d-08e678e4aa33": {
          "type": "Synapse.DataFrame",
          "sync_state": {
            "table": {
              "rows": [
                {
                  "0": "00fce3b845b40954d7240b7637d252b3",
                  "1": "Skye",
                  "2": "Abadi",
                  "3": "Female",
                  "4": "skye.abadi@contoso.com",
                  "5": "801-555-0100",
                  "6": "United States",
                  "7": "Norman",
                  "8": "OK",
                  "9": "73071",
                  "10": "12345 Main Street",
                  "11": "1983-11-23 00:00:00",
                  "12": "2017-12-20 00:00:00",
                  "13": "Source1",
                  "20": "Skye Abadi",
                  "21": "106",
                  "22": "106",
                  "23": "2106",
                  "24": "2106"
                },
                {
                  "0": "01f6ff9e509797751ac31d4e8700fafc",
                  "1": "Carita",
                  "2": "Hasu",
                  "3": "Female",
                  "4": "carita.hasu@contoso.com",
                  "5": "801-555-0100",
                  "6": "United States",
                  "7": "Montgomery",
                  "8": "AL",
                  "9": "36116",
                  "10": "12345 Main Street",
                  "11": "2000-11-21 00:00:00",
                  "12": "2012-08-09 00:00:00",
                  "13": "Source1",
                  "14": "4444",
                  "15": "Move-in",
                  "16": "2011-09-16 00:00:00",
                  "17": "Staff Courtesy",
                  "18": "3.0",
                  "19": "carita.hasu@contoso.com",
                  "20": "Carita Hasu",
                  "21": "854",
                  "22": "854",
                  "25": "4762",
                  "26": "4758;4759;4760;4761;4762"
                },
                {
                  "0": "020307f8af8f9ee6dd9127bfa911294d",
                  "1": "Ward",
                  "2": "Refai",
                  "3": "Gender neutral",
                  "4": "ward.refai@contoso.com",
                  "5": "801-555-0100",
                  "6": "United States",
                  "7": "Norman",
                  "8": "OK",
                  "9": "73071",
                  "10": "12345 Main Street",
                  "11": "1972-06-26 00:00:00",
                  "12": "2013-10-26 00:00:00",
                  "13": "Source1",
                  "14": "1111",
                  "15": "Renewal",
                  "16": "2012-01-09 00:00:00",
                  "17": "Condition of Property",
                  "18": "1.0",
                  "19": "ward.refai@contoso.com",
                  "20": "Ward Refai",
                  "21": "105",
                  "22": "105",
                  "23": "2105",
                  "24": "2105",
                  "25": "11592",
                  "26": "11581;11582;11583;11584;11585;11586;11587;11588;11589;11590;11591;11592"
                },
                {
                  "0": "03aef99bc8f1e8ce3105e185938f7079",
                  "1": "Ellen",
                  "2": "Mogensen",
                  "3": "Female",
                  "4": "ellen.mogensen@contoso.com",
                  "5": "801-555-0100",
                  "6": "United States",
                  "7": "Fremont",
                  "8": "CA",
                  "9": "94536",
                  "10": "12345 Main Street",
                  "11": "1975-10-12 00:00:00",
                  "12": "2021-08-31 00:00:00",
                  "13": "Source1",
                  "14": "3333",
                  "15": "Move-in",
                  "16": "2021-11-11 00:00:00",
                  "17": "Staff Courtesy",
                  "18": "3.0",
                  "19": "ellen.mogensen@contoso.com",
                  "20": "Ellen Mogensen",
                  "21": "584",
                  "22": "584",
                  "25": "3178",
                  "26": "3174;3175;3176;3177;3178"
                },
                {
                  "0": "03e5e948bdde1fd8226c263ed50665e4",
                  "1": "Asem",
                  "2": "Satpaikyzy",
                  "3": "Female",
                  "4": "asem.satpaikyzy@contoso.com",
                  "5": "801-555-0100",
                  "6": "United States",
                  "7": "Anchorage",
                  "8": "AK",
                  "9": "99518",
                  "10": "12345 Main Street",
                  "11": "1988-11-08 00:00:00",
                  "12": "2011-09-18 00:00:00",
                  "13": "Source2",
                  "14": "8888",
                  "15": "Renewal",
                  "16": "2020-05-27 00:00:00",
                  "17": "Condition of Property",
                  "18": "2.0",
                  "19": "asem.satpaikyzy@contoso.com",
                  "20": "Asem Satpaikyzy",
                  "23": "1664",
                  "24": "1664",
                  "25": "9130",
                  "26": "9119;9120;9121;9122;9123;9124;9125;9126;9127;9128;9129;9130"
                },
                {
                  "0": "0402972be6c48b744fc2fedf8a7bae9f",
                  "1": "Karim",
                  "2": "Tursynuly",
                  "3": "Male",
                  "4": "karim.tursynuly@contoso.com",
                  "5": "801-555-0100",
                  "6": "United States",
                  "7": "Glen Burnie",
                  "8": "MD",
                  "9": "21060",
                  "10": "12345 Main Street",
                  "11": "1990-12-19 00:00:00",
                  "12": "2019-11-26 00:00:00",
                  "13": "Source2",
                  "14": "8888",
                  "15": "Renewal",
                  "16": "2016-11-07 00:00:00",
                  "17": "Condition of Property",
                  "18": "5.0",
                  "19": "karim.tursynuly@contoso.com",
                  "20": "Karim Tursynuly",
                  "23": "1669",
                  "24": "1669",
                  "25": "9157",
                  "26": "9146;9147;9148;9149;9150;9151;9152;9153;9154;9155;9156;9157"
                },
                {
                  "0": "040ec8b39d5d8946227931ef5a8d5e2c",
                  "1": "Chinoso",
                  "2": "Chinedu",
                  "3": "Female",
                  "4": "chinoso.chinedu@contoso.com",
                  "5": "801-555-0100",
                  "6": "United States",
                  "7": "Washington",
                  "8": "DC",
                  "9": "20001",
                  "10": "12345 Main Street",
                  "11": "1992-02-25 00:00:00",
                  "12": "2020-01-07 00:00:00",
                  "13": "Source1",
                  "14": "7777",
                  "15": "Renewal",
                  "16": "2020-01-28 00:00:00",
                  "17": "Condition of Property",
                  "18": "1.0",
                  "19": "chinoso.chinedu@contoso.com",
                  "20": "Chinoso Chinedu",
                  "21": "1396",
                  "22": "1396",
                  "25": "7829",
                  "26": "7818;7819;7820;7821;7822;7823;7824;7825;7826;7827;7828;7829"
                },
                {
                  "0": "0734064d8206112b8272f11437157063",
                  "1": "Yair",
                  "2": "Berkovitz",
                  "3": "Male",
                  "4": "yair.berkovitz@contoso.com",
                  "5": "801-555-0100",
                  "6": "United States",
                  "7": "Washington",
                  "8": "DC",
                  "9": "20011",
                  "10": "12345 Main Street",
                  "11": "1973-05-10 00:00:00",
                  "12": "2012-06-19 00:00:00",
                  "13": "Source1",
                  "14": "6666",
                  "15": "Renewal",
                  "16": "2015-11-05 00:00:00",
                  "17": "Condition of Property",
                  "18": "0.0",
                  "19": "yair.berkovitz@contoso.com",
                  "20": "Yair Berkovitz",
                  "21": "1270",
                  "22": "1270",
                  "25": "7062",
                  "26": "7051;7052;7053;7054;7055;7056;7057;7058;7059;7060;7061;7062"
                },
                {
                  "0": "08e1efc3f2f7ad76a02038bcac4841d3",
                  "1": "Yaron",
                  "2": "Misha",
                  "3": "Male",
                  "4": "yaron.misha@contoso.com",
                  "5": "801-555-0100",
                  "6": "United States",
                  "7": "Montgomery",
                  "8": "AL",
                  "9": "36117",
                  "10": "12345 Main Street",
                  "11": "1979-03-28 00:00:00",
                  "12": "2013-01-21 00:00:00",
                  "13": "Source1",
                  "14": "6666",
                  "15": "Renewal",
                  "16": "2020-07-05 00:00:00",
                  "17": "Condition of Property",
                  "18": "3.0",
                  "19": "yaron.misha@contoso.com",
                  "20": "Yaron Misha",
                  "21": "1261",
                  "22": "1261",
                  "25": "7011",
                  "26": "7000;7001;7002;7003;7004;7005;7006;7007;7008;7009;7010;7011"
                },
                {
                  "0": "0a5440f6cbec0c296142c1132d60ec15",
                  "1": "Chandrima",
                  "2": "Sen",
                  "3": "Female",
                  "4": "chandrima.sen@contoso.com",
                  "5": "801-555-0100",
                  "6": "United States",
                  "7": "Panama City",
                  "8": "FL",
                  "9": "32405",
                  "10": "12345 Main Street",
                  "11": "1980-01-22 00:00:00",
                  "12": "2013-10-12 00:00:00",
                  "13": "Source1",
                  "14": "2222",
                  "15": "Move-in",
                  "16": "2022-02-09 00:00:00",
                  "17": "Staff Courtesy",
                  "18": "3.0",
                  "19": "chandrima.sen@contoso.com",
                  "20": "Chandrima Sen",
                  "21": "199",
                  "22": "199",
                  "25": "1037",
                  "26": "1033;1034;1035;1036;1037"
                }
              ],
              "schema": [
                {
                  "key": "0",
                  "name": "CustomerId",
                  "type": "string"
                },
                {
                  "key": "1",
                  "name": "FirstName",
                  "type": "string"
                },
                {
                  "key": "2",
                  "name": "LastName",
                  "type": "string"
                },
                {
                  "key": "3",
                  "name": "Gender",
                  "type": "string"
                },
                {
                  "key": "4",
                  "name": "Email",
                  "type": "string"
                },
                {
                  "key": "5",
                  "name": "Telephone",
                  "type": "string"
                },
                {
                  "key": "6",
                  "name": "Country",
                  "type": "string"
                },
                {
                  "key": "7",
                  "name": "City",
                  "type": "string"
                },
                {
                  "key": "8",
                  "name": "State",
                  "type": "string"
                },
                {
                  "key": "9",
                  "name": "PostCode",
                  "type": "int"
                },
                {
                  "key": "10",
                  "name": "StreetAddress",
                  "type": "string"
                },
                {
                  "key": "11",
                  "name": "DateOfBirth",
                  "type": "timestamp"
                },
                {
                  "key": "12",
                  "name": "Created_date",
                  "type": "timestamp"
                },
                {
                  "key": "13",
                  "name": "Source",
                  "type": "string"
                },
                {
                  "key": "14",
                  "name": "pid",
                  "type": "int"
                },
                {
                  "key": "15",
                  "name": "surveytype",
                  "type": "string"
                },
                {
                  "key": "16",
                  "name": "surverydate",
                  "type": "timestamp"
                },
                {
                  "key": "17",
                  "name": "question",
                  "type": "string"
                },
                {
                  "key": "18",
                  "name": "answer",
                  "type": "double"
                },
                {
                  "key": "19",
                  "name": "SurveyEmail",
                  "type": "string"
                },
                {
                  "key": "20",
                  "name": "Name",
                  "type": "string"
                },
                {
                  "key": "21",
                  "name": "AzureDataLake_residents_source1_cid",
                  "type": "int"
                },
                {
                  "key": "22",
                  "name": "AzureDataLake_residents_source1_cid_Alternate",
                  "type": "int"
                },
                {
                  "key": "23",
                  "name": "AzureDataLake_residents_source2_cid",
                  "type": "int"
                },
                {
                  "key": "24",
                  "name": "AzureDataLake_residents_source2_cid_Alternate",
                  "type": "int"
                },
                {
                  "key": "25",
                  "name": "AzureDataLake_surveys_sid",
                  "type": "int"
                },
                {
                  "key": "26",
                  "name": "AzureDataLake_surveys_sid_Alternate",
                  "type": "string"
                }
              ],
              "truncated": false
            },
            "isSummary": false,
            "language": "scala"
          },
          "persist_state": {
            "view": {
              "type": "details",
              "tableOptions": {},
              "chartOptions": {
                "chartType": "bar",
                "aggregationType": "sum",
                "categoryFieldKeys": [
                  "0"
                ],
                "seriesFieldKeys": [
                  "9"
                ],
                "isStacked": false
              }
            }
          }
        },
        "62ccad10-f5fc-4d3b-ac78-b7833db70be9": {
          "type": "Synapse.DataFrame",
          "sync_state": {
            "table": {
              "rows": [
                {
                  "0": "00edd8d4a35c4477b376c9dd5b04374c",
                  "1": "Dritan",
                  "2": "Kodra",
                  "3": "Male",
                  "4": "dritan.kodra@contoso.com",
                  "5": "801-555-0100",
                  "6": "United States",
                  "7": "Glendale",
                  "8": "AZ",
                  "9": "85306",
                  "10": "12345 Main Street",
                  "11": "1980-06-09 00:00:00",
                  "12": "2015-01-08 00:00:00",
                  "13": "Source1",
                  "14": "1111",
                  "15": "Renewal",
                  "16": "2022-03-23 00:00:00",
                  "17": "Condition of Property",
                  "18": "2.0",
                  "19": "dritan.kodra@contoso.com",
                  "20": "Dritan Kodra",
                  "21": "23",
                  "22": "23",
                  "23": "2023",
                  "24": "2023",
                  "25": "11151",
                  "26": "11140;11141;11142;11143;11144;11145;11146;11147;11148;11149;11150;11151",
                  "27": "23"
                },
                {
                  "0": "02285afedc6b0264e00f6195162129d3",
                  "1": "David",
                  "2": "Damgaard",
                  "3": "Male",
                  "4": "david.damgaard@contoso.com",
                  "5": "801-555-0100",
                  "6": "United States",
                  "7": "Severn",
                  "8": "MD",
                  "9": "21144",
                  "10": "12345 Main Street",
                  "11": "1990-04-22 00:00:00",
                  "12": "2016-02-10 00:00:00",
                  "13": "Source1",
                  "14": "3333",
                  "15": "Move-in",
                  "16": "2020-12-24 00:00:00",
                  "17": "Staff Courtesy",
                  "18": "0.0",
                  "19": "david.damgaard@contoso.com",
                  "20": "David Damgaard",
                  "21": "595",
                  "22": "595",
                  "25": "3248",
                  "26": "3244;3245;3246;3247;3248",
                  "27": "595"
                },
                {
                  "0": "02513d749ff853833e0f3df91e505296",
                  "1": "Orosz",
                  "2": "Fanni",
                  "3": "Female",
                  "4": "orosz.fanni@contoso.com",
                  "5": "801-555-0100",
                  "6": "United States",
                  "7": "Hayward",
                  "8": "CA",
                  "9": "94541",
                  "10": "12345 Main Street",
                  "11": "1971-10-01 00:00:00",
                  "12": "2014-02-01 00:00:00",
                  "13": "Source1",
                  "14": "6666",
                  "15": "Move-in",
                  "16": "2013-12-06 00:00:00",
                  "17": "Staff Courtesy",
                  "18": "3.0",
                  "19": "orosz.fanni@contoso.com",
                  "20": "Orosz Fanni",
                  "21": "1328",
                  "22": "1328",
                  "25": "7454",
                  "26": "7450;7451;7452;7453;7454",
                  "27": "1328"
                },
                {
                  "0": "028c7ed7792fb336f91418d9412af51d",
                  "1": "Alain",
                  "2": "Lacombe",
                  "3": "Male",
                  "4": "alain.lacombe@contoso.com",
                  "5": "801-555-0100",
                  "6": "United States",
                  "7": "Manchester",
                  "8": "CT",
                  "9": "6040",
                  "10": "12345 Main Street",
                  "11": "1979-07-24 00:00:00",
                  "12": "2017-09-13 00:00:00",
                  "13": "Source1",
                  "14": "5555",
                  "15": "Renewal",
                  "16": "2012-11-04 00:00:00",
                  "17": "Condition of Property",
                  "18": "3.0",
                  "19": "alain.lacombe@contoso.com",
                  "20": "Alain Lacombe",
                  "21": "991",
                  "22": "991",
                  "25": "5510",
                  "26": "5499;5500;5501;5502;5503;5504;5505;5506;5507;5508;5509;5510",
                  "27": "991"
                },
                {
                  "0": "043cfbab88ba0b88b75dde8b49e71a19",
                  "1": "Abdukerim",
                  "2": "Ibrahim",
                  "3": "Male",
                  "4": "abdukerim.ibrahim@contoso.com",
                  "5": "801-555-0100",
                  "6": "United States",
                  "7": "Montgomery",
                  "8": "AL",
                  "9": "36117",
                  "10": "12345 Main Street",
                  "11": "1984-04-01 00:00:00",
                  "12": "2011-12-23 00:00:00",
                  "13": "Source2",
                  "14": "9999",
                  "15": "Move-in",
                  "16": "2011-10-27 00:00:00",
                  "17": "Staff Courtesy",
                  "18": "3.0",
                  "19": "abdukerim.ibrahim@contoso.com",
                  "20": "Abdukerim Ibrahim",
                  "23": "1849",
                  "24": "1849",
                  "25": "10056",
                  "26": "10052;10053;10054;10055;10056",
                  "27": "1849"
                },
                {
                  "0": "05139b830c19454b138c58c1e8fca7ee",
                  "1": "Maricel",
                  "2": "Bautista",
                  "3": "Female",
                  "4": "maricel.bautista@contoso.com",
                  "5": "801-555-0100",
                  "6": "United States",
                  "7": "Oakland",
                  "8": "CA",
                  "9": "94605",
                  "10": "12345 Main Street",
                  "11": "1980-12-14 00:00:00",
                  "12": "2013-06-12 00:00:00",
                  "13": "Source1",
                  "14": "4444",
                  "15": "Renewal",
                  "16": "2015-12-27 00:00:00",
                  "17": "Condition of Property",
                  "18": "1.0",
                  "19": "maricel.bautista@contoso.com",
                  "20": "Maricel Bautista",
                  "21": "844",
                  "22": "844",
                  "25": "4703",
                  "26": "4692;4693;4694;4695;4696;4697;4698;4699;4700;4701;4702;4703",
                  "27": "844"
                },
                {
                  "0": "05f35a4c9c623d6395ef1bf9d6c8eff4",
                  "1": "Arnoud",
                  "2": "Wolthuis",
                  "3": "Male",
                  "4": "arnoud.wolthuis@contoso.com",
                  "5": "801-555-0100",
                  "6": "United States",
                  "7": "Fremont",
                  "8": "CA",
                  "9": "94536",
                  "10": "12345 Main Street",
                  "11": "1983-03-16 00:00:00",
                  "12": "2012-01-21 00:00:00",
                  "13": "Source1",
                  "14": "3333",
                  "15": "Renewal",
                  "16": "2020-03-16 00:00:00",
                  "17": "Condition of Property",
                  "18": "1.0",
                  "19": "arnoud.wolthuis@contoso.com",
                  "20": "Arnoud Wolthuis",
                  "21": "616",
                  "22": "616",
                  "25": "3341",
                  "26": "3330;3331;3332;3333;3334;3335;3336;3337;3338;3339;3340;3341",
                  "27": "616"
                },
                {
                  "0": "072ac171cf700a557c1f112ecad33e3a",
                  "1": "Imtiyaz",
                  "2": "Salman",
                  "3": "Male",
                  "4": "imtiyaz.salman@contoso.com",
                  "5": "801-555-0100",
                  "6": "United States",
                  "7": "Nashville",
                  "8": "TN",
                  "9": "37013",
                  "10": "12345 Main Street",
                  "11": "1986-06-08 00:00:00",
                  "12": "2019-09-17 00:00:00",
                  "13": "Source1",
                  "14": "1111",
                  "15": "Move-in",
                  "16": "2010-09-28 00:00:00",
                  "17": "Staff Courtesy",
                  "18": "3.0",
                  "19": "imtiyaz.salman@contoso.com",
                  "20": "Imtiyaz Salman",
                  "21": "79",
                  "22": "79",
                  "23": "2079",
                  "24": "2079",
                  "25": "410",
                  "26": "406;407;408;409;410",
                  "27": "79"
                },
                {
                  "0": "072cf6f503e490af133c48f41d4553c7",
                  "1": "Atamyrat",
                  "2": "Nursahedow",
                  "3": "Male",
                  "4": "atamyrat.nursahedow@contoso.com",
                  "5": "801-555-0100",
                  "6": "United States",
                  "7": "Annapolis",
                  "8": "MD",
                  "9": "21401",
                  "10": "12345 Main Street",
                  "11": "1982-11-09 00:00:00",
                  "12": "2018-04-12 00:00:00",
                  "13": "Source2",
                  "14": "9999",
                  "15": "Move-in",
                  "16": "2010-10-21 00:00:00",
                  "17": "Staff Courtesy",
                  "18": "5.0",
                  "19": "atamyrat.nursahedow@contoso.com",
                  "20": "Atamyrat Nursahedow",
                  "23": "1921",
                  "24": "1921",
                  "25": "10514",
                  "26": "10510;10511;10512;10513;10514",
                  "27": "1921"
                },
                {
                  "0": "073da1b8ac0c8f4a3f57a160fd1137fd",
                  "1": "Claude",
                  "2": "Aupry",
                  "3": "Male",
                  "4": "claude.aupry@contoso.com",
                  "5": "801-555-0100",
                  "6": "United States",
                  "7": "Fayetteville",
                  "8": "AR",
                  "9": "72703",
                  "10": "12345 Main Street",
                  "11": "1998-01-11 00:00:00",
                  "12": "2014-03-12 00:00:00",
                  "13": "Source1",
                  "14": "5555",
                  "15": "Move-in",
                  "16": "2010-09-13 00:00:00",
                  "17": "Staff Courtesy",
                  "18": "4.0",
                  "19": "claude.aupry@contoso.com",
                  "20": "Claude Aupry",
                  "21": "1015",
                  "22": "1015",
                  "25": "5632",
                  "26": "5628;5629;5630;5631;5632",
                  "27": "1015"
                }
              ],
              "schema": [
                {
                  "key": "0",
                  "name": "CustomerId",
                  "type": "string"
                },
                {
                  "key": "1",
                  "name": "FirstName",
                  "type": "string"
                },
                {
                  "key": "2",
                  "name": "LastName",
                  "type": "string"
                },
                {
                  "key": "3",
                  "name": "Gender",
                  "type": "string"
                },
                {
                  "key": "4",
                  "name": "Email",
                  "type": "string"
                },
                {
                  "key": "5",
                  "name": "Telephone",
                  "type": "string"
                },
                {
                  "key": "6",
                  "name": "Country",
                  "type": "string"
                },
                {
                  "key": "7",
                  "name": "City",
                  "type": "string"
                },
                {
                  "key": "8",
                  "name": "State",
                  "type": "string"
                },
                {
                  "key": "9",
                  "name": "PostCode",
                  "type": "int"
                },
                {
                  "key": "10",
                  "name": "StreetAddress",
                  "type": "string"
                },
                {
                  "key": "11",
                  "name": "DateOfBirth",
                  "type": "timestamp"
                },
                {
                  "key": "12",
                  "name": "Created_date",
                  "type": "timestamp"
                },
                {
                  "key": "13",
                  "name": "Source",
                  "type": "string"
                },
                {
                  "key": "14",
                  "name": "pid",
                  "type": "int"
                },
                {
                  "key": "15",
                  "name": "surveytype",
                  "type": "string"
                },
                {
                  "key": "16",
                  "name": "surverydate",
                  "type": "timestamp"
                },
                {
                  "key": "17",
                  "name": "question",
                  "type": "string"
                },
                {
                  "key": "18",
                  "name": "answer",
                  "type": "double"
                },
                {
                  "key": "19",
                  "name": "SurveyEmail",
                  "type": "string"
                },
                {
                  "key": "20",
                  "name": "Name",
                  "type": "string"
                },
                {
                  "key": "21",
                  "name": "AzureDataLake_residents_source1_cid",
                  "type": "int"
                },
                {
                  "key": "22",
                  "name": "AzureDataLake_residents_source1_cid_Alternate",
                  "type": "int"
                },
                {
                  "key": "23",
                  "name": "AzureDataLake_residents_source2_cid",
                  "type": "int"
                },
                {
                  "key": "24",
                  "name": "AzureDataLake_residents_source2_cid_Alternate",
                  "type": "int"
                },
                {
                  "key": "25",
                  "name": "AzureDataLake_surveys_sid",
                  "type": "int"
                },
                {
                  "key": "26",
                  "name": "AzureDataLake_surveys_sid_Alternate",
                  "type": "string"
                },
                {
                  "key": "27",
                  "name": "CID",
                  "type": "int"
                }
              ],
              "truncated": false
            },
            "isSummary": false,
            "language": "scala"
          },
          "persist_state": {
            "view": {
              "type": "details",
              "tableOptions": {},
              "chartOptions": {
                "chartType": "bar",
                "aggregationType": "sum",
                "categoryFieldKeys": [
                  "0"
                ],
                "seriesFieldKeys": [
                  "9"
                ],
                "isStacked": false
              }
            }
          }
        },
        "3e611858-6d26-4e17-b539-4f0c449f5e0f": {
          "type": "Synapse.DataFrame",
          "sync_state": {
            "table": {
              "rows": [
                {
                  "0": "00edd8d4a35c4477b376c9dd5b04374c",
                  "1": "23",
                  "2": "Dritan Kodra",
                  "3": "Male",
                  "4": "dritan.kodra@contoso.com",
                  "5": "Glendale",
                  "6": "AZ",
                  "7": "1980-06-09 00:00:00"
                },
                {
                  "0": "02285afedc6b0264e00f6195162129d3",
                  "1": "595",
                  "2": "David Damgaard",
                  "3": "Male",
                  "4": "david.damgaard@contoso.com",
                  "5": "Severn",
                  "6": "MD",
                  "7": "1990-04-22 00:00:00"
                },
                {
                  "0": "02513d749ff853833e0f3df91e505296",
                  "1": "1328",
                  "2": "Orosz Fanni",
                  "3": "Female",
                  "4": "orosz.fanni@contoso.com",
                  "5": "Hayward",
                  "6": "CA",
                  "7": "1971-10-01 00:00:00"
                },
                {
                  "0": "028c7ed7792fb336f91418d9412af51d",
                  "1": "991",
                  "2": "Alain Lacombe",
                  "3": "Male",
                  "4": "alain.lacombe@contoso.com",
                  "5": "Manchester",
                  "6": "CT",
                  "7": "1979-07-24 00:00:00"
                },
                {
                  "0": "043cfbab88ba0b88b75dde8b49e71a19",
                  "1": "1849",
                  "2": "Abdukerim Ibrahim",
                  "3": "Male",
                  "4": "abdukerim.ibrahim@contoso.com",
                  "5": "Montgomery",
                  "6": "AL",
                  "7": "1984-04-01 00:00:00"
                },
                {
                  "0": "05139b830c19454b138c58c1e8fca7ee",
                  "1": "844",
                  "2": "Maricel Bautista",
                  "3": "Female",
                  "4": "maricel.bautista@contoso.com",
                  "5": "Oakland",
                  "6": "CA",
                  "7": "1980-12-14 00:00:00"
                },
                {
                  "0": "05f35a4c9c623d6395ef1bf9d6c8eff4",
                  "1": "616",
                  "2": "Arnoud Wolthuis",
                  "3": "Male",
                  "4": "arnoud.wolthuis@contoso.com",
                  "5": "Fremont",
                  "6": "CA",
                  "7": "1983-03-16 00:00:00"
                },
                {
                  "0": "072ac171cf700a557c1f112ecad33e3a",
                  "1": "79",
                  "2": "Imtiyaz Salman",
                  "3": "Male",
                  "4": "imtiyaz.salman@contoso.com",
                  "5": "Nashville",
                  "6": "TN",
                  "7": "1986-06-08 00:00:00"
                },
                {
                  "0": "072cf6f503e490af133c48f41d4553c7",
                  "1": "1921",
                  "2": "Atamyrat Nursahedow",
                  "3": "Male",
                  "4": "atamyrat.nursahedow@contoso.com",
                  "5": "Annapolis",
                  "6": "MD",
                  "7": "1982-11-09 00:00:00"
                },
                {
                  "0": "073da1b8ac0c8f4a3f57a160fd1137fd",
                  "1": "1015",
                  "2": "Claude Aupry",
                  "3": "Male",
                  "4": "claude.aupry@contoso.com",
                  "5": "Fayetteville",
                  "6": "AR",
                  "7": "1998-01-11 00:00:00"
                }
              ],
              "schema": [
                {
                  "key": "0",
                  "name": "CustomerId",
                  "type": "string"
                },
                {
                  "key": "1",
                  "name": "cid",
                  "type": "int"
                },
                {
                  "key": "2",
                  "name": "Name",
                  "type": "string"
                },
                {
                  "key": "3",
                  "name": "Gender",
                  "type": "string"
                },
                {
                  "key": "4",
                  "name": "Email",
                  "type": "string"
                },
                {
                  "key": "5",
                  "name": "City",
                  "type": "string"
                },
                {
                  "key": "6",
                  "name": "State",
                  "type": "string"
                },
                {
                  "key": "7",
                  "name": "DateOfBirth",
                  "type": "timestamp"
                }
              ],
              "truncated": false
            },
            "isSummary": false,
            "language": "scala"
          },
          "persist_state": {
            "view": {
              "type": "details",
              "tableOptions": {},
              "chartOptions": {
                "chartType": "bar",
                "aggregationType": "sum",
                "categoryFieldKeys": [
                  "0"
                ],
                "seriesFieldKeys": [
                  "1"
                ],
                "isStacked": false
              }
            }
          }
        },
        "323030c0-76a3-4e6c-9fe4-ca384560109e": {
          "type": "Synapse.DataFrame",
          "sync_state": {
            "table": {
              "rows": [
                {
                  "0": "ben.van.zyl@contoso.com",
                  "1": "Ben",
                  "2": "van",
                  "3": "1111",
                  "4": "Move-in",
                  "5": "2013-11-21 00:00:00",
                  "6": "Overall Satisfaction",
                  "7": "2",
                  "8": "0"
                },
                {
                  "0": "ben.van.zyl@contoso.com",
                  "1": "Ben",
                  "2": "van",
                  "3": "1111",
                  "4": "Move-in",
                  "5": "2013-11-21 00:00:00",
                  "6": "Ease of process",
                  "7": "4",
                  "8": "1"
                },
                {
                  "0": "ben.van.zyl@contoso.com",
                  "1": "Ben",
                  "2": "van",
                  "3": "1111",
                  "4": "Move-in",
                  "5": "2013-11-21 00:00:00",
                  "6": "Staff Communication",
                  "7": "4",
                  "8": "2"
                },
                {
                  "0": "ben.van.zyl@contoso.com",
                  "1": "Ben",
                  "2": "van",
                  "3": "1111",
                  "4": "Move-in",
                  "5": "2013-11-21 00:00:00",
                  "6": "Staff Professionalism",
                  "7": "2",
                  "8": "3"
                },
                {
                  "0": "ben.van.zyl@contoso.com",
                  "1": "Ben",
                  "2": "van",
                  "3": "1111",
                  "4": "Move-in",
                  "5": "2013-11-21 00:00:00",
                  "6": "Staff Courtesy",
                  "7": "4",
                  "8": "4"
                },
                {
                  "0": "ben.van.zyl@contoso.com",
                  "1": "Ben",
                  "2": "van",
                  "3": "1111",
                  "4": "Renewal",
                  "5": "2013-11-21 00:00:00",
                  "6": "Overall Satisfaction",
                  "7": "4",
                  "8": "5"
                },
                {
                  "0": "ben.van.zyl@contoso.com",
                  "1": "Ben",
                  "2": "van",
                  "3": "1111",
                  "4": "Renewal",
                  "5": "2013-11-21 00:00:00",
                  "6": "Management Communication",
                  "7": "2",
                  "8": "6"
                },
                {
                  "0": "ben.van.zyl@contoso.com",
                  "1": "Ben",
                  "2": "van",
                  "3": "1111",
                  "4": "Renewal",
                  "5": "2013-11-21 00:00:00",
                  "6": "Management Professionalism",
                  "7": "2",
                  "8": "7"
                },
                {
                  "0": "ben.van.zyl@contoso.com",
                  "1": "Ben",
                  "2": "van",
                  "3": "1111",
                  "4": "Renewal",
                  "5": "2013-11-21 00:00:00",
                  "6": "Management Courtesy",
                  "7": "2",
                  "8": "8"
                },
                {
                  "0": "ben.van.zyl@contoso.com",
                  "1": "Ben",
                  "2": "van",
                  "3": "1111",
                  "4": "Renewal",
                  "5": "2013-11-21 00:00:00",
                  "6": "Management Problem Resolution",
                  "7": "2",
                  "8": "9"
                }
              ],
              "schema": [
                {
                  "key": "0",
                  "name": "Email",
                  "type": "string"
                },
                {
                  "key": "1",
                  "name": "FirstName",
                  "type": "string"
                },
                {
                  "key": "2",
                  "name": "LastName",
                  "type": "string"
                },
                {
                  "key": "3",
                  "name": "pid",
                  "type": "int"
                },
                {
                  "key": "4",
                  "name": "surveytype",
                  "type": "string"
                },
                {
                  "key": "5",
                  "name": "surverydate",
                  "type": "timestamp"
                },
                {
                  "key": "6",
                  "name": "question",
                  "type": "string"
                },
                {
                  "key": "7",
                  "name": "answer",
                  "type": "int"
                },
                {
                  "key": "8",
                  "name": "sid",
                  "type": "int"
                }
              ],
              "truncated": false
            },
            "isSummary": false,
            "language": "scala"
          },
          "persist_state": {
            "view": {
              "type": "details",
              "tableOptions": {},
              "chartOptions": {
                "chartType": "bar",
                "aggregationType": "sum",
                "categoryFieldKeys": [
                  "0"
                ],
                "seriesFieldKeys": [
                  "3"
                ],
                "isStacked": false
              }
            }
          }
        },
        "4c5c2559-4fdd-44ec-af44-10f0f588d8ff": {
          "type": "Synapse.DataFrame",
          "sync_state": {
            "table": {
              "rows": [
                {
                  "0": "1d32e25a252752fc05d420e1987778e7",
                  "1": "1",
                  "2": "Ben van Zyl",
                  "3": "Male",
                  "4": "ben.van.zyl@contoso.com",
                  "5": "Washington",
                  "6": "DC",
                  "7": "1985-07-26 00:00:00",
                  "8": "ben.van.zyl@contoso.com",
                  "9": "Ben",
                  "10": "van",
                  "11": "1111",
                  "12": "Move-in",
                  "13": "2013-11-21 00:00:00",
                  "14": "Overall Satisfaction",
                  "15": "2",
                  "16": "0"
                },
                {
                  "0": "1d32e25a252752fc05d420e1987778e7",
                  "1": "1",
                  "2": "Ben van Zyl",
                  "3": "Male",
                  "4": "ben.van.zyl@contoso.com",
                  "5": "Washington",
                  "6": "DC",
                  "7": "1985-07-26 00:00:00",
                  "8": "ben.van.zyl@contoso.com",
                  "9": "Ben",
                  "10": "van",
                  "11": "1111",
                  "12": "Move-in",
                  "13": "2013-11-21 00:00:00",
                  "14": "Ease of process",
                  "15": "4",
                  "16": "1"
                },
                {
                  "0": "1d32e25a252752fc05d420e1987778e7",
                  "1": "1",
                  "2": "Ben van Zyl",
                  "3": "Male",
                  "4": "ben.van.zyl@contoso.com",
                  "5": "Washington",
                  "6": "DC",
                  "7": "1985-07-26 00:00:00",
                  "8": "ben.van.zyl@contoso.com",
                  "9": "Ben",
                  "10": "van",
                  "11": "1111",
                  "12": "Move-in",
                  "13": "2013-11-21 00:00:00",
                  "14": "Staff Communication",
                  "15": "4",
                  "16": "2"
                },
                {
                  "0": "1d32e25a252752fc05d420e1987778e7",
                  "1": "1",
                  "2": "Ben van Zyl",
                  "3": "Male",
                  "4": "ben.van.zyl@contoso.com",
                  "5": "Washington",
                  "6": "DC",
                  "7": "1985-07-26 00:00:00",
                  "8": "ben.van.zyl@contoso.com",
                  "9": "Ben",
                  "10": "van",
                  "11": "1111",
                  "12": "Move-in",
                  "13": "2013-11-21 00:00:00",
                  "14": "Staff Professionalism",
                  "15": "2",
                  "16": "3"
                },
                {
                  "0": "1d32e25a252752fc05d420e1987778e7",
                  "1": "1",
                  "2": "Ben van Zyl",
                  "3": "Male",
                  "4": "ben.van.zyl@contoso.com",
                  "5": "Washington",
                  "6": "DC",
                  "7": "1985-07-26 00:00:00",
                  "8": "ben.van.zyl@contoso.com",
                  "9": "Ben",
                  "10": "van",
                  "11": "1111",
                  "12": "Move-in",
                  "13": "2013-11-21 00:00:00",
                  "14": "Staff Courtesy",
                  "15": "4",
                  "16": "4"
                },
                {
                  "0": "1d32e25a252752fc05d420e1987778e7",
                  "1": "1",
                  "2": "Ben van Zyl",
                  "3": "Male",
                  "4": "ben.van.zyl@contoso.com",
                  "5": "Washington",
                  "6": "DC",
                  "7": "1985-07-26 00:00:00",
                  "8": "ben.van.zyl@contoso.com",
                  "9": "Ben",
                  "10": "van",
                  "11": "1111",
                  "12": "Renewal",
                  "13": "2013-11-21 00:00:00",
                  "14": "Overall Satisfaction",
                  "15": "4",
                  "16": "5"
                },
                {
                  "0": "1d32e25a252752fc05d420e1987778e7",
                  "1": "1",
                  "2": "Ben van Zyl",
                  "3": "Male",
                  "4": "ben.van.zyl@contoso.com",
                  "5": "Washington",
                  "6": "DC",
                  "7": "1985-07-26 00:00:00",
                  "8": "ben.van.zyl@contoso.com",
                  "9": "Ben",
                  "10": "van",
                  "11": "1111",
                  "12": "Renewal",
                  "13": "2013-11-21 00:00:00",
                  "14": "Management Communication",
                  "15": "2",
                  "16": "6"
                },
                {
                  "0": "1d32e25a252752fc05d420e1987778e7",
                  "1": "1",
                  "2": "Ben van Zyl",
                  "3": "Male",
                  "4": "ben.van.zyl@contoso.com",
                  "5": "Washington",
                  "6": "DC",
                  "7": "1985-07-26 00:00:00",
                  "8": "ben.van.zyl@contoso.com",
                  "9": "Ben",
                  "10": "van",
                  "11": "1111",
                  "12": "Renewal",
                  "13": "2013-11-21 00:00:00",
                  "14": "Management Professionalism",
                  "15": "2",
                  "16": "7"
                },
                {
                  "0": "1d32e25a252752fc05d420e1987778e7",
                  "1": "1",
                  "2": "Ben van Zyl",
                  "3": "Male",
                  "4": "ben.van.zyl@contoso.com",
                  "5": "Washington",
                  "6": "DC",
                  "7": "1985-07-26 00:00:00",
                  "8": "ben.van.zyl@contoso.com",
                  "9": "Ben",
                  "10": "van",
                  "11": "1111",
                  "12": "Renewal",
                  "13": "2013-11-21 00:00:00",
                  "14": "Management Courtesy",
                  "15": "2",
                  "16": "8"
                },
                {
                  "0": "1d32e25a252752fc05d420e1987778e7",
                  "1": "1",
                  "2": "Ben van Zyl",
                  "3": "Male",
                  "4": "ben.van.zyl@contoso.com",
                  "5": "Washington",
                  "6": "DC",
                  "7": "1985-07-26 00:00:00",
                  "8": "ben.van.zyl@contoso.com",
                  "9": "Ben",
                  "10": "van",
                  "11": "1111",
                  "12": "Renewal",
                  "13": "2013-11-21 00:00:00",
                  "14": "Management Problem Resolution",
                  "15": "2",
                  "16": "9"
                }
              ],
              "schema": [
                {
                  "key": "0",
                  "name": "CustomerId",
                  "type": "string"
                },
                {
                  "key": "1",
                  "name": "cid",
                  "type": "int"
                },
                {
                  "key": "2",
                  "name": "Name",
                  "type": "string"
                },
                {
                  "key": "3",
                  "name": "Gender",
                  "type": "string"
                },
                {
                  "key": "4",
                  "name": "Email",
                  "type": "string"
                },
                {
                  "key": "5",
                  "name": "City",
                  "type": "string"
                },
                {
                  "key": "6",
                  "name": "State",
                  "type": "string"
                },
                {
                  "key": "7",
                  "name": "DateOfBirth",
                  "type": "timestamp"
                },
                {
                  "key": "8",
                  "name": "SurveyEmail",
                  "type": "string"
                },
                {
                  "key": "9",
                  "name": "FirstName",
                  "type": "string"
                },
                {
                  "key": "10",
                  "name": "LastName",
                  "type": "string"
                },
                {
                  "key": "11",
                  "name": "pid",
                  "type": "int"
                },
                {
                  "key": "12",
                  "name": "surveytype",
                  "type": "string"
                },
                {
                  "key": "13",
                  "name": "surverydate",
                  "type": "timestamp"
                },
                {
                  "key": "14",
                  "name": "question",
                  "type": "string"
                },
                {
                  "key": "15",
                  "name": "answer",
                  "type": "int"
                },
                {
                  "key": "16",
                  "name": "sid",
                  "type": "int"
                }
              ],
              "truncated": false
            },
            "isSummary": false,
            "language": "scala"
          },
          "persist_state": {
            "view": {
              "type": "details",
              "tableOptions": {},
              "chartOptions": {
                "chartType": "bar",
                "aggregationType": "sum",
                "categoryFieldKeys": [
                  "0"
                ],
                "seriesFieldKeys": [
                  "1"
                ],
                "isStacked": false
              }
            }
          }
        },
        "21584d63-bff6-4d65-9c86-5ea461f0ef23": {
          "type": "Synapse.DataFrame",
          "sync_state": {
            "table": {
              "rows": [
                {
                  "0": "176",
                  "1": "2222",
                  "2": "Move-in",
                  "3": "5.0"
                },
                {
                  "0": "272",
                  "1": "2222",
                  "2": "Move-in",
                  "3": "2.8"
                },
                {
                  "0": "572",
                  "1": "3333",
                  "2": "Move-in",
                  "3": "3.8"
                },
                {
                  "0": "578",
                  "1": "3333",
                  "2": "Move-in",
                  "3": "1.2"
                },
                {
                  "0": "1271",
                  "1": "6666",
                  "2": "Move-in",
                  "3": "0.8"
                },
                {
                  "0": "1910",
                  "1": "9999",
                  "2": "Move-in",
                  "3": "0.0"
                },
                {
                  "0": "1942",
                  "1": "9999",
                  "2": "Move-in",
                  "3": "0.4"
                },
                {
                  "0": "1",
                  "1": "1111",
                  "2": "Renewal",
                  "3": "2.857142857142857"
                },
                {
                  "0": "446",
                  "1": "2222",
                  "2": "Move-in",
                  "3": "4.2"
                },
                {
                  "0": "452",
                  "1": "2222",
                  "2": "Move-in",
                  "3": "3.2"
                }
              ],
              "schema": [
                {
                  "key": "0",
                  "name": "cid",
                  "type": "int"
                },
                {
                  "key": "1",
                  "name": "pid",
                  "type": "int"
                },
                {
                  "key": "2",
                  "name": "surveytype",
                  "type": "string"
                },
                {
                  "key": "3",
                  "name": "avg(answer)",
                  "type": "double"
                }
              ],
              "truncated": false
            },
            "isSummary": false,
            "language": "scala"
          },
          "persist_state": {
            "view": {
              "type": "details",
              "tableOptions": {},
              "chartOptions": {
                "chartType": "bar",
                "aggregationType": "sum",
                "categoryFieldKeys": [
                  "1"
                ],
                "seriesFieldKeys": [
                  "0"
                ],
                "isStacked": false
              }
            }
          }
        },
        "51ed11b3-f4c4-47f4-acdd-3b32edaf6c05": {
          "type": "Synapse.DataFrame",
          "sync_state": {
            "table": {
              "rows": [
                {
                  "0": "108",
                  "1": "1111",
                  "2": "Move-in",
                  "4": "3.0",
                  "10": "1.0",
                  "11": "3.0",
                  "12": "1.0",
                  "13": "3.0"
                },
                {
                  "0": "1960",
                  "1": "9999",
                  "2": "Move-in",
                  "4": "5.0",
                  "10": "5.0",
                  "11": "3.0",
                  "12": "5.0",
                  "13": "5.0"
                },
                {
                  "0": "1667",
                  "1": "8888",
                  "2": "Move-in",
                  "4": "2.0",
                  "10": "2.0",
                  "11": "2.0",
                  "12": "4.0",
                  "13": "4.0"
                },
                {
                  "0": "1436",
                  "1": "7777",
                  "2": "Move-in",
                  "4": "3.0",
                  "10": "5.0",
                  "11": "3.0",
                  "12": "5.0",
                  "13": "3.0"
                },
                {
                  "0": "1334",
                  "1": "6666",
                  "2": "Move-in",
                  "4": "3.0",
                  "10": "3.0",
                  "11": "1.0",
                  "12": "1.0",
                  "13": "3.0"
                },
                {
                  "0": "1043",
                  "1": "5555",
                  "2": "Move-in",
                  "4": "4.0",
                  "10": "2.0",
                  "11": "4.0",
                  "12": "4.0",
                  "13": "2.0"
                },
                {
                  "0": "1408",
                  "1": "7777",
                  "2": "Move-in",
                  "4": "2.0",
                  "10": "2.0",
                  "11": "4.0",
                  "12": "4.0",
                  "13": "2.0"
                },
                {
                  "0": "895",
                  "1": "5555",
                  "2": "Move-in",
                  "4": "2.0",
                  "10": "4.0",
                  "11": "4.0",
                  "12": "4.0",
                  "13": "4.0"
                },
                {
                  "0": "1169",
                  "1": "5555",
                  "2": "Move-in",
                  "4": "0.0",
                  "10": "0.0",
                  "11": "0.0",
                  "12": "0.0",
                  "13": "2.0"
                },
                {
                  "0": "1813",
                  "1": "9999",
                  "2": "Renewal",
                  "3": "3.0",
                  "5": "3.0",
                  "6": "3.0",
                  "7": "3.0",
                  "8": "5.0",
                  "9": "5.0",
                  "10": "3.0"
                }
              ],
              "schema": [
                {
                  "key": "0",
                  "name": "cid",
                  "type": "int"
                },
                {
                  "key": "1",
                  "name": "pid",
                  "type": "int"
                },
                {
                  "key": "2",
                  "name": "surveytype",
                  "type": "string"
                },
                {
                  "key": "3",
                  "name": "Condition of Property",
                  "type": "double"
                },
                {
                  "key": "4",
                  "name": "Ease of process",
                  "type": "double"
                },
                {
                  "key": "5",
                  "name": "Maintenance Overall Satisfaction",
                  "type": "double"
                },
                {
                  "key": "6",
                  "name": "Management Communication",
                  "type": "double"
                },
                {
                  "key": "7",
                  "name": "Management Courtesy",
                  "type": "double"
                },
                {
                  "key": "8",
                  "name": "Management Problem Resolution",
                  "type": "double"
                },
                {
                  "key": "9",
                  "name": "Management Professionalism",
                  "type": "double"
                },
                {
                  "key": "10",
                  "name": "Overall Satisfaction",
                  "type": "double"
                },
                {
                  "key": "11",
                  "name": "Staff Communication",
                  "type": "double"
                },
                {
                  "key": "12",
                  "name": "Staff Courtesy",
                  "type": "double"
                },
                {
                  "key": "13",
                  "name": "Staff Professionalism",
                  "type": "double"
                }
              ],
              "truncated": false
            },
            "isSummary": false,
            "language": "scala"
          },
          "persist_state": {
            "view": {
              "type": "details",
              "tableOptions": {},
              "chartOptions": {
                "chartType": "bar",
                "aggregationType": "sum",
                "categoryFieldKeys": [
                  "1"
                ],
                "seriesFieldKeys": [
                  "0"
                ],
                "isStacked": false
              }
            }
          }
        },
        "cb4ec0eb-7d9b-46f5-a954-dea743c0e1b9": {
          "type": "Synapse.DataFrame",
          "sync_state": {
            "table": {
              "rows": [
                {
                  "0": "df73942ad98f753a311df0530ef345e8",
                  "1": "Lester Tomas",
                  "2": "Male",
                  "3": "lester.tomas@contoso.com",
                  "4": "Manchester",
                  "5": "CT",
                  "6": "1974-07-03 00:00:00",
                  "7": "841",
                  "8": "4444",
                  "9": "Renewal",
                  "10": "2.0",
                  "12": "0.0",
                  "13": "0.0",
                  "14": "2.0",
                  "15": "0.0",
                  "16": "0.0",
                  "17": "0.0"
                },
                {
                  "0": "33f8944de2801ad63e1f7a54e1af6b47",
                  "1": "Dabir Al-Zuhairi",
                  "2": "Male",
                  "3": "dabir.al-zuhairi@contoso.com",
                  "4": "Salinas",
                  "5": "CA",
                  "6": "1982-10-03 00:00:00",
                  "7": "58",
                  "8": "1111",
                  "9": "Move-in",
                  "11": "0.0",
                  "17": "2.0",
                  "18": "0.0",
                  "19": "2.0",
                  "20": "2.0"
                },
                {
                  "0": "3abe326b4e9aa5d8d6f43e578d3abe15",
                  "1": "Binta Sow",
                  "2": "Female",
                  "3": "binta.sow@contoso.com",
                  "4": "Crownsville",
                  "5": "MD",
                  "6": "1992-06-16 00:00:00",
                  "7": "1729",
                  "8": "8888",
                  "9": "Move-in",
                  "11": "3.0",
                  "17": "1.0",
                  "18": "3.0",
                  "19": "1.0",
                  "20": "1.0"
                },
                {
                  "0": "4a916b5b98f71c4a02b71cc19b7006f3",
                  "1": "Nikola Janu",
                  "2": "Gender neutral",
                  "3": "nikola.janu@contoso.com",
                  "4": "Glendale",
                  "5": "AZ",
                  "6": "1982-01-19 00:00:00",
                  "7": "533",
                  "8": "3333",
                  "9": "Renewal",
                  "10": "4.0",
                  "12": "2.0",
                  "13": "2.0",
                  "14": "4.0",
                  "15": "4.0",
                  "16": "4.0",
                  "17": "2.0"
                },
                {
                  "0": "ee4754761fc57dd9fed40f16c2ad84ca",
                  "1": "Sama Elnubi",
                  "2": "Female",
                  "3": "sama.elnubi@contoso.com",
                  "4": "Washington",
                  "5": "DC",
                  "6": "1996-07-12 00:00:00",
                  "7": "89",
                  "8": "1111",
                  "9": "Move-in",
                  "11": "3.0",
                  "17": "2.0",
                  "18": "2.0",
                  "19": "1.0",
                  "20": "3.0"
                },
                {
                  "0": "fe84c5bbe0c860a25602cb713ebc0b5f",
                  "1": "Tiaan Theron",
                  "2": "Male",
                  "3": "tiaan.theron@contoso.com",
                  "4": "Grass Valley",
                  "5": "CA",
                  "6": "1988-04-02 00:00:00",
                  "7": "6",
                  "8": "9999",
                  "9": "Move-in",
                  "11": "5.0",
                  "17": "5.0",
                  "18": "3.0",
                  "19": "3.0",
                  "20": "5.0"
                },
                {
                  "0": "704ae74996df2042bbbdfbc6a6d744ed",
                  "1": "Jasna Hrvatin",
                  "2": "Female",
                  "3": "jasna.hrvatin@contoso.com",
                  "4": "Montgomery",
                  "5": "AL",
                  "6": "1990-12-10 00:00:00",
                  "7": "476",
                  "8": "2222",
                  "9": "Renewal",
                  "10": "5.0",
                  "12": "3.0",
                  "13": "5.0",
                  "14": "3.0",
                  "15": "3.0",
                  "16": "3.0",
                  "17": "5.0"
                },
                {
                  "0": "85c00fced28a62b1fdc453d7e4b48b5d",
                  "1": "Dmytro Tkachuk",
                  "2": "Male",
                  "3": "dmytro.tkachuk@contoso.com",
                  "4": "Lynn Haven",
                  "5": "FL",
                  "6": "1971-09-14 00:00:00",
                  "7": "1897",
                  "8": "9999",
                  "9": "Move-in",
                  "11": "3.0",
                  "17": "5.0",
                  "18": "3.0",
                  "19": "5.0",
                  "20": "3.0"
                },
                {
                  "0": "fdc0d4ebfa7d266fc35d4886fd24e0e3",
                  "1": "Ajeng Yovita",
                  "2": "Female",
                  "3": "ajeng.yovita@contoso.com",
                  "4": "Hayward",
                  "5": "CA",
                  "6": "1999-09-27 00:00:00",
                  "7": "1412",
                  "8": "7777",
                  "9": "Move-in",
                  "11": "4.0",
                  "17": "4.0",
                  "18": "4.0",
                  "19": "4.0",
                  "20": "4.0"
                },
                {
                  "0": "daa359546b63389d68bfe2da4ef36761",
                  "1": "Vic Chioh",
                  "2": "Male",
                  "3": "vic.chioh@contoso.com",
                  "4": "Essex",
                  "5": "VT",
                  "6": "1982-09-18 00:00:00",
                  "7": "424",
                  "8": "2222",
                  "9": "Move-in",
                  "11": "3.0",
                  "17": "1.0",
                  "18": "3.0",
                  "19": "1.0",
                  "20": "3.0"
                }
              ],
              "schema": [
                {
                  "key": "0",
                  "name": "CustomerId",
                  "type": "string"
                },
                {
                  "key": "1",
                  "name": "Name",
                  "type": "string"
                },
                {
                  "key": "2",
                  "name": "Gender",
                  "type": "string"
                },
                {
                  "key": "3",
                  "name": "Email",
                  "type": "string"
                },
                {
                  "key": "4",
                  "name": "City",
                  "type": "string"
                },
                {
                  "key": "5",
                  "name": "State",
                  "type": "string"
                },
                {
                  "key": "6",
                  "name": "DateOfBirth",
                  "type": "timestamp"
                },
                {
                  "key": "7",
                  "name": "cid",
                  "type": "int"
                },
                {
                  "key": "8",
                  "name": "pid",
                  "type": "int"
                },
                {
                  "key": "9",
                  "name": "surveytype",
                  "type": "string"
                },
                {
                  "key": "10",
                  "name": "Condition of Property",
                  "type": "double"
                },
                {
                  "key": "11",
                  "name": "Ease of process",
                  "type": "double"
                },
                {
                  "key": "12",
                  "name": "Maintenance Overall Satisfaction",
                  "type": "double"
                },
                {
                  "key": "13",
                  "name": "Management Communication",
                  "type": "double"
                },
                {
                  "key": "14",
                  "name": "Management Courtesy",
                  "type": "double"
                },
                {
                  "key": "15",
                  "name": "Management Problem Resolution",
                  "type": "double"
                },
                {
                  "key": "16",
                  "name": "Management Professionalism",
                  "type": "double"
                },
                {
                  "key": "17",
                  "name": "Overall Satisfaction",
                  "type": "double"
                },
                {
                  "key": "18",
                  "name": "Staff Communication",
                  "type": "double"
                },
                {
                  "key": "19",
                  "name": "Staff Courtesy",
                  "type": "double"
                },
                {
                  "key": "20",
                  "name": "Staff Professionalism",
                  "type": "double"
                }
              ],
              "truncated": false
            },
            "isSummary": false,
            "language": "scala"
          },
          "persist_state": {
            "view": {
              "type": "details",
              "tableOptions": {},
              "chartOptions": {
                "chartType": "bar",
                "aggregationType": "sum",
                "categoryFieldKeys": [
                  "0"
                ],
                "seriesFieldKeys": [
                  "7"
                ],
                "isStacked": false
              }
            }
          }
        },
        "4b668d26-f30d-4b88-b320-d34ccbab3100": {
          "type": "Synapse.DataFrame",
          "sync_state": {
            "table": {
              "rows": [
                {
                  "0": "2",
                  "1": "Source1",
                  "2": "1111",
                  "3": "1110",
                  "4": "Pest Control",
                  "5": "2022-04-05 00:00:00",
                  "6": "2022-04-08 00:00:00",
                  "7": "0"
                },
                {
                  "0": "5",
                  "1": "Source1",
                  "2": "1111",
                  "3": "1111",
                  "4": "Other",
                  "5": "2022-04-12 00:00:00",
                  "6": "2022-04-26 00:00:00",
                  "7": "1"
                },
                {
                  "0": "5",
                  "1": "Source1",
                  "2": "1111",
                  "3": "1111",
                  "4": "Stove or Oven",
                  "5": "2022-01-09 00:00:00",
                  "6": "2022-01-14 00:00:00",
                  "7": "2"
                },
                {
                  "0": "6",
                  "1": "Source1",
                  "2": "1111",
                  "3": "1112",
                  "4": "Dishwasher",
                  "5": "2021-12-01 00:00:00",
                  "6": "2021-12-13 00:00:00",
                  "7": "3"
                },
                {
                  "0": "6",
                  "1": "Source1",
                  "2": "1111",
                  "3": "1112",
                  "4": "Towel Bar",
                  "5": "2022-04-06 00:00:00",
                  "6": "2022-04-16 00:00:00",
                  "7": "4"
                },
                {
                  "0": "15",
                  "1": "Source1",
                  "2": "1111",
                  "3": "1115",
                  "4": "Trash Removal",
                  "5": "2022-02-26 00:00:00",
                  "6": "2022-03-12 00:00:00",
                  "7": "5"
                },
                {
                  "0": "15",
                  "1": "Source1",
                  "2": "1111",
                  "3": "1115",
                  "4": "Heating",
                  "5": "2022-05-10 00:00:00",
                  "6": "2022-05-18 00:00:00",
                  "7": "6"
                },
                {
                  "0": "15",
                  "1": "Source1",
                  "2": "1111",
                  "3": "1115",
                  "4": "Ceiling Fan",
                  "5": "2022-05-02 00:00:00",
                  "6": "2022-05-15 00:00:00",
                  "7": "7"
                },
                {
                  "0": "15",
                  "1": "Source1",
                  "2": "1111",
                  "3": "1115",
                  "4": "Stove or Oven",
                  "5": "2022-04-26 00:00:00",
                  "6": "2022-05-01 00:00:00",
                  "7": "8"
                },
                {
                  "0": "42",
                  "1": "Source1",
                  "2": "1111",
                  "3": "11113",
                  "4": "Lock or Interior Door",
                  "5": "2022-04-28 00:00:00",
                  "6": "2022-05-03 00:00:00",
                  "7": "9"
                }
              ],
              "schema": [
                {
                  "key": "0",
                  "name": "cid",
                  "type": "int"
                },
                {
                  "key": "1",
                  "name": "Source",
                  "type": "string"
                },
                {
                  "key": "2",
                  "name": "pid",
                  "type": "int"
                },
                {
                  "key": "3",
                  "name": "uid",
                  "type": "int"
                },
                {
                  "key": "4",
                  "name": "workorder_type",
                  "type": "string"
                },
                {
                  "key": "5",
                  "name": "ServiceRequestDate",
                  "type": "timestamp"
                },
                {
                  "key": "6",
                  "name": "ServiceCompleteDate",
                  "type": "timestamp"
                },
                {
                  "key": "7",
                  "name": "wid",
                  "type": "int"
                }
              ],
              "truncated": false
            },
            "isSummary": false,
            "language": "scala"
          },
          "persist_state": {
            "view": {
              "type": "details",
              "tableOptions": {},
              "chartOptions": {
                "chartType": "bar",
                "aggregationType": "sum",
                "categoryFieldKeys": [
                  "1"
                ],
                "seriesFieldKeys": [
                  "0"
                ],
                "isStacked": false
              }
            }
          }
        },
        "d9bb1a5c-54ed-4913-a25d-de347ae7498f": {
          "type": "Synapse.DataFrame",
          "sync_state": {
            "table": {
              "rows": [
                {
                  "0": "2",
                  "1": "Source1",
                  "2": "1111",
                  "3": "1110",
                  "4": "Pest Control",
                  "5": "2022-04-05 00:00:00",
                  "6": "2022-04-08 00:00:00",
                  "7": "0",
                  "8": "3"
                },
                {
                  "0": "5",
                  "1": "Source1",
                  "2": "1111",
                  "3": "1111",
                  "4": "Other",
                  "5": "2022-04-12 00:00:00",
                  "6": "2022-04-26 00:00:00",
                  "7": "1",
                  "8": "14"
                },
                {
                  "0": "5",
                  "1": "Source1",
                  "2": "1111",
                  "3": "1111",
                  "4": "Stove or Oven",
                  "5": "2022-01-09 00:00:00",
                  "6": "2022-01-14 00:00:00",
                  "7": "2",
                  "8": "5"
                },
                {
                  "0": "6",
                  "1": "Source1",
                  "2": "1111",
                  "3": "1112",
                  "4": "Dishwasher",
                  "5": "2021-12-01 00:00:00",
                  "6": "2021-12-13 00:00:00",
                  "7": "3",
                  "8": "12"
                },
                {
                  "0": "6",
                  "1": "Source1",
                  "2": "1111",
                  "3": "1112",
                  "4": "Towel Bar",
                  "5": "2022-04-06 00:00:00",
                  "6": "2022-04-16 00:00:00",
                  "7": "4",
                  "8": "10"
                },
                {
                  "0": "15",
                  "1": "Source1",
                  "2": "1111",
                  "3": "1115",
                  "4": "Trash Removal",
                  "5": "2022-02-26 00:00:00",
                  "6": "2022-03-12 00:00:00",
                  "7": "5",
                  "8": "14"
                },
                {
                  "0": "15",
                  "1": "Source1",
                  "2": "1111",
                  "3": "1115",
                  "4": "Heating",
                  "5": "2022-05-10 00:00:00",
                  "6": "2022-05-18 00:00:00",
                  "7": "6",
                  "8": "8"
                },
                {
                  "0": "15",
                  "1": "Source1",
                  "2": "1111",
                  "3": "1115",
                  "4": "Ceiling Fan",
                  "5": "2022-05-02 00:00:00",
                  "6": "2022-05-15 00:00:00",
                  "7": "7",
                  "8": "13"
                },
                {
                  "0": "15",
                  "1": "Source1",
                  "2": "1111",
                  "3": "1115",
                  "4": "Stove or Oven",
                  "5": "2022-04-26 00:00:00",
                  "6": "2022-05-01 00:00:00",
                  "7": "8",
                  "8": "5"
                },
                {
                  "0": "42",
                  "1": "Source1",
                  "2": "1111",
                  "3": "11113",
                  "4": "Lock or Interior Door",
                  "5": "2022-04-28 00:00:00",
                  "6": "2022-05-03 00:00:00",
                  "7": "9",
                  "8": "5"
                }
              ],
              "schema": [
                {
                  "key": "0",
                  "name": "cid",
                  "type": "int"
                },
                {
                  "key": "1",
                  "name": "Source",
                  "type": "string"
                },
                {
                  "key": "2",
                  "name": "pid",
                  "type": "int"
                },
                {
                  "key": "3",
                  "name": "uid",
                  "type": "int"
                },
                {
                  "key": "4",
                  "name": "workorder_type",
                  "type": "string"
                },
                {
                  "key": "5",
                  "name": "ServiceRequestDate",
                  "type": "timestamp"
                },
                {
                  "key": "6",
                  "name": "ServiceCompleteDate",
                  "type": "timestamp"
                },
                {
                  "key": "7",
                  "name": "wid",
                  "type": "int"
                },
                {
                  "key": "8",
                  "name": "Effort",
                  "type": "int"
                }
              ],
              "truncated": false
            },
            "isSummary": false,
            "language": "scala"
          },
          "persist_state": {
            "view": {
              "type": "details",
              "tableOptions": {},
              "chartOptions": {
                "chartType": "bar",
                "aggregationType": "sum",
                "categoryFieldKeys": [
                  "1"
                ],
                "seriesFieldKeys": [
                  "0"
                ],
                "isStacked": false
              }
            }
          }
        },
        "d221a248-ab7c-4c16-9f8a-c2399f13fb60": {
          "type": "Synapse.DataFrame",
          "sync_state": {
            "table": {
              "rows": [
                {
                  "0": "1947",
                  "1": "9999",
                  "2": "11153",
                  "3": "29",
                  "4": "4"
                },
                {
                  "0": "483",
                  "1": "2222",
                  "2": "11198",
                  "3": "23",
                  "4": "3"
                },
                {
                  "0": "692",
                  "1": "3333",
                  "2": "11162",
                  "3": "16",
                  "4": "4"
                },
                {
                  "0": "782",
                  "1": "4444",
                  "2": "11115",
                  "3": "10",
                  "4": "2"
                },
                {
                  "0": "925",
                  "1": "5555",
                  "2": "1119",
                  "3": "10",
                  "4": "2"
                },
                {
                  "0": "1003",
                  "1": "5555",
                  "2": "11132",
                  "3": "11",
                  "4": "2"
                },
                {
                  "0": "856",
                  "1": "4444",
                  "2": "11139",
                  "3": "8",
                  "4": "2"
                },
                {
                  "0": "877",
                  "1": "4444",
                  "2": "11145",
                  "3": "28",
                  "4": "3"
                },
                {
                  "0": "2121",
                  "1": "2222",
                  "2": "2220",
                  "3": "8",
                  "4": "2"
                },
                {
                  "0": "801",
                  "1": "4444",
                  "2": "11122",
                  "3": "15",
                  "4": "2"
                }
              ],
              "schema": [
                {
                  "key": "0",
                  "name": "cid",
                  "type": "int"
                },
                {
                  "key": "1",
                  "name": "pid",
                  "type": "int"
                },
                {
                  "key": "2",
                  "name": "uid",
                  "type": "int"
                },
                {
                  "key": "3",
                  "name": "sum(Effort)",
                  "type": "bigint"
                },
                {
                  "key": "4",
                  "name": "count(workorder_type)",
                  "type": "bigint"
                }
              ],
              "truncated": false
            },
            "isSummary": false,
            "language": "scala"
          },
          "persist_state": {
            "view": {
              "type": "details",
              "tableOptions": {},
              "chartOptions": {
                "chartType": "bar",
                "aggregationType": "sum",
                "categoryFieldKeys": [
                  "1"
                ],
                "seriesFieldKeys": [
                  "0"
                ],
                "isStacked": false
              }
            }
          }
        },
        "4795a7a1-2a87-442b-887f-c331df15c11c": {
          "type": "Synapse.DataFrame",
          "sync_state": {
            "table": {
              "rows": [
                {
                  "0": "1947",
                  "1": "9999",
                  "2": "11153",
                  "6": "11",
                  "11": "6",
                  "16": "11",
                  "31": "1"
                },
                {
                  "0": "483",
                  "1": "2222",
                  "2": "11198",
                  "6": "9",
                  "30": "4",
                  "38": "10"
                },
                {
                  "0": "925",
                  "1": "5555",
                  "2": "1119",
                  "18": "5",
                  "33": "5"
                },
                {
                  "0": "782",
                  "1": "4444",
                  "2": "11115",
                  "9": "5",
                  "42": "5"
                },
                {
                  "0": "2121",
                  "1": "2222",
                  "2": "2220",
                  "7": "6",
                  "25": "2"
                },
                {
                  "0": "836",
                  "1": "4444",
                  "2": "11132",
                  "20": "12",
                  "34": "10"
                },
                {
                  "0": "685",
                  "1": "3333",
                  "2": "11160",
                  "10": "6"
                },
                {
                  "0": "853",
                  "1": "4444",
                  "2": "11137",
                  "32": "10",
                  "39": "11",
                  "46": "4"
                },
                {
                  "0": "1455",
                  "1": "7777",
                  "2": "11120",
                  "5": "10"
                },
                {
                  "0": "1150",
                  "1": "5555",
                  "2": "11177",
                  "9": "12",
                  "14": "7",
                  "18": "9"
                }
              ],
              "schema": [
                {
                  "key": "0",
                  "name": "cid",
                  "type": "int"
                },
                {
                  "key": "1",
                  "name": "pid",
                  "type": "int"
                },
                {
                  "key": "2",
                  "name": "uid",
                  "type": "int"
                },
                {
                  "key": "3",
                  "name": "Air Conditioning",
                  "type": "bigint"
                },
                {
                  "key": "4",
                  "name": "Air Ducts or Vents",
                  "type": "bigint"
                },
                {
                  "key": "5",
                  "name": "Cabinet Doors",
                  "type": "bigint"
                },
                {
                  "key": "6",
                  "name": "Cabinets",
                  "type": "bigint"
                },
                {
                  "key": "7",
                  "name": "Carpet",
                  "type": "bigint"
                },
                {
                  "key": "8",
                  "name": "Ceiling",
                  "type": "bigint"
                },
                {
                  "key": "9",
                  "name": "Ceiling Fan",
                  "type": "bigint"
                },
                {
                  "key": "10",
                  "name": "Clean Unit",
                  "type": "bigint"
                },
                {
                  "key": "11",
                  "name": "Cleaning",
                  "type": "bigint"
                },
                {
                  "key": "12",
                  "name": "Dishwasher",
                  "type": "bigint"
                },
                {
                  "key": "13",
                  "name": "Door Repair or Replace",
                  "type": "bigint"
                },
                {
                  "key": "14",
                  "name": "Doorbell",
                  "type": "bigint"
                },
                {
                  "key": "15",
                  "name": "Drain",
                  "type": "bigint"
                },
                {
                  "key": "16",
                  "name": "Dryer",
                  "type": "bigint"
                },
                {
                  "key": "17",
                  "name": "Faucet",
                  "type": "bigint"
                },
                {
                  "key": "18",
                  "name": "Filter Replacement",
                  "type": "bigint"
                },
                {
                  "key": "19",
                  "name": "Garage Remote",
                  "type": "bigint"
                },
                {
                  "key": "20",
                  "name": "Garbage Disposal",
                  "type": "bigint"
                },
                {
                  "key": "21",
                  "name": "Heating",
                  "type": "bigint"
                },
                {
                  "key": "22",
                  "name": "Light Bulbs",
                  "type": "bigint"
                },
                {
                  "key": "23",
                  "name": "Light Fixture",
                  "type": "bigint"
                },
                {
                  "key": "24",
                  "name": "Lock or Exterior Door",
                  "type": "bigint"
                },
                {
                  "key": "25",
                  "name": "Lock or Interior Door",
                  "type": "bigint"
                },
                {
                  "key": "26",
                  "name": "Microwave",
                  "type": "bigint"
                },
                {
                  "key": "27",
                  "name": "Other",
                  "type": "bigint"
                },
                {
                  "key": "28",
                  "name": "Outlets",
                  "type": "bigint"
                },
                {
                  "key": "29",
                  "name": "Paint",
                  "type": "bigint"
                },
                {
                  "key": "30",
                  "name": "Pest Control",
                  "type": "bigint"
                },
                {
                  "key": "31",
                  "name": "Refrigerator",
                  "type": "bigint"
                },
                {
                  "key": "32",
                  "name": "Shelves or Drawers",
                  "type": "bigint"
                },
                {
                  "key": "33",
                  "name": "Shower Head",
                  "type": "bigint"
                },
                {
                  "key": "34",
                  "name": "Sink",
                  "type": "bigint"
                },
                {
                  "key": "35",
                  "name": "Sink Stopper",
                  "type": "bigint"
                },
                {
                  "key": "36",
                  "name": "Smoke Detector",
                  "type": "bigint"
                },
                {
                  "key": "37",
                  "name": "Stove or Oven",
                  "type": "bigint"
                },
                {
                  "key": "38",
                  "name": "Switches",
                  "type": "bigint"
                },
                {
                  "key": "39",
                  "name": "Thermostat",
                  "type": "bigint"
                },
                {
                  "key": "40",
                  "name": "Toilet",
                  "type": "bigint"
                },
                {
                  "key": "41",
                  "name": "Towel Bar",
                  "type": "bigint"
                },
                {
                  "key": "42",
                  "name": "Trash Removal",
                  "type": "bigint"
                },
                {
                  "key": "43",
                  "name": "Tub or Shower",
                  "type": "bigint"
                },
                {
                  "key": "44",
                  "name": "Under Sink",
                  "type": "bigint"
                },
                {
                  "key": "45",
                  "name": "Walls",
                  "type": "bigint"
                },
                {
                  "key": "46",
                  "name": "Washer",
                  "type": "bigint"
                },
                {
                  "key": "47",
                  "name": "Windows",
                  "type": "bigint"
                }
              ],
              "truncated": false
            },
            "isSummary": false,
            "language": "scala"
          },
          "persist_state": {
            "view": {
              "type": "details",
              "tableOptions": {},
              "chartOptions": {
                "chartType": "bar",
                "aggregationType": "sum",
                "categoryFieldKeys": [
                  "1"
                ],
                "seriesFieldKeys": [
                  "0"
                ],
                "isStacked": false
              }
            }
          }
        },
        "43588d6a-ae38-4b76-87a0-b6ede1ffd587": {
          "type": "Synapse.DataFrame",
          "sync_state": {
            "table": {
              "rows": [
                {
                  "0": "892c4362982897c30ac7c0b0cfb8ed90",
                  "1": "Atmaram Gholvade",
                  "2": "Male",
                  "3": "atmaram.gholvade@contoso.com",
                  "4": "Glendale",
                  "5": "AZ",
                  "6": "1985-09-02 00:00:00",
                  "7": "1181",
                  "8": "5555",
                  "9": "Renewal",
                  "10": "2.0",
                  "12": "2.0",
                  "13": "2.0",
                  "14": "2.0",
                  "15": "2.0",
                  "16": "2.0",
                  "17": "4.0",
                  "21": "1181",
                  "22": "5555",
                  "23": "11186",
                  "51": "14"
                },
                {
                  "0": "b8b1cad20f96bc62243f8e66933c9ec6",
                  "1": "Ergo Raud",
                  "2": "Male",
                  "3": "ergo.raud@contoso.com",
                  "4": "Washington",
                  "5": "DC",
                  "6": "1998-12-03 00:00:00",
                  "7": "784",
                  "8": "4444",
                  "9": "Renewal",
                  "10": "2.0",
                  "12": "2.0",
                  "13": "2.0",
                  "14": "2.0",
                  "15": "0.0",
                  "16": "0.0",
                  "17": "0.0",
                  "21": "784",
                  "22": "4444",
                  "23": "11116",
                  "31": "1",
                  "32": "1",
                  "61": "7",
                  "68": "14"
                },
                {
                  "0": "721567afb26020cf8440fe3669b3f064",
                  "1": "Hana'i  Sharbatly",
                  "2": "Female",
                  "3": "hana'i..sharbatly@contoso.com",
                  "4": "Deale",
                  "5": "MD",
                  "6": "1992-02-28 00:00:00",
                  "7": "100",
                  "8": "1111",
                  "9": "Renewal",
                  "10": "0.0",
                  "12": "0.0",
                  "13": "2.0",
                  "14": "0.0",
                  "15": "2.0",
                  "16": "0.0",
                  "17": "2.0",
                  "21": "100",
                  "22": "1111",
                  "23": "11130",
                  "30": "5",
                  "36": "12",
                  "39": "13",
                  "43": "8"
                },
                {
                  "0": "8825e8fb208582c6446048c6769dedcd",
                  "1": "Tanko Laraba",
                  "2": "Female",
                  "3": "tanko.laraba@contoso.com",
                  "4": "Northfield",
                  "5": "KY",
                  "6": "1976-05-04 00:00:00",
                  "7": "1210",
                  "8": "5555",
                  "9": "Move-in",
                  "11": "3.0",
                  "17": "1.0",
                  "18": "3.0",
                  "19": "3.0",
                  "20": "3.0",
                  "21": "1210",
                  "22": "5555",
                  "23": "11195",
                  "24": "14",
                  "42": "11"
                },
                {
                  "0": "d0f616daae55499639a8a5006701961a",
                  "1": "Nicole Wagner",
                  "2": "Female",
                  "3": "nicole.wagner@contoso.com",
                  "4": "Fayetteville",
                  "5": "AR",
                  "6": "1996-12-28 00:00:00",
                  "7": "739",
                  "8": "4444",
                  "9": "Move-in",
                  "11": "4.0",
                  "17": "4.0",
                  "18": "2.0",
                  "19": "2.0",
                  "20": "2.0",
                  "21": "739",
                  "22": "4444",
                  "23": "1113",
                  "44": "9",
                  "57": "9",
                  "60": "6",
                  "66": "13"
                },
                {
                  "0": "7c8aa265429a958bc4c419d125058a0e",
                  "1": "Harri Kalda",
                  "2": "Male",
                  "3": "harri.kalda@contoso.com",
                  "4": "Beverly",
                  "5": "MA",
                  "6": "1980-01-11 00:00:00",
                  "7": "782",
                  "8": "4444",
                  "9": "Move-in",
                  "11": "0.0",
                  "17": "2.0",
                  "18": "2.0",
                  "19": "2.0",
                  "20": "0.0",
                  "21": "782",
                  "22": "4444",
                  "23": "11115",
                  "30": "5",
                  "63": "5"
                },
                {
                  "0": "426b77600ba8e6a27d470875401ca4d1",
                  "1": "Joseba Goikosoloeta",
                  "2": "Male",
                  "3": "joseba.goikosoloeta@contoso.com",
                  "4": "Nashville",
                  "5": "TN",
                  "6": "1973-04-10 00:00:00",
                  "7": "227",
                  "8": "2222",
                  "9": "Move-in",
                  "11": "2.0",
                  "17": "2.0",
                  "18": "0.0",
                  "19": "0.0",
                  "20": "0.0",
                  "21": "227",
                  "22": "2222",
                  "23": "11121",
                  "62": "1"
                },
                {
                  "0": "a28f4537b77b96aa18c4d82a48c917c6",
                  "1": "Dor Simhon",
                  "2": "Gender neutral",
                  "3": "dor.simhon@contoso.com",
                  "4": "Montgomery",
                  "5": "AL",
                  "6": "1977-03-27 00:00:00",
                  "7": "1237",
                  "8": "6666",
                  "9": "Renewal",
                  "10": "2.0",
                  "12": "2.0",
                  "13": "0.0",
                  "14": "0.0",
                  "15": "0.0",
                  "16": "2.0",
                  "17": "0.0",
                  "21": "1237",
                  "22": "6666",
                  "23": "1113",
                  "33": "8",
                  "54": "2"
                },
                {
                  "0": "f1b1e59898982ed18779e69204d21405",
                  "1": "Chikao Sasaki",
                  "2": "Male",
                  "3": "chikao.sasaki@contoso.com",
                  "4": "Glendale",
                  "5": "AZ",
                  "6": "1998-01-11 00:00:00",
                  "7": "1576",
                  "8": "7777",
                  "9": "Move-in",
                  "11": "2.0",
                  "17": "4.0",
                  "18": "2.0",
                  "19": "4.0",
                  "20": "2.0",
                  "21": "1576",
                  "22": "7777",
                  "23": "11157",
                  "43": "2",
                  "59": "11"
                },
                {
                  "0": "2eed831130a28836859464f5329cb03c",
                  "1": "Plamen Grigorov",
                  "2": "Male",
                  "3": "plamen.grigorov@contoso.com",
                  "4": "Fruita",
                  "5": "CO",
                  "6": "1994-07-11 00:00:00",
                  "7": "334",
                  "8": "2222",
                  "9": "Renewal",
                  "10": "3.0",
                  "12": "3.0",
                  "13": "3.0",
                  "14": "3.0",
                  "15": "3.0",
                  "16": "1.0",
                  "17": "1.0",
                  "21": "334",
                  "22": "2222",
                  "23": "11152",
                  "33": "4",
                  "46": "2"
                }
              ],
              "schema": [
                {
                  "key": "0",
                  "name": "CustomerId",
                  "type": "string"
                },
                {
                  "key": "1",
                  "name": "Name",
                  "type": "string"
                },
                {
                  "key": "2",
                  "name": "Gender",
                  "type": "string"
                },
                {
                  "key": "3",
                  "name": "Email",
                  "type": "string"
                },
                {
                  "key": "4",
                  "name": "City",
                  "type": "string"
                },
                {
                  "key": "5",
                  "name": "State",
                  "type": "string"
                },
                {
                  "key": "6",
                  "name": "DateOfBirth",
                  "type": "timestamp"
                },
                {
                  "key": "7",
                  "name": "cid",
                  "type": "int"
                },
                {
                  "key": "8",
                  "name": "pid",
                  "type": "int"
                },
                {
                  "key": "9",
                  "name": "surveytype",
                  "type": "string"
                },
                {
                  "key": "10",
                  "name": "Condition of Property",
                  "type": "double"
                },
                {
                  "key": "11",
                  "name": "Ease of process",
                  "type": "double"
                },
                {
                  "key": "12",
                  "name": "Maintenance Overall Satisfaction",
                  "type": "double"
                },
                {
                  "key": "13",
                  "name": "Management Communication",
                  "type": "double"
                },
                {
                  "key": "14",
                  "name": "Management Courtesy",
                  "type": "double"
                },
                {
                  "key": "15",
                  "name": "Management Problem Resolution",
                  "type": "double"
                },
                {
                  "key": "16",
                  "name": "Management Professionalism",
                  "type": "double"
                },
                {
                  "key": "17",
                  "name": "Overall Satisfaction",
                  "type": "double"
                },
                {
                  "key": "18",
                  "name": "Staff Communication",
                  "type": "double"
                },
                {
                  "key": "19",
                  "name": "Staff Courtesy",
                  "type": "double"
                },
                {
                  "key": "20",
                  "name": "Staff Professionalism",
                  "type": "double"
                },
                {
                  "key": "21",
                  "name": "woCid",
                  "type": "int"
                },
                {
                  "key": "22",
                  "name": "woPid",
                  "type": "int"
                },
                {
                  "key": "23",
                  "name": "woUid",
                  "type": "int"
                },
                {
                  "key": "24",
                  "name": "Air Conditioning",
                  "type": "bigint"
                },
                {
                  "key": "25",
                  "name": "Air Ducts or Vents",
                  "type": "bigint"
                },
                {
                  "key": "26",
                  "name": "Cabinet Doors",
                  "type": "bigint"
                },
                {
                  "key": "27",
                  "name": "Cabinets",
                  "type": "bigint"
                },
                {
                  "key": "28",
                  "name": "Carpet",
                  "type": "bigint"
                },
                {
                  "key": "29",
                  "name": "Ceiling",
                  "type": "bigint"
                },
                {
                  "key": "30",
                  "name": "Ceiling Fan",
                  "type": "bigint"
                },
                {
                  "key": "31",
                  "name": "Clean Unit",
                  "type": "bigint"
                },
                {
                  "key": "32",
                  "name": "Cleaning",
                  "type": "bigint"
                },
                {
                  "key": "33",
                  "name": "Dishwasher",
                  "type": "bigint"
                },
                {
                  "key": "34",
                  "name": "Door Repair or Replace",
                  "type": "bigint"
                },
                {
                  "key": "35",
                  "name": "Doorbell",
                  "type": "bigint"
                },
                {
                  "key": "36",
                  "name": "Drain",
                  "type": "bigint"
                },
                {
                  "key": "37",
                  "name": "Dryer",
                  "type": "bigint"
                },
                {
                  "key": "38",
                  "name": "Faucet",
                  "type": "bigint"
                },
                {
                  "key": "39",
                  "name": "Filter Replacement",
                  "type": "bigint"
                },
                {
                  "key": "40",
                  "name": "Garage Remote",
                  "type": "bigint"
                },
                {
                  "key": "41",
                  "name": "Garbage Disposal",
                  "type": "bigint"
                },
                {
                  "key": "42",
                  "name": "Heating",
                  "type": "bigint"
                },
                {
                  "key": "43",
                  "name": "Light Bulbs",
                  "type": "bigint"
                },
                {
                  "key": "44",
                  "name": "Light Fixture",
                  "type": "bigint"
                },
                {
                  "key": "45",
                  "name": "Lock or Exterior Door",
                  "type": "bigint"
                },
                {
                  "key": "46",
                  "name": "Lock or Interior Door",
                  "type": "bigint"
                },
                {
                  "key": "47",
                  "name": "Microwave",
                  "type": "bigint"
                },
                {
                  "key": "48",
                  "name": "Other",
                  "type": "bigint"
                },
                {
                  "key": "49",
                  "name": "Outlets",
                  "type": "bigint"
                },
                {
                  "key": "50",
                  "name": "Paint",
                  "type": "bigint"
                },
                {
                  "key": "51",
                  "name": "Pest Control",
                  "type": "bigint"
                },
                {
                  "key": "52",
                  "name": "Refrigerator",
                  "type": "bigint"
                },
                {
                  "key": "53",
                  "name": "Shelves or Drawers",
                  "type": "bigint"
                },
                {
                  "key": "54",
                  "name": "Shower Head",
                  "type": "bigint"
                },
                {
                  "key": "55",
                  "name": "Sink",
                  "type": "bigint"
                },
                {
                  "key": "56",
                  "name": "Sink Stopper",
                  "type": "bigint"
                },
                {
                  "key": "57",
                  "name": "Smoke Detector",
                  "type": "bigint"
                },
                {
                  "key": "58",
                  "name": "Stove or Oven",
                  "type": "bigint"
                },
                {
                  "key": "59",
                  "name": "Switches",
                  "type": "bigint"
                },
                {
                  "key": "60",
                  "name": "Thermostat",
                  "type": "bigint"
                },
                {
                  "key": "61",
                  "name": "Toilet",
                  "type": "bigint"
                },
                {
                  "key": "62",
                  "name": "Towel Bar",
                  "type": "bigint"
                },
                {
                  "key": "63",
                  "name": "Trash Removal",
                  "type": "bigint"
                },
                {
                  "key": "64",
                  "name": "Tub or Shower",
                  "type": "bigint"
                },
                {
                  "key": "65",
                  "name": "Under Sink",
                  "type": "bigint"
                },
                {
                  "key": "66",
                  "name": "Walls",
                  "type": "bigint"
                },
                {
                  "key": "67",
                  "name": "Washer",
                  "type": "bigint"
                },
                {
                  "key": "68",
                  "name": "Windows",
                  "type": "bigint"
                }
              ],
              "truncated": false
            },
            "isSummary": false,
            "language": "scala"
          },
          "persist_state": {
            "view": {
              "type": "details",
              "tableOptions": {},
              "chartOptions": {
                "chartType": "bar",
                "aggregationType": "sum",
                "categoryFieldKeys": [
                  "0"
                ],
                "seriesFieldKeys": [
                  "7"
                ],
                "isStacked": false
              }
            }
          }
        },
        "6e7a8733-f26f-4858-8b05-8bbee6c34841": {
          "type": "Synapse.DataFrame",
          "sync_state": {
            "table": {
              "rows": [
                {
                  "0": "ben.van.zyl@contoso.com",
                  "1": "Ben",
                  "2": "van",
                  "3": "1111",
                  "4": "Move-in",
                  "5": "2013-11-21 00:00:00",
                  "6": "Overall Satisfaction",
                  "7": "2",
                  "8": "0"
                },
                {
                  "0": "ben.van.zyl@contoso.com",
                  "1": "Ben",
                  "2": "van",
                  "3": "1111",
                  "4": "Move-in",
                  "5": "2013-11-21 00:00:00",
                  "6": "Ease of process",
                  "7": "4",
                  "8": "1"
                },
                {
                  "0": "ben.van.zyl@contoso.com",
                  "1": "Ben",
                  "2": "van",
                  "3": "1111",
                  "4": "Move-in",
                  "5": "2013-11-21 00:00:00",
                  "6": "Staff Communication",
                  "7": "4",
                  "8": "2"
                },
                {
                  "0": "ben.van.zyl@contoso.com",
                  "1": "Ben",
                  "2": "van",
                  "3": "1111",
                  "4": "Move-in",
                  "5": "2013-11-21 00:00:00",
                  "6": "Staff Professionalism",
                  "7": "2",
                  "8": "3"
                },
                {
                  "0": "ben.van.zyl@contoso.com",
                  "1": "Ben",
                  "2": "van",
                  "3": "1111",
                  "4": "Move-in",
                  "5": "2013-11-21 00:00:00",
                  "6": "Staff Courtesy",
                  "7": "4",
                  "8": "4"
                },
                {
                  "0": "ben.van.zyl@contoso.com",
                  "1": "Ben",
                  "2": "van",
                  "3": "1111",
                  "4": "Renewal",
                  "5": "2013-11-21 00:00:00",
                  "6": "Overall Satisfaction",
                  "7": "4",
                  "8": "5"
                },
                {
                  "0": "ben.van.zyl@contoso.com",
                  "1": "Ben",
                  "2": "van",
                  "3": "1111",
                  "4": "Renewal",
                  "5": "2013-11-21 00:00:00",
                  "6": "Management Communication",
                  "7": "2",
                  "8": "6"
                },
                {
                  "0": "ben.van.zyl@contoso.com",
                  "1": "Ben",
                  "2": "van",
                  "3": "1111",
                  "4": "Renewal",
                  "5": "2013-11-21 00:00:00",
                  "6": "Management Professionalism",
                  "7": "2",
                  "8": "7"
                },
                {
                  "0": "ben.van.zyl@contoso.com",
                  "1": "Ben",
                  "2": "van",
                  "3": "1111",
                  "4": "Renewal",
                  "5": "2013-11-21 00:00:00",
                  "6": "Management Courtesy",
                  "7": "2",
                  "8": "8"
                },
                {
                  "0": "ben.van.zyl@contoso.com",
                  "1": "Ben",
                  "2": "van",
                  "3": "1111",
                  "4": "Renewal",
                  "5": "2013-11-21 00:00:00",
                  "6": "Management Problem Resolution",
                  "7": "2",
                  "8": "9"
                }
              ],
              "schema": [
                {
                  "key": "0",
                  "name": "SurveyEmail",
                  "type": "string"
                },
                {
                  "key": "1",
                  "name": "FirstName",
                  "type": "string"
                },
                {
                  "key": "2",
                  "name": "LastName",
                  "type": "string"
                },
                {
                  "key": "3",
                  "name": "pid",
                  "type": "int"
                },
                {
                  "key": "4",
                  "name": "surveytype",
                  "type": "string"
                },
                {
                  "key": "5",
                  "name": "surverydate",
                  "type": "timestamp"
                },
                {
                  "key": "6",
                  "name": "question",
                  "type": "string"
                },
                {
                  "key": "7",
                  "name": "answer",
                  "type": "int"
                },
                {
                  "key": "8",
                  "name": "sid",
                  "type": "int"
                }
              ],
              "truncated": false
            },
            "isSummary": false,
            "language": "scala"
          },
          "persist_state": {
            "view": {
              "type": "details",
              "tableOptions": {},
              "chartOptions": {
                "chartType": "bar",
                "aggregationType": "sum",
                "categoryFieldKeys": [
                  "0"
                ],
                "seriesFieldKeys": [
                  "3"
                ],
                "isStacked": false
              }
            }
          }
        },
        "8aa873e2-e98c-442c-bd4a-caa81a78061c": {
          "type": "Synapse.DataFrame",
          "sync_state": {
            "table": {
              "rows": [
                {
                  "0": "0",
                  "1": "Source1",
                  "2": "1111",
                  "3": "111",
                  "4": "1110",
                  "5": "Application",
                  "6": "2010-06-01",
                  "7": "2010-06-01",
                  "8": "2012-06-01",
                  "9": "24",
                  "10": "2010-06-01",
                  "11": "2010-06-01",
                  "12": "2012-06-01",
                  "13": "0",
                  "14": "Y"
                },
                {
                  "0": "0",
                  "1": "Source1",
                  "2": "1111",
                  "3": "111",
                  "4": "1110",
                  "5": "Renewal",
                  "6": "2012-06-01",
                  "7": "2012-06-01",
                  "8": "2013-06-01",
                  "9": "12",
                  "10": "2012-06-01",
                  "11": "2012-06-01",
                  "12": "2013-06-01",
                  "13": "1",
                  "14": "Y"
                },
                {
                  "0": "1",
                  "1": "Source1",
                  "2": "1111",
                  "3": "111",
                  "4": "1110",
                  "5": "Application",
                  "6": "2013-06-01",
                  "7": "2013-06-01",
                  "8": "2014-12-01",
                  "9": "18",
                  "10": "2013-06-01",
                  "11": "2013-06-01",
                  "12": "2014-12-01",
                  "13": "2",
                  "14": "Y"
                },
                {
                  "0": "1",
                  "1": "Source1",
                  "2": "1111",
                  "3": "111",
                  "4": "1110",
                  "5": "Renewal",
                  "6": "2014-12-01",
                  "7": "2014-12-01",
                  "8": "2016-12-01",
                  "9": "24",
                  "10": "2014-12-01",
                  "11": "2014-12-01",
                  "12": "2016-12-01",
                  "13": "3",
                  "14": "Y"
                },
                {
                  "0": "1",
                  "1": "Source1",
                  "2": "1111",
                  "3": "111",
                  "4": "1110",
                  "5": "Renewal",
                  "6": "2016-12-01",
                  "7": "2016-12-01",
                  "8": "2018-12-01",
                  "9": "24",
                  "10": "2016-12-01",
                  "11": "2016-12-01",
                  "12": "2018-12-01",
                  "13": "4",
                  "14": "Y"
                },
                {
                  "0": "2",
                  "1": "Source1",
                  "2": "1111",
                  "3": "111",
                  "4": "1110",
                  "5": "Application",
                  "6": "2018-12-01",
                  "7": "2018-12-01",
                  "8": "2020-12-01",
                  "9": "24",
                  "10": "2018-12-01",
                  "11": "2018-12-01",
                  "12": "2020-12-01",
                  "13": "5",
                  "14": "Y"
                },
                {
                  "0": "2",
                  "1": "Source1",
                  "2": "1111",
                  "3": "111",
                  "4": "1110",
                  "5": "Renewal",
                  "6": "2020-12-01",
                  "7": "2020-12-01",
                  "8": "2021-12-01",
                  "9": "12",
                  "10": "2020-12-01",
                  "11": "2020-12-01",
                  "13": "6",
                  "14": "N"
                },
                {
                  "0": "2",
                  "1": "Source1",
                  "2": "1111",
                  "3": "111",
                  "4": "1110",
                  "5": "Renewal",
                  "6": "2021-12-01",
                  "7": "2021-12-01",
                  "8": "2022-06-01",
                  "9": "6",
                  "10": "2021-12-01",
                  "13": "7",
                  "14": "N"
                },
                {
                  "0": "3",
                  "1": "Source1",
                  "2": "1111",
                  "3": "111",
                  "4": "1111",
                  "5": "Application",
                  "6": "2010-06-01",
                  "7": "2010-06-01",
                  "8": "2012-06-01",
                  "9": "24",
                  "10": "2010-06-01",
                  "11": "2010-06-01",
                  "12": "2012-06-01",
                  "13": "8",
                  "14": "Y"
                },
                {
                  "0": "3",
                  "1": "Source1",
                  "2": "1111",
                  "3": "111",
                  "4": "1111",
                  "5": "Renewal",
                  "6": "2012-06-01",
                  "7": "2012-06-01",
                  "8": "2014-06-01",
                  "9": "24",
                  "10": "2012-06-01",
                  "11": "2012-06-01",
                  "12": "2014-06-01",
                  "13": "9",
                  "14": "Y"
                }
              ],
              "schema": [
                {
                  "key": "0",
                  "name": "leaseCid",
                  "type": "int"
                },
                {
                  "key": "1",
                  "name": "Source",
                  "type": "string"
                },
                {
                  "key": "2",
                  "name": "leasePid",
                  "type": "int"
                },
                {
                  "key": "3",
                  "name": "leaseUtid",
                  "type": "int"
                },
                {
                  "key": "4",
                  "name": "leaseUid",
                  "type": "int"
                },
                {
                  "key": "5",
                  "name": "Type",
                  "type": "string"
                },
                {
                  "key": "6",
                  "name": "ApplicationDate",
                  "type": "date"
                },
                {
                  "key": "7",
                  "name": "StartDate",
                  "type": "date"
                },
                {
                  "key": "8",
                  "name": "EndDate",
                  "type": "date"
                },
                {
                  "key": "9",
                  "name": "LeaseTerm",
                  "type": "int"
                },
                {
                  "key": "10",
                  "name": "SignedDate",
                  "type": "date"
                },
                {
                  "key": "11",
                  "name": "MoveInDate",
                  "type": "date"
                },
                {
                  "key": "12",
                  "name": "MoveOutDate",
                  "type": "date"
                },
                {
                  "key": "13",
                  "name": "lid",
                  "type": "int"
                },
                {
                  "key": "14",
                  "name": "IsMovedOut",
                  "type": "string"
                }
              ],
              "truncated": false
            },
            "isSummary": false,
            "language": "scala"
          },
          "persist_state": {
            "view": {
              "type": "details",
              "tableOptions": {},
              "chartOptions": {
                "chartType": "bar",
                "aggregationType": "sum",
                "categoryFieldKeys": [
                  "1"
                ],
                "seriesFieldKeys": [
                  "0"
                ],
                "isStacked": false
              }
            }
          }
        },
        "9e19b95a-abd5-4681-8822-ef7f90280bc1": {
          "type": "Synapse.DataFrame",
          "sync_state": {
            "table": {
              "rows": [
                {
                  "0": "669",
                  "1": "3333",
                  "2": "11156",
                  "3": "1",
                  "4": "24",
                  "5": "3",
                  "6": "54"
                },
                {
                  "0": "1280",
                  "1": "6666",
                  "2": "11118",
                  "3": "1",
                  "4": "36",
                  "5": "2",
                  "6": "30"
                },
                {
                  "0": "990",
                  "1": "5555",
                  "2": "11128",
                  "3": "1",
                  "4": "12",
                  "5": "5",
                  "6": "96"
                },
                {
                  "0": "536",
                  "1": "3333",
                  "2": "11114",
                  "3": "1",
                  "4": "36",
                  "5": "3",
                  "6": "48"
                },
                {
                  "0": "1947",
                  "1": "9999",
                  "2": "11153",
                  "3": "1",
                  "4": "12",
                  "5": "3",
                  "6": "42"
                },
                {
                  "0": "1318",
                  "1": "6666",
                  "2": "11129",
                  "3": "1",
                  "4": "12",
                  "5": "1",
                  "6": "12"
                },
                {
                  "0": "758",
                  "1": "4444",
                  "2": "1118",
                  "3": "1",
                  "4": "36",
                  "5": "4",
                  "6": "60"
                },
                {
                  "0": "241",
                  "1": "2222",
                  "2": "11125",
                  "3": "1",
                  "4": "36",
                  "5": "1",
                  "6": "24"
                },
                {
                  "0": "1151",
                  "1": "5555",
                  "2": "11178",
                  "3": "1",
                  "4": "18",
                  "5": "1",
                  "6": "12"
                },
                {
                  "0": "1314",
                  "1": "6666",
                  "2": "11128",
                  "3": "1",
                  "4": "12"
                }
              ],
              "schema": [
                {
                  "key": "0",
                  "name": "leaseCid",
                  "type": "int"
                },
                {
                  "key": "1",
                  "name": "leasePid",
                  "type": "int"
                },
                {
                  "key": "2",
                  "name": "leaseUid",
                  "type": "int"
                },
                {
                  "key": "3",
                  "name": "Application_count(ApplicationDate)",
                  "type": "bigint"
                },
                {
                  "key": "4",
                  "name": "Application_sum(CAST(LeaseTerm AS BIGINT))",
                  "type": "bigint"
                },
                {
                  "key": "5",
                  "name": "Renewal_count(ApplicationDate)",
                  "type": "bigint"
                },
                {
                  "key": "6",
                  "name": "Renewal_sum(CAST(LeaseTerm AS BIGINT))",
                  "type": "bigint"
                }
              ],
              "truncated": false
            },
            "isSummary": false,
            "language": "scala"
          },
          "persist_state": {
            "view": {
              "type": "details",
              "tableOptions": {},
              "chartOptions": {
                "chartType": "bar",
                "aggregationType": "sum",
                "categoryFieldKeys": [
                  "1"
                ],
                "seriesFieldKeys": [
                  "0"
                ],
                "isStacked": false
              }
            }
          }
        },
        "49500725-c223-49a5-8754-418cab934895": {
          "type": "Synapse.DataFrame",
          "sync_state": {
            "table": {
              "rows": [
                {
                  "0": "669",
                  "1": "3333",
                  "2": "11156",
                  "3": "1",
                  "4": "24",
                  "5": "3",
                  "6": "54",
                  "7": "18.0"
                },
                {
                  "0": "1280",
                  "1": "6666",
                  "2": "11118",
                  "3": "1",
                  "4": "36",
                  "5": "2",
                  "6": "30",
                  "7": "15.0"
                }
              ],
              "schema": [
                {
                  "key": "0",
                  "name": "leaseCid",
                  "type": "int"
                },
                {
                  "key": "1",
                  "name": "leasePid",
                  "type": "int"
                },
                {
                  "key": "2",
                  "name": "leaseUid",
                  "type": "int"
                },
                {
                  "key": "3",
                  "name": "InitialApplicationCount",
                  "type": "bigint"
                },
                {
                  "key": "4",
                  "name": "InitialLeaseTerm",
                  "type": "bigint"
                },
                {
                  "key": "5",
                  "name": "RenewalApplicationCount",
                  "type": "bigint"
                },
                {
                  "key": "6",
                  "name": "TotalRenewalTerm",
                  "type": "bigint"
                },
                {
                  "key": "7",
                  "name": "averageRenewalLength",
                  "type": "double"
                }
              ],
              "truncated": false
            },
            "isSummary": false,
            "language": "scala"
          },
          "persist_state": {
            "view": {
              "type": "details",
              "tableOptions": {},
              "chartOptions": {
                "chartType": "bar",
                "aggregationType": "sum",
                "categoryFieldKeys": [
                  "1"
                ],
                "seriesFieldKeys": [
                  "0"
                ],
                "isStacked": false
              }
            }
          }
        },
        "a381d2bf-3ad2-4c8b-b30c-6d32c100736e": {
          "type": "Synapse.DataFrame",
          "sync_state": {
            "table": {
              "rows": [
                {
                  "0": "536",
                  "1": "3333",
                  "2": "11114",
                  "3": "1",
                  "4": "36",
                  "5": "3",
                  "6": "48",
                  "7": "16.0",
                  "8": "Y"
                },
                {
                  "0": "241",
                  "1": "2222",
                  "2": "11125",
                  "3": "1",
                  "4": "36",
                  "5": "1",
                  "6": "24",
                  "7": "24.0",
                  "8": "N"
                }
              ],
              "schema": [
                {
                  "key": "0",
                  "name": "leaseCid",
                  "type": "int"
                },
                {
                  "key": "1",
                  "name": "leasePid",
                  "type": "int"
                },
                {
                  "key": "2",
                  "name": "leaseUid",
                  "type": "int"
                },
                {
                  "key": "3",
                  "name": "InitialApplicationCount",
                  "type": "bigint"
                },
                {
                  "key": "4",
                  "name": "InitialLeaseTerm",
                  "type": "bigint"
                },
                {
                  "key": "5",
                  "name": "RenewalApplicationCount",
                  "type": "bigint"
                },
                {
                  "key": "6",
                  "name": "TotalRenewalTerm",
                  "type": "bigint"
                },
                {
                  "key": "7",
                  "name": "averageRenewalLength",
                  "type": "double"
                },
                {
                  "key": "8",
                  "name": "Renewed",
                  "type": "string"
                }
              ],
              "truncated": false
            },
            "isSummary": false,
            "language": "scala"
          },
          "persist_state": {
            "view": {
              "type": "details",
              "tableOptions": {},
              "chartOptions": {
                "chartType": "bar",
                "aggregationType": "sum",
                "categoryFieldKeys": [
                  "1"
                ],
                "seriesFieldKeys": [
                  "0"
                ],
                "isStacked": false
              }
            }
          }
        },
        "0a4ae07e-aed1-488f-905d-31d39e55d616": {
          "type": "Synapse.DataFrame",
          "sync_state": {
            "table": {
              "rows": [
                {
                  "0": "892c4362982897c30ac7c0b0cfb8ed90",
                  "1": "Atmaram Gholvade",
                  "2": "Male",
                  "3": "atmaram.gholvade@contoso.com",
                  "4": "Glendale",
                  "5": "AZ",
                  "6": "1985-09-02 00:00:00",
                  "7": "1181",
                  "8": "5555",
                  "9": "Renewal",
                  "10": "2.0",
                  "12": "2.0",
                  "13": "2.0",
                  "14": "2.0",
                  "15": "2.0",
                  "16": "2.0",
                  "17": "4.0",
                  "21": "1181",
                  "22": "5555",
                  "23": "11186",
                  "51": "14",
                  "69": "1181",
                  "70": "5555",
                  "71": "11186",
                  "72": "1",
                  "73": "18",
                  "74": "1",
                  "75": "6",
                  "76": "6.0",
                  "77": "N"
                },
                {
                  "0": "b8b1cad20f96bc62243f8e66933c9ec6",
                  "1": "Ergo Raud",
                  "2": "Male",
                  "3": "ergo.raud@contoso.com",
                  "4": "Washington",
                  "5": "DC",
                  "6": "1998-12-03 00:00:00",
                  "7": "784",
                  "8": "4444",
                  "9": "Renewal",
                  "10": "2.0",
                  "12": "2.0",
                  "13": "2.0",
                  "14": "2.0",
                  "15": "0.0",
                  "16": "0.0",
                  "17": "0.0",
                  "21": "784",
                  "22": "4444",
                  "23": "11116",
                  "31": "1",
                  "32": "1",
                  "61": "7",
                  "68": "14",
                  "69": "784",
                  "70": "4444",
                  "71": "11116",
                  "72": "1",
                  "73": "36",
                  "74": "1",
                  "75": "6",
                  "76": "6.0",
                  "77": "N"
                },
                {
                  "0": "788cc9c146bdbbe9c51a36bc11ed0292",
                  "1": "Takuma Hayashi",
                  "2": "Male",
                  "3": "takuma.hayashi@contoso.com",
                  "4": "Hayward",
                  "5": "CA",
                  "6": "1982-01-26 00:00:00",
                  "7": "1610",
                  "8": "8888",
                  "9": "Move-in",
                  "11": "3.0",
                  "17": "1.0",
                  "18": "3.0",
                  "19": "3.0",
                  "20": "3.0",
                  "21": "1610",
                  "22": "8888",
                  "23": "1115",
                  "64": "2",
                  "67": "5",
                  "69": "1610",
                  "70": "8888",
                  "71": "1115",
                  "72": "1",
                  "73": "24",
                  "74": "6",
                  "75": "90",
                  "76": "15.0",
                  "77": "Y"
                },
                {
                  "0": "d7f3c63ab2f66300b994b46e9aaf1707",
                  "1": "Christine Ramos",
                  "2": "Female",
                  "3": "christine.ramos@contoso.com",
                  "4": "Glendale",
                  "5": "AZ",
                  "6": "1988-04-13 00:00:00",
                  "7": "832",
                  "8": "4444",
                  "9": "Move-in",
                  "11": "1.0",
                  "17": "1.0",
                  "18": "3.0",
                  "19": "1.0",
                  "20": "3.0",
                  "21": "832",
                  "22": "4444",
                  "23": "11131",
                  "28": "14",
                  "29": "3",
                  "35": "13",
                  "40": "14",
                  "69": "832",
                  "70": "4444",
                  "71": "11131",
                  "72": "1",
                  "73": "18",
                  "74": "3",
                  "75": "42",
                  "76": "14.0",
                  "77": "Y"
                },
                {
                  "0": "02477d2f648f364bea7eb77e8204f8a4",
                  "1": "Haf Evans",
                  "2": "Female",
                  "3": "haf.evans@contoso.com",
                  "4": "Glendale",
                  "5": "AZ",
                  "6": "1992-02-09 00:00:00",
                  "7": "1745",
                  "8": "8888",
                  "9": "Move-in",
                  "11": "2.0",
                  "17": "0.0",
                  "18": "2.0",
                  "19": "0.0",
                  "20": "2.0",
                  "21": "1745",
                  "22": "8888",
                  "23": "11152",
                  "35": "1",
                  "50": "11",
                  "69": "1745",
                  "70": "8888",
                  "71": "11152",
                  "72": "1",
                  "73": "18",
                  "74": "3",
                  "75": "54",
                  "76": "18.0",
                  "77": "Y"
                },
                {
                  "0": "34ab44a9034414e860fd99c08dc28864",
                  "1": "Yavor Kostov",
                  "2": "Male",
                  "3": "yavor.kostov@contoso.com",
                  "4": "Fayetteville",
                  "5": "AR",
                  "6": "1979-05-11 00:00:00",
                  "7": "340",
                  "8": "2222",
                  "9": "Move-in",
                  "11": "4.0",
                  "17": "4.0",
                  "18": "2.0",
                  "19": "2.0",
                  "20": "4.0",
                  "21": "340",
                  "22": "2222",
                  "23": "11153",
                  "33": "11",
                  "39": "9",
                  "45": "5",
                  "50": "12",
                  "69": "340",
                  "70": "2222",
                  "71": "11153",
                  "72": "1",
                  "73": "6",
                  "77": "N"
                },
                {
                  "0": "86efc7a6e048bfe28338552e3a15149c",
                  "1": "Rodel Torres",
                  "2": "Male",
                  "3": "rodel.torres@contoso.com",
                  "4": "Greeley",
                  "5": "CO",
                  "6": "1983-01-28 00:00:00",
                  "7": "839",
                  "8": "4444",
                  "9": "Renewal",
                  "10": "2.0",
                  "12": "4.0",
                  "13": "4.0",
                  "14": "2.0",
                  "15": "4.0",
                  "16": "2.0",
                  "17": "4.0",
                  "21": "839",
                  "22": "4444",
                  "23": "11133",
                  "25": "14",
                  "48": "6",
                  "53": "14",
                  "65": "13",
                  "69": "839",
                  "70": "4444",
                  "71": "11133",
                  "72": "1",
                  "73": "12",
                  "74": "1",
                  "75": "6",
                  "76": "6.0",
                  "77": "N"
                },
                {
                  "0": "74866bdb3f74f7b1e93e99e1cb68eead",
                  "1": "Carita Aalto",
                  "2": "Female",
                  "3": "carita.aalto@contoso.com",
                  "4": "Montgomery",
                  "5": "AL",
                  "6": "1987-03-31 00:00:00",
                  "7": "856",
                  "8": "4444",
                  "9": "Move-in",
                  "11": "2.0",
                  "17": "2.0",
                  "18": "0.0",
                  "19": "0.0",
                  "20": "2.0",
                  "21": "856",
                  "22": "4444",
                  "23": "11139",
                  "29": "2",
                  "50": "6",
                  "69": "856",
                  "70": "4444",
                  "71": "11139",
                  "72": "1",
                  "73": "18",
                  "74": "8",
                  "75": "126",
                  "76": "15.75",
                  "77": "Y"
                },
                {
                  "0": "b9271a7aec79526f4654bd3425eb46c2",
                  "1": "Iria Xamardo",
                  "2": "Female",
                  "3": "iria.xamardo@contoso.com",
                  "4": "Panama City Beach",
                  "5": "FL",
                  "6": "1983-02-01 00:00:00",
                  "7": "1031",
                  "8": "5555",
                  "9": "Move-in",
                  "11": "2.0",
                  "17": "0.0",
                  "18": "0.0",
                  "19": "2.0",
                  "20": "0.0",
                  "21": "1031",
                  "22": "5555",
                  "23": "11141",
                  "41": "7",
                  "69": "1031",
                  "70": "5555",
                  "71": "11141",
                  "72": "1",
                  "73": "6",
                  "77": "N"
                },
                {
                  "0": "d0f616daae55499639a8a5006701961a",
                  "1": "Nicole Wagner",
                  "2": "Female",
                  "3": "nicole.wagner@contoso.com",
                  "4": "Fayetteville",
                  "5": "AR",
                  "6": "1996-12-28 00:00:00",
                  "7": "739",
                  "8": "4444",
                  "9": "Move-in",
                  "11": "4.0",
                  "17": "4.0",
                  "18": "2.0",
                  "19": "2.0",
                  "20": "2.0",
                  "21": "739",
                  "22": "4444",
                  "23": "1113",
                  "44": "9",
                  "57": "9",
                  "60": "6",
                  "66": "13",
                  "69": "739",
                  "70": "4444",
                  "71": "1113",
                  "72": "1",
                  "73": "6",
                  "77": "N"
                }
              ],
              "schema": [
                {
                  "key": "0",
                  "name": "CustomerId",
                  "type": "string"
                },
                {
                  "key": "1",
                  "name": "Name",
                  "type": "string"
                },
                {
                  "key": "2",
                  "name": "Gender",
                  "type": "string"
                },
                {
                  "key": "3",
                  "name": "Email",
                  "type": "string"
                },
                {
                  "key": "4",
                  "name": "City",
                  "type": "string"
                },
                {
                  "key": "5",
                  "name": "State",
                  "type": "string"
                },
                {
                  "key": "6",
                  "name": "DateOfBirth",
                  "type": "timestamp"
                },
                {
                  "key": "7",
                  "name": "cid",
                  "type": "int"
                },
                {
                  "key": "8",
                  "name": "pid",
                  "type": "int"
                },
                {
                  "key": "9",
                  "name": "surveytype",
                  "type": "string"
                },
                {
                  "key": "10",
                  "name": "Condition of Property",
                  "type": "double"
                },
                {
                  "key": "11",
                  "name": "Ease of process",
                  "type": "double"
                },
                {
                  "key": "12",
                  "name": "Maintenance Overall Satisfaction",
                  "type": "double"
                },
                {
                  "key": "13",
                  "name": "Management Communication",
                  "type": "double"
                },
                {
                  "key": "14",
                  "name": "Management Courtesy",
                  "type": "double"
                },
                {
                  "key": "15",
                  "name": "Management Problem Resolution",
                  "type": "double"
                },
                {
                  "key": "16",
                  "name": "Management Professionalism",
                  "type": "double"
                },
                {
                  "key": "17",
                  "name": "Overall Satisfaction",
                  "type": "double"
                },
                {
                  "key": "18",
                  "name": "Staff Communication",
                  "type": "double"
                },
                {
                  "key": "19",
                  "name": "Staff Courtesy",
                  "type": "double"
                },
                {
                  "key": "20",
                  "name": "Staff Professionalism",
                  "type": "double"
                },
                {
                  "key": "21",
                  "name": "woCid",
                  "type": "int"
                },
                {
                  "key": "22",
                  "name": "woPid",
                  "type": "int"
                },
                {
                  "key": "23",
                  "name": "woUid",
                  "type": "int"
                },
                {
                  "key": "24",
                  "name": "Air Conditioning",
                  "type": "bigint"
                },
                {
                  "key": "25",
                  "name": "Air Ducts or Vents",
                  "type": "bigint"
                },
                {
                  "key": "26",
                  "name": "Cabinet Doors",
                  "type": "bigint"
                },
                {
                  "key": "27",
                  "name": "Cabinets",
                  "type": "bigint"
                },
                {
                  "key": "28",
                  "name": "Carpet",
                  "type": "bigint"
                },
                {
                  "key": "29",
                  "name": "Ceiling",
                  "type": "bigint"
                },
                {
                  "key": "30",
                  "name": "Ceiling Fan",
                  "type": "bigint"
                },
                {
                  "key": "31",
                  "name": "Clean Unit",
                  "type": "bigint"
                },
                {
                  "key": "32",
                  "name": "Cleaning",
                  "type": "bigint"
                },
                {
                  "key": "33",
                  "name": "Dishwasher",
                  "type": "bigint"
                },
                {
                  "key": "34",
                  "name": "Door Repair or Replace",
                  "type": "bigint"
                },
                {
                  "key": "35",
                  "name": "Doorbell",
                  "type": "bigint"
                },
                {
                  "key": "36",
                  "name": "Drain",
                  "type": "bigint"
                },
                {
                  "key": "37",
                  "name": "Dryer",
                  "type": "bigint"
                },
                {
                  "key": "38",
                  "name": "Faucet",
                  "type": "bigint"
                },
                {
                  "key": "39",
                  "name": "Filter Replacement",
                  "type": "bigint"
                },
                {
                  "key": "40",
                  "name": "Garage Remote",
                  "type": "bigint"
                },
                {
                  "key": "41",
                  "name": "Garbage Disposal",
                  "type": "bigint"
                },
                {
                  "key": "42",
                  "name": "Heating",
                  "type": "bigint"
                },
                {
                  "key": "43",
                  "name": "Light Bulbs",
                  "type": "bigint"
                },
                {
                  "key": "44",
                  "name": "Light Fixture",
                  "type": "bigint"
                },
                {
                  "key": "45",
                  "name": "Lock or Exterior Door",
                  "type": "bigint"
                },
                {
                  "key": "46",
                  "name": "Lock or Interior Door",
                  "type": "bigint"
                },
                {
                  "key": "47",
                  "name": "Microwave",
                  "type": "bigint"
                },
                {
                  "key": "48",
                  "name": "Other",
                  "type": "bigint"
                },
                {
                  "key": "49",
                  "name": "Outlets",
                  "type": "bigint"
                },
                {
                  "key": "50",
                  "name": "Paint",
                  "type": "bigint"
                },
                {
                  "key": "51",
                  "name": "Pest Control",
                  "type": "bigint"
                },
                {
                  "key": "52",
                  "name": "Refrigerator",
                  "type": "bigint"
                },
                {
                  "key": "53",
                  "name": "Shelves or Drawers",
                  "type": "bigint"
                },
                {
                  "key": "54",
                  "name": "Shower Head",
                  "type": "bigint"
                },
                {
                  "key": "55",
                  "name": "Sink",
                  "type": "bigint"
                },
                {
                  "key": "56",
                  "name": "Sink Stopper",
                  "type": "bigint"
                },
                {
                  "key": "57",
                  "name": "Smoke Detector",
                  "type": "bigint"
                },
                {
                  "key": "58",
                  "name": "Stove or Oven",
                  "type": "bigint"
                },
                {
                  "key": "59",
                  "name": "Switches",
                  "type": "bigint"
                },
                {
                  "key": "60",
                  "name": "Thermostat",
                  "type": "bigint"
                },
                {
                  "key": "61",
                  "name": "Toilet",
                  "type": "bigint"
                },
                {
                  "key": "62",
                  "name": "Towel Bar",
                  "type": "bigint"
                },
                {
                  "key": "63",
                  "name": "Trash Removal",
                  "type": "bigint"
                },
                {
                  "key": "64",
                  "name": "Tub or Shower",
                  "type": "bigint"
                },
                {
                  "key": "65",
                  "name": "Under Sink",
                  "type": "bigint"
                },
                {
                  "key": "66",
                  "name": "Walls",
                  "type": "bigint"
                },
                {
                  "key": "67",
                  "name": "Washer",
                  "type": "bigint"
                },
                {
                  "key": "68",
                  "name": "Windows",
                  "type": "bigint"
                },
                {
                  "key": "69",
                  "name": "leaseCid",
                  "type": "int"
                },
                {
                  "key": "70",
                  "name": "leasePid",
                  "type": "int"
                },
                {
                  "key": "71",
                  "name": "leaseUid",
                  "type": "int"
                },
                {
                  "key": "72",
                  "name": "InitialApplicationCount",
                  "type": "bigint"
                },
                {
                  "key": "73",
                  "name": "InitialLeaseTerm",
                  "type": "bigint"
                },
                {
                  "key": "74",
                  "name": "RenewalApplicationCount",
                  "type": "bigint"
                },
                {
                  "key": "75",
                  "name": "TotalRenewalTerm",
                  "type": "bigint"
                },
                {
                  "key": "76",
                  "name": "averageRenewalLength",
                  "type": "double"
                },
                {
                  "key": "77",
                  "name": "Renewed",
                  "type": "string"
                }
              ],
              "truncated": false
            },
            "isSummary": false,
            "language": "scala"
          },
          "persist_state": {
            "view": {
              "type": "details",
              "tableOptions": {},
              "chartOptions": {
                "chartType": "bar",
                "aggregationType": "sum",
                "categoryFieldKeys": [
                  "0"
                ],
                "seriesFieldKeys": [
                  "7"
                ],
                "isStacked": false
              }
            }
          }
        },
        "31ce7cbb-d346-4563-87d9-ab19a02b5652": {
          "type": "Synapse.DataFrame",
          "sync_state": {
            "table": {
              "rows": [
                {
                  "0": "721567afb26020cf8440fe3669b3f064",
                  "1": "Hana'i  Sharbatly",
                  "2": "Female",
                  "3": "hana'i..sharbatly@contoso.com",
                  "4": "Deale",
                  "5": "MD",
                  "6": "1992-02-28 00:00:00",
                  "7": "100",
                  "8": "1111",
                  "9": "Renewal",
                  "10": "0.0",
                  "12": "0.0",
                  "13": "2.0",
                  "14": "0.0",
                  "15": "2.0",
                  "16": "0.0",
                  "17": "2.0",
                  "21": "100",
                  "22": "1111",
                  "23": "11130",
                  "30": "5",
                  "36": "12",
                  "39": "13",
                  "43": "8",
                  "69": "100",
                  "70": "1111",
                  "71": "11130",
                  "72": "1",
                  "73": "12",
                  "74": "4",
                  "75": "54",
                  "76": "13.5",
                  "77": "Y"
                },
                {
                  "0": "74866bdb3f74f7b1e93e99e1cb68eead",
                  "1": "Carita Aalto",
                  "2": "Female",
                  "3": "carita.aalto@contoso.com",
                  "4": "Montgomery",
                  "5": "AL",
                  "6": "1987-03-31 00:00:00",
                  "7": "856",
                  "8": "4444",
                  "9": "Move-in",
                  "11": "2.0",
                  "17": "2.0",
                  "18": "0.0",
                  "19": "0.0",
                  "20": "2.0",
                  "21": "856",
                  "22": "4444",
                  "23": "11139",
                  "29": "2",
                  "50": "6",
                  "69": "856",
                  "70": "4444",
                  "71": "11139",
                  "72": "1",
                  "73": "18",
                  "74": "8",
                  "75": "126",
                  "76": "15.75",
                  "77": "Y"
                },
                {
                  "0": "d0f616daae55499639a8a5006701961a",
                  "1": "Nicole Wagner",
                  "2": "Female",
                  "3": "nicole.wagner@contoso.com",
                  "4": "Fayetteville",
                  "5": "AR",
                  "6": "1996-12-28 00:00:00",
                  "7": "739",
                  "8": "4444",
                  "9": "Move-in",
                  "11": "4.0",
                  "17": "4.0",
                  "18": "2.0",
                  "19": "2.0",
                  "20": "2.0",
                  "21": "739",
                  "22": "4444",
                  "23": "1113",
                  "44": "9",
                  "57": "9",
                  "60": "6",
                  "66": "13",
                  "69": "739",
                  "70": "4444",
                  "71": "1113",
                  "72": "1",
                  "73": "6",
                  "77": "N"
                },
                {
                  "0": "3cd3010a84326ab8b521bbaeec5681e6",
                  "1": "Vlatko Jovic",
                  "2": "Male",
                  "3": "vlatko.jovic@contoso.com",
                  "4": "Washington",
                  "5": "DC",
                  "6": "1972-04-10 00:00:00",
                  "7": "461",
                  "8": "2222",
                  "9": "Renewal",
                  "10": "2.0",
                  "12": "2.0",
                  "13": "2.0",
                  "14": "2.0",
                  "15": "0.0",
                  "16": "2.0",
                  "17": "0.0",
                  "21": "461",
                  "22": "2222",
                  "23": "11192",
                  "50": "8",
                  "69": "461",
                  "70": "2222",
                  "71": "11192",
                  "72": "1",
                  "73": "36",
                  "74": "3",
                  "75": "54",
                  "76": "18.0",
                  "77": "Y"
                },
                {
                  "0": "d59c226bcdbabe1a5895e0b6c82dff2e",
                  "1": "Mia Steele",
                  "2": "Female",
                  "3": "mia.steele@contoso.com",
                  "4": "Montgomery",
                  "5": "AL",
                  "6": "1988-06-21 00:00:00",
                  "7": "692",
                  "8": "3333",
                  "9": "Move-in",
                  "11": "3.0",
                  "17": "5.0",
                  "18": "5.0",
                  "19": "3.0",
                  "20": "3.0",
                  "21": "692",
                  "22": "3333",
                  "23": "11162",
                  "32": "1",
                  "53": "2",
                  "57": "8",
                  "66": "5",
                  "69": "692",
                  "70": "3333",
                  "71": "11162",
                  "72": "1",
                  "73": "18",
                  "74": "1",
                  "75": "6",
                  "76": "6.0",
                  "77": "N"
                },
                {
                  "0": "25b6b7b31c36fc90594f908feaf3e685",
                  "1": "Shu-hui Chang",
                  "2": "Female",
                  "3": "shu-hui.chang@contoso.com",
                  "4": "Hayward",
                  "5": "CA",
                  "6": "2000-10-11 00:00:00",
                  "7": "433",
                  "8": "2222",
                  "9": "Move-in",
                  "11": "2.0",
                  "17": "0.0",
                  "18": "2.0",
                  "19": "0.0",
                  "20": "2.0",
                  "21": "433",
                  "22": "2222",
                  "23": "11183",
                  "44": "9",
                  "59": "12",
                  "69": "433",
                  "70": "2222",
                  "71": "11183",
                  "72": "1",
                  "73": "18",
                  "74": "7",
                  "75": "126",
                  "76": "18.0",
                  "77": "Y"
                },
                {
                  "0": "f97ab436eaad81ae7df22f5e907caf3b",
                  "1": "Wen Jia",
                  "2": "Male",
                  "3": "wen.jia@contoso.com",
                  "4": "Oakland",
                  "5": "CA",
                  "6": "1978-02-20 00:00:00",
                  "7": "403",
                  "8": "2222",
                  "9": "Move-in",
                  "11": "3.0",
                  "17": "5.0",
                  "18": "3.0",
                  "19": "5.0",
                  "20": "3.0",
                  "21": "403",
                  "22": "2222",
                  "23": "11172",
                  "40": "7",
                  "55": "7",
                  "69": "403",
                  "70": "2222",
                  "71": "11172",
                  "72": "1",
                  "73": "18",
                  "74": "2",
                  "75": "30",
                  "76": "15.0",
                  "77": "Y"
                },
                {
                  "0": "efb32769b8c6b3cc02ec98d2a7a64454",
                  "1": "Szabo David",
                  "2": "Male",
                  "3": "szabo.david@contoso.com",
                  "4": "Fayetteville",
                  "5": "AR",
                  "6": "1991-11-02 00:00:00",
                  "7": "1342",
                  "8": "6666",
                  "9": "Move-in",
                  "11": "2.0",
                  "17": "4.0",
                  "18": "2.0",
                  "19": "4.0",
                  "20": "2.0",
                  "21": "1342",
                  "22": "6666",
                  "23": "11135",
                  "50": "5",
                  "55": "1",
                  "56": "13",
                  "66": "14",
                  "69": "1342",
                  "70": "6666",
                  "71": "11135",
                  "72": "1",
                  "73": "6",
                  "77": "N"
                },
                {
                  "0": "3d21bc722d2550235067e8d8e367bde3",
                  "1": "Biju Banerjee",
                  "2": "Male",
                  "3": "biju.banerjee@contoso.com",
                  "4": "Arvada",
                  "5": "CO",
                  "6": "1972-05-04 00:00:00",
                  "7": "188",
                  "8": "2222",
                  "9": "Move-in",
                  "11": "0.0",
                  "17": "2.0",
                  "18": "2.0",
                  "19": "0.0",
                  "20": "2.0",
                  "21": "188",
                  "22": "2222",
                  "23": "1119",
                  "52": "11",
                  "68": "8",
                  "69": "188",
                  "70": "2222",
                  "71": "1119",
                  "72": "1",
                  "73": "6",
                  "77": "N"
                },
                {
                  "0": "02477d2f648f364bea7eb77e8204f8a4",
                  "1": "Haf Evans",
                  "2": "Female",
                  "3": "haf.evans@contoso.com",
                  "4": "Glendale",
                  "5": "AZ",
                  "6": "1992-02-09 00:00:00",
                  "7": "1745",
                  "8": "8888",
                  "9": "Move-in",
                  "11": "2.0",
                  "17": "0.0",
                  "18": "2.0",
                  "19": "0.0",
                  "20": "2.0",
                  "21": "1745",
                  "22": "8888",
                  "23": "11152",
                  "35": "1",
                  "50": "11",
                  "69": "1745",
                  "70": "8888",
                  "71": "11152",
                  "72": "1",
                  "73": "18",
                  "74": "3",
                  "75": "54",
                  "76": "18.0",
                  "77": "Y"
                }
              ],
              "schema": [
                {
                  "key": "0",
                  "name": "CustomerId",
                  "type": "string"
                },
                {
                  "key": "1",
                  "name": "Name",
                  "type": "string"
                },
                {
                  "key": "2",
                  "name": "Gender",
                  "type": "string"
                },
                {
                  "key": "3",
                  "name": "Email",
                  "type": "string"
                },
                {
                  "key": "4",
                  "name": "City",
                  "type": "string"
                },
                {
                  "key": "5",
                  "name": "State",
                  "type": "string"
                },
                {
                  "key": "6",
                  "name": "DateOfBirth",
                  "type": "timestamp"
                },
                {
                  "key": "7",
                  "name": "cid",
                  "type": "int"
                },
                {
                  "key": "8",
                  "name": "pid",
                  "type": "int"
                },
                {
                  "key": "9",
                  "name": "surveytype",
                  "type": "string"
                },
                {
                  "key": "10",
                  "name": "ConditionofProperty",
                  "type": "double"
                },
                {
                  "key": "11",
                  "name": "Easeofprocess",
                  "type": "double"
                },
                {
                  "key": "12",
                  "name": "MaintenanceOverallSatisfaction",
                  "type": "double"
                },
                {
                  "key": "13",
                  "name": "ManagementCommunication",
                  "type": "double"
                },
                {
                  "key": "14",
                  "name": "ManagementCourtesy",
                  "type": "double"
                },
                {
                  "key": "15",
                  "name": "ManagementProblemResolution",
                  "type": "double"
                },
                {
                  "key": "16",
                  "name": "ManagementProfessionalism",
                  "type": "double"
                },
                {
                  "key": "17",
                  "name": "OverallSatisfaction",
                  "type": "double"
                },
                {
                  "key": "18",
                  "name": "StaffCommunication",
                  "type": "double"
                },
                {
                  "key": "19",
                  "name": "StaffCourtesy",
                  "type": "double"
                },
                {
                  "key": "20",
                  "name": "StaffProfessionalism",
                  "type": "double"
                },
                {
                  "key": "21",
                  "name": "woCid",
                  "type": "int"
                },
                {
                  "key": "22",
                  "name": "woPid",
                  "type": "int"
                },
                {
                  "key": "23",
                  "name": "woUid",
                  "type": "int"
                },
                {
                  "key": "24",
                  "name": "AirConditioning",
                  "type": "bigint"
                },
                {
                  "key": "25",
                  "name": "AirDuctsorVents",
                  "type": "bigint"
                },
                {
                  "key": "26",
                  "name": "CabinetDoors",
                  "type": "bigint"
                },
                {
                  "key": "27",
                  "name": "Cabinets",
                  "type": "bigint"
                },
                {
                  "key": "28",
                  "name": "Carpet",
                  "type": "bigint"
                },
                {
                  "key": "29",
                  "name": "Ceiling",
                  "type": "bigint"
                },
                {
                  "key": "30",
                  "name": "CeilingFan",
                  "type": "bigint"
                },
                {
                  "key": "31",
                  "name": "CleanUnit",
                  "type": "bigint"
                },
                {
                  "key": "32",
                  "name": "Cleaning",
                  "type": "bigint"
                },
                {
                  "key": "33",
                  "name": "Dishwasher",
                  "type": "bigint"
                },
                {
                  "key": "34",
                  "name": "DoorRepairorReplace",
                  "type": "bigint"
                },
                {
                  "key": "35",
                  "name": "Doorbell",
                  "type": "bigint"
                },
                {
                  "key": "36",
                  "name": "Drain",
                  "type": "bigint"
                },
                {
                  "key": "37",
                  "name": "Dryer",
                  "type": "bigint"
                },
                {
                  "key": "38",
                  "name": "Faucet",
                  "type": "bigint"
                },
                {
                  "key": "39",
                  "name": "FilterReplacement",
                  "type": "bigint"
                },
                {
                  "key": "40",
                  "name": "GarageRemote",
                  "type": "bigint"
                },
                {
                  "key": "41",
                  "name": "GarbageDisposal",
                  "type": "bigint"
                },
                {
                  "key": "42",
                  "name": "Heating",
                  "type": "bigint"
                },
                {
                  "key": "43",
                  "name": "LightBulbs",
                  "type": "bigint"
                },
                {
                  "key": "44",
                  "name": "LightFixture",
                  "type": "bigint"
                },
                {
                  "key": "45",
                  "name": "LockorExteriorDoor",
                  "type": "bigint"
                },
                {
                  "key": "46",
                  "name": "LockorInteriorDoor",
                  "type": "bigint"
                },
                {
                  "key": "47",
                  "name": "Microwave",
                  "type": "bigint"
                },
                {
                  "key": "48",
                  "name": "Other",
                  "type": "bigint"
                },
                {
                  "key": "49",
                  "name": "Outlets",
                  "type": "bigint"
                },
                {
                  "key": "50",
                  "name": "Paint",
                  "type": "bigint"
                },
                {
                  "key": "51",
                  "name": "PestControl",
                  "type": "bigint"
                },
                {
                  "key": "52",
                  "name": "Refrigerator",
                  "type": "bigint"
                },
                {
                  "key": "53",
                  "name": "ShelvesorDrawers",
                  "type": "bigint"
                },
                {
                  "key": "54",
                  "name": "ShowerHead",
                  "type": "bigint"
                },
                {
                  "key": "55",
                  "name": "Sink",
                  "type": "bigint"
                },
                {
                  "key": "56",
                  "name": "SinkStopper",
                  "type": "bigint"
                },
                {
                  "key": "57",
                  "name": "SmokeDetector",
                  "type": "bigint"
                },
                {
                  "key": "58",
                  "name": "StoveorOven",
                  "type": "bigint"
                },
                {
                  "key": "59",
                  "name": "Switches",
                  "type": "bigint"
                },
                {
                  "key": "60",
                  "name": "Thermostat",
                  "type": "bigint"
                },
                {
                  "key": "61",
                  "name": "Toilet",
                  "type": "bigint"
                },
                {
                  "key": "62",
                  "name": "TowelBar",
                  "type": "bigint"
                },
                {
                  "key": "63",
                  "name": "TrashRemoval",
                  "type": "bigint"
                },
                {
                  "key": "64",
                  "name": "TuborShower",
                  "type": "bigint"
                },
                {
                  "key": "65",
                  "name": "UnderSink",
                  "type": "bigint"
                },
                {
                  "key": "66",
                  "name": "Walls",
                  "type": "bigint"
                },
                {
                  "key": "67",
                  "name": "Washer",
                  "type": "bigint"
                },
                {
                  "key": "68",
                  "name": "Windows",
                  "type": "bigint"
                },
                {
                  "key": "69",
                  "name": "leaseCid",
                  "type": "int"
                },
                {
                  "key": "70",
                  "name": "leasePid",
                  "type": "int"
                },
                {
                  "key": "71",
                  "name": "leaseUid",
                  "type": "int"
                },
                {
                  "key": "72",
                  "name": "InitialApplicationCount",
                  "type": "bigint"
                },
                {
                  "key": "73",
                  "name": "InitialLeaseTerm",
                  "type": "bigint"
                },
                {
                  "key": "74",
                  "name": "RenewalApplicationCount",
                  "type": "bigint"
                },
                {
                  "key": "75",
                  "name": "TotalRenewalTerm",
                  "type": "bigint"
                },
                {
                  "key": "76",
                  "name": "averageRenewalLength",
                  "type": "double"
                },
                {
                  "key": "77",
                  "name": "Renewed",
                  "type": "string"
                }
              ],
              "truncated": false
            },
            "isSummary": false,
            "language": "scala"
          },
          "persist_state": {
            "view": {
              "type": "details",
              "tableOptions": {},
              "chartOptions": {
                "chartType": "bar",
                "aggregationType": "sum",
                "categoryFieldKeys": [
                  "0"
                ],
                "seriesFieldKeys": [
                  "7"
                ],
                "isStacked": false
              }
            }
          }
        }
      }
    }
  },
  "nbformat": 4,
  "nbformat_minor": 2
}